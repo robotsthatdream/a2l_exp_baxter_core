{
 "cells": [
  {
   "cell_type": "code",
   "execution_count": 64,
   "metadata": {
    "collapsed": false
   },
   "outputs": [
    {
     "ename": "ImportError",
     "evalue": "No module named 'pyAgrum'",
     "output_type": "error",
     "traceback": [
      "\u001b[1;31m---------------------------------------------------------------------------\u001b[0m",
      "\u001b[1;31mImportError\u001b[0m                               Traceback (most recent call last)",
      "\u001b[1;32m<ipython-input-1-b629f05e57d5>\u001b[0m in \u001b[0;36m<module>\u001b[1;34m()\u001b[0m\n\u001b[0;32m      3\u001b[0m \u001b[1;32mimport\u001b[0m \u001b[0mmatplotlib\u001b[0m\u001b[1;33m.\u001b[0m\u001b[0mpyplot\u001b[0m \u001b[1;32mas\u001b[0m \u001b[0mplt\u001b[0m\u001b[1;33m\u001b[0m\u001b[0m\n\u001b[0;32m      4\u001b[0m \u001b[1;33m\u001b[0m\u001b[0m\n\u001b[1;32m----> 5\u001b[1;33m \u001b[1;32mimport\u001b[0m \u001b[0mpyAgrum\u001b[0m \u001b[1;32mas\u001b[0m \u001b[0magrum\u001b[0m\u001b[1;33m\u001b[0m\u001b[0m\n\u001b[0m\u001b[0;32m      6\u001b[0m \u001b[1;32mimport\u001b[0m \u001b[0mpyAgrum\u001b[0m\u001b[1;33m.\u001b[0m\u001b[0mlib\u001b[0m\u001b[1;33m.\u001b[0m\u001b[0mnotebook\u001b[0m \u001b[1;32mas\u001b[0m \u001b[0mnb\u001b[0m\u001b[1;33m\u001b[0m\u001b[0m\n",
      "\u001b[1;31mImportError\u001b[0m: No module named 'pyAgrum'"
     ]
    }
   ],
   "source": [
    "%matplotlib inline\n",
    "from pylab import *\n",
    "import matplotlib.pyplot as plt\n",
    "\n",
    "import pyAgrum as agrum\n",
    "import pyAgrum.lib.notebook as nb"
   ]
  },
  {
   "cell_type": "code",
   "execution_count": 65,
   "metadata": {
    "collapsed": true
   },
   "outputs": [],
   "source": [
    "''' PRINT BN AND STATISTICS'''\n",
    "_effect = 'left'\n",
    "_orientation = 'left-down'\n",
    "posterior = False"
   ]
  },
  {
   "cell_type": "code",
   "execution_count": 69,
   "metadata": {
    "collapsed": false
   },
   "outputs": [
    {
     "data": {
      "text/html": [
       "<div align='center'><svg height=\"260pt\" viewBox=\"0.00 0.00 146.00 260.00\" width=\"146pt\" xmlns=\"http://www.w3.org/2000/svg\" xmlns:xlink=\"http://www.w3.org/1999/xlink\">\n",
       "<g class=\"graph\" id=\"graph0\" transform=\"scale(1 1) rotate(0) translate(4 256)\">\n",
       "<title>G</title>\n",
       "<polygon fill=\"white\" points=\"-4,4 -4,-256 142,-256 142,4 -4,4\" stroke=\"none\"/>\n",
       "<!-- effect -->\n",
       "<g class=\"node\" id=\"node1\"><title>effect</title>\n",
       "<g id=\"a_node1\"><a xlink:title=\"(0) effect\">\n",
       "<ellipse cx=\"30\" cy=\"-162\" fill=\"#444444\" rx=\"30.3206\" ry=\"18\" stroke=\"black\"/>\n",
       "<text fill=\"#ffffff\" font-family=\"Times,serif\" font-size=\"14.00\" text-anchor=\"middle\" x=\"30\" y=\"-158.3\">effect</text>\n",
       "</a>\n",
       "</g>\n",
       "</g>\n",
       "<!-- move -->\n",
       "<g class=\"node\" id=\"node3\"><title>move</title>\n",
       "<g id=\"a_node3\"><a xlink:title=\"(2) move\">\n",
       "<ellipse cx=\"74\" cy=\"-18\" fill=\"#444444\" rx=\"30.3206\" ry=\"18\" stroke=\"black\"/>\n",
       "<text fill=\"#ffffff\" font-family=\"Times,serif\" font-size=\"14.00\" text-anchor=\"middle\" x=\"74\" y=\"-14.3\">move</text>\n",
       "</a>\n",
       "</g>\n",
       "</g>\n",
       "<!-- effect&#45;&gt;move -->\n",
       "<g class=\"edge\" id=\"edge3\"><title>effect-&gt;move</title>\n",
       "<path d=\"M24.9425,-143.935C20.4027,-125.513 15.7488,-95.6341 25,-72 29.8532,-59.6015 39.1185,-48.3651 48.2975,-39.4619\" fill=\"none\" stroke=\"black\"/>\n",
       "<polygon fill=\"black\" points=\"50.8458,-41.8753 55.8888,-32.5576 46.1359,-36.6967 50.8458,-41.8753\" stroke=\"black\"/>\n",
       "</g>\n",
       "<!-- distance -->\n",
       "<g class=\"node\" id=\"node4\"><title>distance</title>\n",
       "<g id=\"a_node4\"><a xlink:title=\"(3) distance\">\n",
       "<ellipse cx=\"74\" cy=\"-90\" fill=\"#444444\" rx=\"39.4691\" ry=\"18\" stroke=\"black\"/>\n",
       "<text fill=\"#ffffff\" font-family=\"Times,serif\" font-size=\"14.00\" text-anchor=\"middle\" x=\"74\" y=\"-86.3\">distance</text>\n",
       "</a>\n",
       "</g>\n",
       "</g>\n",
       "<!-- effect&#45;&gt;distance -->\n",
       "<g class=\"edge\" id=\"edge5\"><title>effect-&gt;distance</title>\n",
       "<path d=\"M40.2051,-144.765C45.5149,-136.317 52.1262,-125.799 58.0895,-116.312\" fill=\"none\" stroke=\"black\"/>\n",
       "<polygon fill=\"black\" points=\"61.1862,-117.962 63.5447,-107.633 55.2597,-114.237 61.1862,-117.962\" stroke=\"black\"/>\n",
       "</g>\n",
       "<!-- orientation -->\n",
       "<g class=\"node\" id=\"node2\"><title>orientation</title>\n",
       "<g id=\"a_node2\"><a xlink:title=\"(1) orientation\">\n",
       "<ellipse cx=\"89\" cy=\"-234\" fill=\"#444444\" rx=\"48.6179\" ry=\"18\" stroke=\"black\"/>\n",
       "<text fill=\"#ffffff\" font-family=\"Times,serif\" font-size=\"14.00\" text-anchor=\"middle\" x=\"89\" y=\"-230.3\">orientation</text>\n",
       "</a>\n",
       "</g>\n",
       "</g>\n",
       "<!-- orientation&#45;&gt;effect -->\n",
       "<g class=\"edge\" id=\"edge2\"><title>orientation-&gt;effect</title>\n",
       "<path d=\"M75.0178,-216.411C67.4571,-207.441 57.9953,-196.215 49.6999,-186.373\" fill=\"none\" stroke=\"black\"/>\n",
       "<polygon fill=\"black\" points=\"52.1944,-183.901 43.0734,-178.511 46.842,-188.413 52.1944,-183.901\" stroke=\"black\"/>\n",
       "</g>\n",
       "<!-- orientation&#45;&gt;move -->\n",
       "<g class=\"edge\" id=\"edge6\"><title>orientation-&gt;move</title>\n",
       "<path d=\"M98.5842,-216.028C114.167,-186.092 141.398,-122.317 122,-72 117.255,-59.6929 108.181,-48.4721 99.1877,-39.5557\" fill=\"none\" stroke=\"black\"/>\n",
       "<polygon fill=\"black\" points=\"101.455,-36.8844 91.7496,-32.6348 96.6864,-42.0091 101.455,-36.8844\" stroke=\"black\"/>\n",
       "</g>\n",
       "<!-- orientation&#45;&gt;distance -->\n",
       "<g class=\"edge\" id=\"edge1\"><title>orientation-&gt;distance</title>\n",
       "<path d=\"M87.1906,-215.871C84.6342,-191.67 79.9378,-147.211 76.8936,-118.393\" fill=\"none\" stroke=\"black\"/>\n",
       "<polygon fill=\"black\" points=\"80.347,-117.766 75.8158,-108.189 73.3857,-118.502 80.347,-117.766\" stroke=\"black\"/>\n",
       "</g>\n",
       "<!-- distance&#45;&gt;move -->\n",
       "<g class=\"edge\" id=\"edge4\"><title>distance-&gt;move</title>\n",
       "<path d=\"M74,-71.6966C74,-63.9827 74,-54.7125 74,-46.1124\" fill=\"none\" stroke=\"black\"/>\n",
       "<polygon fill=\"black\" points=\"77.5001,-46.1043 74,-36.1043 70.5001,-46.1044 77.5001,-46.1043\" stroke=\"black\"/>\n",
       "</g>\n",
       "</g>\n",
       "</svg></div>"
      ],
      "text/plain": [
       "<IPython.core.display.HTML object>"
      ]
     },
     "metadata": {},
     "output_type": "display_data"
    }
   ],
   "source": [
    "bn_extended_hand = agrum.loadBN(\"../generated_files/BN_extended_hand-coded.bif\")\n",
    "nb.showBN(bn_extended_hand, size=\"10\")\n",
    "if posterior:\n",
    "    nb.showPosterior(bn_extended_hand,{'effect':_effect, 'orientation':_orientation, 'distance':'remote'},'move')\n",
    "    nb.showPosterior(bn_extended_hand,{'effect':_effect, 'orientation':_orientation, 'distance':'far'},'move')\n",
    "    nb.showPosterior(bn_extended_hand,{'effect':_effect, 'orientation':_orientation, 'distance':'close'},'move')"
   ]
  },
  {
   "cell_type": "code",
   "execution_count": 70,
   "metadata": {
    "collapsed": false
   },
   "outputs": [
    {
     "data": {
      "text/html": [
       "<div align='center'><svg height=\"188pt\" viewBox=\"0.00 0.00 180.00 188.00\" width=\"180pt\" xmlns=\"http://www.w3.org/2000/svg\" xmlns:xlink=\"http://www.w3.org/1999/xlink\">\n",
       "<g class=\"graph\" id=\"graph0\" transform=\"scale(1 1) rotate(0) translate(4 184)\">\n",
       "<title>G</title>\n",
       "<polygon fill=\"white\" points=\"-4,4 -4,-184 176,-184 176,4 -4,4\" stroke=\"none\"/>\n",
       "<!-- effect -->\n",
       "<g class=\"node\" id=\"node1\"><title>effect</title>\n",
       "<g id=\"a_node1\"><a xlink:title=\"(0) effect\">\n",
       "<ellipse cx=\"30\" cy=\"-18\" fill=\"#444444\" rx=\"30.3206\" ry=\"18\" stroke=\"black\"/>\n",
       "<text fill=\"#ffffff\" font-family=\"Times,serif\" font-size=\"14.00\" text-anchor=\"middle\" x=\"30\" y=\"-14.3\">effect</text>\n",
       "</a>\n",
       "</g>\n",
       "</g>\n",
       "<!-- orientation -->\n",
       "<g class=\"node\" id=\"node2\"><title>orientation</title>\n",
       "<g id=\"a_node2\"><a xlink:title=\"(1) orientation\">\n",
       "<ellipse cx=\"82\" cy=\"-162\" fill=\"#444444\" rx=\"48.6179\" ry=\"18\" stroke=\"black\"/>\n",
       "<text fill=\"#ffffff\" font-family=\"Times,serif\" font-size=\"14.00\" text-anchor=\"middle\" x=\"82\" y=\"-158.3\">orientation</text>\n",
       "</a>\n",
       "</g>\n",
       "</g>\n",
       "<!-- orientation&#45;&gt;effect -->\n",
       "<g class=\"edge\" id=\"edge2\"><title>orientation-&gt;effect</title>\n",
       "<path d=\"M66.2102,-144.735C57.6136,-134.896 47.6136,-121.646 42,-108 33.9063,-88.325 31.0315,-64.3385 30.1115,-46.2266\" fill=\"none\" stroke=\"black\"/>\n",
       "<polygon fill=\"black\" points=\"33.6038,-45.935 29.7665,-36.0595 26.6078,-46.1725 33.6038,-45.935\" stroke=\"black\"/>\n",
       "</g>\n",
       "<!-- move -->\n",
       "<g class=\"node\" id=\"node3\"><title>move</title>\n",
       "<g id=\"a_node3\"><a xlink:title=\"(2) move\">\n",
       "<ellipse cx=\"82\" cy=\"-90\" fill=\"#444444\" rx=\"30.3206\" ry=\"18\" stroke=\"black\"/>\n",
       "<text fill=\"#ffffff\" font-family=\"Times,serif\" font-size=\"14.00\" text-anchor=\"middle\" x=\"82\" y=\"-86.3\">move</text>\n",
       "</a>\n",
       "</g>\n",
       "</g>\n",
       "<!-- orientation&#45;&gt;move -->\n",
       "<g class=\"edge\" id=\"edge5\"><title>orientation-&gt;move</title>\n",
       "<path d=\"M82,-143.697C82,-135.983 82,-126.712 82,-118.112\" fill=\"none\" stroke=\"black\"/>\n",
       "<polygon fill=\"black\" points=\"85.5001,-118.104 82,-108.104 78.5001,-118.104 85.5001,-118.104\" stroke=\"black\"/>\n",
       "</g>\n",
       "<!-- distance -->\n",
       "<g class=\"node\" id=\"node4\"><title>distance</title>\n",
       "<g id=\"a_node4\"><a xlink:title=\"(3) distance\">\n",
       "<ellipse cx=\"133\" cy=\"-18\" fill=\"#444444\" rx=\"39.4691\" ry=\"18\" stroke=\"black\"/>\n",
       "<text fill=\"#ffffff\" font-family=\"Times,serif\" font-size=\"14.00\" text-anchor=\"middle\" x=\"133\" y=\"-14.3\">distance</text>\n",
       "</a>\n",
       "</g>\n",
       "</g>\n",
       "<!-- orientation&#45;&gt;distance -->\n",
       "<g class=\"edge\" id=\"edge1\"><title>orientation-&gt;distance</title>\n",
       "<path d=\"M97.3893,-144.668C105.769,-134.807 115.519,-121.557 121,-108 128.974,-88.2763 131.857,-64.293 132.81,-46.1948\" fill=\"none\" stroke=\"black\"/>\n",
       "<polygon fill=\"black\" points=\"136.314,-46.1569 133.178,-36.0368 129.318,-45.9037 136.314,-46.1569\" stroke=\"black\"/>\n",
       "</g>\n",
       "<!-- move&#45;&gt;effect -->\n",
       "<g class=\"edge\" id=\"edge4\"><title>move-&gt;effect</title>\n",
       "<path d=\"M70.2004,-73.1159C63.6184,-64.2555 55.2848,-53.0373 47.9141,-43.1152\" fill=\"none\" stroke=\"black\"/>\n",
       "<polygon fill=\"black\" points=\"50.5258,-40.7615 41.7529,-34.8212 44.9066,-44.9358 50.5258,-40.7615\" stroke=\"black\"/>\n",
       "</g>\n",
       "<!-- move&#45;&gt;distance -->\n",
       "<g class=\"edge\" id=\"edge3\"><title>move-&gt;distance</title>\n",
       "<path d=\"M93.5727,-73.1159C99.9372,-64.3803 107.972,-53.3528 115.124,-43.5352\" fill=\"none\" stroke=\"black\"/>\n",
       "<polygon fill=\"black\" points=\"118.059,-45.4504 121.119,-35.307 112.402,-41.3284 118.059,-45.4504\" stroke=\"black\"/>\n",
       "</g>\n",
       "</g>\n",
       "</svg></div>"
      ],
      "text/plain": [
       "<IPython.core.display.HTML object>"
      ]
     },
     "metadata": {},
     "output_type": "display_data"
    }
   ],
   "source": [
    "bn_extended_hill = agrum.loadBN(\"../generated_files/BN_extended_hillclimbing.bif\")\n",
    "nb.showBN(bn_extended_hill, size=\"10\")\n",
    "if posterior:\n",
    "    nb.showPosterior(bn_extended_hill,{'effect':_effect, 'orientation':_orientation, 'distance':'remote'},'move')\n",
    "    nb.showPosterior(bn_extended_hill,{'effect':_effect, 'orientation':_orientation, 'distance':'far'},'move')\n",
    "    nb.showPosterior(bn_extended_hill,{'effect':_effect, 'orientation':_orientation, 'distance':'close'},'move')"
   ]
  },
  {
   "cell_type": "code",
   "execution_count": 71,
   "metadata": {
    "collapsed": false
   },
   "outputs": [
    {
     "data": {
      "text/html": [
       "<div align='center'><svg height=\"260pt\" viewBox=\"0.00 0.00 145.00 260.00\" width=\"145pt\" xmlns=\"http://www.w3.org/2000/svg\" xmlns:xlink=\"http://www.w3.org/1999/xlink\">\n",
       "<g class=\"graph\" id=\"graph0\" transform=\"scale(1 1) rotate(0) translate(4 256)\">\n",
       "<title>G</title>\n",
       "<polygon fill=\"white\" points=\"-4,4 -4,-256 141,-256 141,4 -4,4\" stroke=\"none\"/>\n",
       "<!-- effect -->\n",
       "<g class=\"node\" id=\"node1\"><title>effect</title>\n",
       "<g id=\"a_node1\"><a xlink:title=\"(0) effect\">\n",
       "<ellipse cx=\"86\" cy=\"-18\" fill=\"#444444\" rx=\"30.3206\" ry=\"18\" stroke=\"black\"/>\n",
       "<text fill=\"#ffffff\" font-family=\"Times,serif\" font-size=\"14.00\" text-anchor=\"middle\" x=\"86\" y=\"-14.3\">effect</text>\n",
       "</a>\n",
       "</g>\n",
       "</g>\n",
       "<!-- orientation -->\n",
       "<g class=\"node\" id=\"node2\"><title>orientation</title>\n",
       "<g id=\"a_node2\"><a xlink:title=\"(1) orientation\">\n",
       "<ellipse cx=\"48\" cy=\"-90\" fill=\"#444444\" rx=\"48.6179\" ry=\"18\" stroke=\"black\"/>\n",
       "<text fill=\"#ffffff\" font-family=\"Times,serif\" font-size=\"14.00\" text-anchor=\"middle\" x=\"48\" y=\"-86.3\">orientation</text>\n",
       "</a>\n",
       "</g>\n",
       "</g>\n",
       "<!-- orientation&#45;&gt;effect -->\n",
       "<g class=\"edge\" id=\"edge1\"><title>orientation-&gt;effect</title>\n",
       "<path d=\"M57.1987,-72.055C61.7455,-63.6793 67.3236,-53.4039 72.3558,-44.1341\" fill=\"none\" stroke=\"black\"/>\n",
       "<polygon fill=\"black\" points=\"75.4527,-45.7654 77.1476,-35.307 69.3007,-42.4257 75.4527,-45.7654\" stroke=\"black\"/>\n",
       "</g>\n",
       "<!-- move -->\n",
       "<g class=\"node\" id=\"node3\"><title>move</title>\n",
       "<g id=\"a_node3\"><a xlink:title=\"(2) move\">\n",
       "<ellipse cx=\"107\" cy=\"-162\" fill=\"#444444\" rx=\"30.3206\" ry=\"18\" stroke=\"black\"/>\n",
       "<text fill=\"#ffffff\" font-family=\"Times,serif\" font-size=\"14.00\" text-anchor=\"middle\" x=\"107\" y=\"-158.3\">move</text>\n",
       "</a>\n",
       "</g>\n",
       "</g>\n",
       "<!-- move&#45;&gt;effect -->\n",
       "<g class=\"edge\" id=\"edge4\"><title>move-&gt;effect</title>\n",
       "<path d=\"M108.235,-143.771C109.153,-125.719 109.565,-96.6179 105,-72 103.353,-63.1174 100.419,-53.7405 97.3414,-45.384\" fill=\"none\" stroke=\"black\"/>\n",
       "<polygon fill=\"black\" points=\"100.495,-43.8377 93.5937,-35.7988 93.9755,-46.3868 100.495,-43.8377\" stroke=\"black\"/>\n",
       "</g>\n",
       "<!-- move&#45;&gt;orientation -->\n",
       "<g class=\"edge\" id=\"edge5\"><title>move-&gt;orientation</title>\n",
       "<path d=\"M93.906,-145.465C86.4054,-136.566 76.83,-125.205 68.3671,-115.164\" fill=\"none\" stroke=\"black\"/>\n",
       "<polygon fill=\"black\" points=\"71.0004,-112.858 61.8795,-107.467 65.648,-117.369 71.0004,-112.858\" stroke=\"black\"/>\n",
       "</g>\n",
       "<!-- distance -->\n",
       "<g class=\"node\" id=\"node4\"><title>distance</title>\n",
       "<g id=\"a_node4\"><a xlink:title=\"(3) distance\">\n",
       "<ellipse cx=\"77\" cy=\"-234\" fill=\"#444444\" rx=\"39.4691\" ry=\"18\" stroke=\"black\"/>\n",
       "<text fill=\"#ffffff\" font-family=\"Times,serif\" font-size=\"14.00\" text-anchor=\"middle\" x=\"77\" y=\"-230.3\">distance</text>\n",
       "</a>\n",
       "</g>\n",
       "</g>\n",
       "<!-- distance&#45;&gt;orientation -->\n",
       "<g class=\"edge\" id=\"edge2\"><title>distance-&gt;orientation</title>\n",
       "<path d=\"M73.5019,-215.871C68.5376,-191.564 59.3996,-146.819 53.5168,-118.013\" fill=\"none\" stroke=\"black\"/>\n",
       "<polygon fill=\"black\" points=\"56.9407,-117.287 51.5105,-108.189 50.0823,-118.687 56.9407,-117.287\" stroke=\"black\"/>\n",
       "</g>\n",
       "<!-- distance&#45;&gt;move -->\n",
       "<g class=\"edge\" id=\"edge3\"><title>distance-&gt;move</title>\n",
       "<path d=\"M84.2622,-216.055C87.726,-207.973 91.948,-198.121 95.8093,-189.112\" fill=\"none\" stroke=\"black\"/>\n",
       "<polygon fill=\"black\" points=\"99.0825,-190.359 99.8047,-179.789 92.6485,-187.602 99.0825,-190.359\" stroke=\"black\"/>\n",
       "</g>\n",
       "</g>\n",
       "</svg></div>"
      ],
      "text/plain": [
       "<IPython.core.display.HTML object>"
      ]
     },
     "metadata": {},
     "output_type": "display_data"
    }
   ],
   "source": [
    "bn_extended_k2 = agrum.loadBN(\"../generated_files/BN_extended_k2.bif\")\n",
    "nb.showBN(bn_extended_k2, size=\"10\")\n",
    "if posterior:\n",
    "    nb.showPosterior(bn_extended_k2,{'effect':_effect, 'orientation':_orientation, 'distance':'remote'},'move')\n",
    "    nb.showPosterior(bn_extended_k2,{'effect':_effect, 'orientation':_orientation, 'distance':'far'},'move')\n",
    "    nb.showPosterior(bn_extended_k2,{'effect':_effect, 'orientation':_orientation, 'distance':'close'},'move')"
   ]
  },
  {
   "cell_type": "code",
   "execution_count": null,
   "metadata": {
    "collapsed": true
   },
   "outputs": [],
   "source": []
  },
  {
   "cell_type": "code",
   "execution_count": null,
   "metadata": {
    "collapsed": true
   },
   "outputs": [],
   "source": []
  }
 ],
 "metadata": {
  "kernelspec": {
   "display_name": "Python 3",
   "language": "python",
   "name": "python3"
  },
  "language_info": {
   "codemirror_mode": {
    "name": "ipython",
    "version": 3
   },
   "file_extension": ".py",
   "mimetype": "text/x-python",
   "name": "python",
   "nbconvert_exporter": "python",
   "pygments_lexer": "ipython3",
   "version": "3.4.3"
  }
 },
 "nbformat": 4,
 "nbformat_minor": 0
}
