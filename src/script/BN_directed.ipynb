{
 "cells": [
  {
   "cell_type": "code",
   "execution_count": 1,
   "metadata": {
    "collapsed": false
   },
   "outputs": [
    {
     "name": "stderr",
     "output_type": "stream",
     "text": [
      "/usr/lib/pymodules/python2.7/matplotlib/__init__.py:935: UserWarning: Bad val \"1\" on line #398\n",
      "\t\"pdf.fonttype       : 1         # Output Type 3 (Type3) or Type 42 (TrueType)\n",
      "\"\n",
      "\tin file \"/etc/matplotlibrc\"\n",
      "\tSupported Postscript/PDF font types are [42, 3]\n",
      "  \"%s\"\\n\\t%s' % (val, cnt, line, fname, msg))\n"
     ]
    }
   ],
   "source": [
    "%matplotlib inline\n",
    "from pylab import *\n",
    "import matplotlib.pyplot as plt\n",
    "\n",
    "import pyAgrum as agrum\n",
    "import pyAgrum.lib.notebook as nb"
   ]
  },
  {
   "cell_type": "code",
   "execution_count": 7,
   "metadata": {
    "collapsed": false
   },
   "outputs": [
    {
     "data": {
      "text/plain": [
       "'\\n\\nDIRECTED\\n\\n'"
      ]
     },
     "execution_count": 7,
     "metadata": {},
     "output_type": "execute_result"
    }
   ],
   "source": [
    "'''\n",
    "\n",
    "DIRECTED\n",
    "\n",
    "'''"
   ]
  },
  {
   "cell_type": "code",
   "execution_count": 8,
   "metadata": {
    "collapsed": true
   },
   "outputs": [],
   "source": [
    "''' PRINT BN AND STATISTICS'''\n",
    "_effect = 'left'\n",
    "_orientation = 'down'"
   ]
  },
  {
   "cell_type": "code",
   "execution_count": 10,
   "metadata": {
    "collapsed": false
   },
   "outputs": [
    {
     "data": {
      "text/html": [
       "<div align='center'><svg height=\"116pt\" viewBox=\"0.00 0.00 308.00 116.00\" width=\"308pt\" xmlns=\"http://www.w3.org/2000/svg\" xmlns:xlink=\"http://www.w3.org/1999/xlink\">\n",
       "<g class=\"graph\" id=\"graph0\" transform=\"scale(1 1) rotate(0) translate(4 112)\">\n",
       "<title>G</title>\n",
       "<polygon fill=\"white\" points=\"-4,4 -4,-112 304,-112 304,4 -4,4\" stroke=\"none\"/>\n",
       "<!-- effect -->\n",
       "<g class=\"node\" id=\"node1\"><title>effect</title>\n",
       "<g id=\"a_node1\"><a xlink:title=\"(0) effect\">\n",
       "<ellipse cx=\"53\" cy=\"-18\" fill=\"#444444\" rx=\"30.3206\" ry=\"18\" stroke=\"black\"/>\n",
       "<text fill=\"#ffffff\" font-family=\"Times,serif\" font-size=\"14.00\" text-anchor=\"middle\" x=\"53\" y=\"-14.3\">effect</text>\n",
       "</a>\n",
       "</g>\n",
       "</g>\n",
       "<!-- move -->\n",
       "<g class=\"node\" id=\"node2\"><title>move</title>\n",
       "<g id=\"a_node2\"><a xlink:title=\"(1) move\">\n",
       "<ellipse cx=\"155\" cy=\"-90\" fill=\"#444444\" rx=\"30.3206\" ry=\"18\" stroke=\"black\"/>\n",
       "<text fill=\"#ffffff\" font-family=\"Times,serif\" font-size=\"14.00\" text-anchor=\"middle\" x=\"155\" y=\"-86.3\">move</text>\n",
       "</a>\n",
       "</g>\n",
       "</g>\n",
       "<!-- distance0 -->\n",
       "<g class=\"node\" id=\"node3\"><title>distance0</title>\n",
       "<g id=\"a_node3\"><a xlink:title=\"(2) distance0\">\n",
       "<ellipse cx=\"248\" cy=\"-90\" fill=\"#444444\" rx=\"44.2946\" ry=\"18\" stroke=\"black\"/>\n",
       "<text fill=\"#ffffff\" font-family=\"Times,serif\" font-size=\"14.00\" text-anchor=\"middle\" x=\"248\" y=\"-86.3\">distance0</text>\n",
       "</a>\n",
       "</g>\n",
       "</g>\n",
       "<!-- inclination0 -->\n",
       "<g class=\"node\" id=\"node5\"><title>inclination0</title>\n",
       "<g id=\"a_node5\"><a xlink:title=\"(4) inclination0\">\n",
       "<ellipse cx=\"248\" cy=\"-18\" fill=\"#444444\" rx=\"52.4675\" ry=\"18\" stroke=\"black\"/>\n",
       "<text fill=\"#ffffff\" font-family=\"Times,serif\" font-size=\"14.00\" text-anchor=\"middle\" x=\"248\" y=\"-14.3\">inclination0</text>\n",
       "</a>\n",
       "</g>\n",
       "</g>\n",
       "<!-- distance0&#45;&gt;inclination0 -->\n",
       "<g class=\"edge\" id=\"edge2\"><title>distance0-&gt;inclination0</title>\n",
       "<path d=\"M248,-71.6966C248,-63.9827 248,-54.7125 248,-46.1124\" fill=\"none\" stroke=\"black\"/>\n",
       "<polygon fill=\"black\" points=\"251.5,-46.1043 248,-36.1043 244.5,-46.1044 251.5,-46.1043\" stroke=\"black\"/>\n",
       "</g>\n",
       "<!-- orientation0 -->\n",
       "<g class=\"node\" id=\"node4\"><title>orientation0</title>\n",
       "<g id=\"a_node4\"><a xlink:title=\"(3) orientation0\">\n",
       "<ellipse cx=\"53\" cy=\"-90\" fill=\"#444444\" rx=\"52.9443\" ry=\"18\" stroke=\"black\"/>\n",
       "<text fill=\"#ffffff\" font-family=\"Times,serif\" font-size=\"14.00\" text-anchor=\"middle\" x=\"53\" y=\"-86.3\">orientation0</text>\n",
       "</a>\n",
       "</g>\n",
       "</g>\n",
       "<!-- orientation0&#45;&gt;effect -->\n",
       "<g class=\"edge\" id=\"edge1\"><title>orientation0-&gt;effect</title>\n",
       "<path d=\"M53,-71.6966C53,-63.9827 53,-54.7125 53,-46.1124\" fill=\"none\" stroke=\"black\"/>\n",
       "<polygon fill=\"black\" points=\"56.5001,-46.1043 53,-36.1043 49.5001,-46.1044 56.5001,-46.1043\" stroke=\"black\"/>\n",
       "</g>\n",
       "</g>\n",
       "</svg></div>"
      ],
      "text/plain": [
       "<IPython.core.display.HTML object>"
      ]
     },
     "metadata": {},
     "output_type": "display_data"
    }
   ],
   "source": [
    "bn_dir_hard = agrum.loadBN(\"../generated_files/BN_directed_hard-coded.bif\")\n",
    "nb.showBN(bn_dir_hard, size=\"10\")\n",
    "#nb.showPosterior(bn_dir_hand,{'effect':_effect, 'orientation':_orientation, 'distance':'remote'},'move')\n",
    "#nb.showPosterior(bn_dir_hand,{'effect':_effect, 'orientation':_orientation, 'distance':'far'},'move')\n",
    "#nb.showPosterior(bn_dir_hand,{'effect':_effect, 'orientation':_orientation, 'distance':'close'},'move')"
   ]
  },
  {
   "cell_type": "code",
   "execution_count": 9,
   "metadata": {
    "collapsed": false
   },
   "outputs": [
    {
     "data": {
      "text/html": [
       "<div align='center'><svg height=\"188pt\" viewBox=\"0.00 0.00 201.00 188.00\" width=\"201pt\" xmlns=\"http://www.w3.org/2000/svg\" xmlns:xlink=\"http://www.w3.org/1999/xlink\">\n",
       "<g class=\"graph\" id=\"graph0\" transform=\"scale(1 1) rotate(0) translate(4 184)\">\n",
       "<title>G</title>\n",
       "<polygon fill=\"white\" points=\"-4,4 -4,-184 197,-184 197,4 -4,4\" stroke=\"none\"/>\n",
       "<!-- effect -->\n",
       "<g class=\"node\" id=\"node1\"><title>effect</title>\n",
       "<g id=\"a_node1\"><a xlink:title=\"(0) effect\">\n",
       "<ellipse cx=\"48\" cy=\"-90\" fill=\"#444444\" rx=\"30.3206\" ry=\"18\" stroke=\"black\"/>\n",
       "<text fill=\"#ffffff\" font-family=\"Times,serif\" font-size=\"14.00\" text-anchor=\"middle\" x=\"48\" y=\"-86.3\">effect</text>\n",
       "</a>\n",
       "</g>\n",
       "</g>\n",
       "<!-- move -->\n",
       "<g class=\"node\" id=\"node3\"><title>move</title>\n",
       "<g id=\"a_node3\"><a xlink:title=\"(2) move\">\n",
       "<ellipse cx=\"48\" cy=\"-18\" fill=\"#444444\" rx=\"30.3206\" ry=\"18\" stroke=\"black\"/>\n",
       "<text fill=\"#ffffff\" font-family=\"Times,serif\" font-size=\"14.00\" text-anchor=\"middle\" x=\"48\" y=\"-14.3\">move</text>\n",
       "</a>\n",
       "</g>\n",
       "</g>\n",
       "<!-- effect&#45;&gt;move -->\n",
       "<g class=\"edge\" id=\"edge2\"><title>effect-&gt;move</title>\n",
       "<path d=\"M48,-71.6966C48,-63.9827 48,-54.7125 48,-46.1124\" fill=\"none\" stroke=\"black\"/>\n",
       "<polygon fill=\"black\" points=\"51.5001,-46.1043 48,-36.1043 44.5001,-46.1044 51.5001,-46.1043\" stroke=\"black\"/>\n",
       "</g>\n",
       "<!-- orientation -->\n",
       "<g class=\"node\" id=\"node2\"><title>orientation</title>\n",
       "<g id=\"a_node2\"><a xlink:title=\"(1) orientation\">\n",
       "<ellipse cx=\"48\" cy=\"-162\" fill=\"#444444\" rx=\"48.6179\" ry=\"18\" stroke=\"black\"/>\n",
       "<text fill=\"#ffffff\" font-family=\"Times,serif\" font-size=\"14.00\" text-anchor=\"middle\" x=\"48\" y=\"-158.3\">orientation</text>\n",
       "</a>\n",
       "</g>\n",
       "</g>\n",
       "<!-- orientation&#45;&gt;effect -->\n",
       "<g class=\"edge\" id=\"edge1\"><title>orientation-&gt;effect</title>\n",
       "<path d=\"M48,-143.697C48,-135.983 48,-126.712 48,-118.112\" fill=\"none\" stroke=\"black\"/>\n",
       "<polygon fill=\"black\" points=\"51.5001,-118.104 48,-108.104 44.5001,-118.104 51.5001,-118.104\" stroke=\"black\"/>\n",
       "</g>\n",
       "<!-- distance -->\n",
       "<g class=\"node\" id=\"node4\"><title>distance</title>\n",
       "<g id=\"a_node4\"><a xlink:title=\"(3) distance\">\n",
       "<ellipse cx=\"154\" cy=\"-162\" fill=\"#444444\" rx=\"39.4691\" ry=\"18\" stroke=\"black\"/>\n",
       "<text fill=\"#ffffff\" font-family=\"Times,serif\" font-size=\"14.00\" text-anchor=\"middle\" x=\"154\" y=\"-158.3\">distance</text>\n",
       "</a>\n",
       "</g>\n",
       "</g>\n",
       "</g>\n",
       "</svg></div>"
      ],
      "text/plain": [
       "<IPython.core.display.HTML object>"
      ]
     },
     "metadata": {},
     "output_type": "display_data"
    },
    {
     "ename": "OutOfBounds",
     "evalue": "Out of bound : label 'remote' is unknown in distance<dist_2,dist_1,dist_0>",
     "output_type": "error",
     "traceback": [
      "\u001b[1;31m---------------------------------------------------------------------------\u001b[0m",
      "\u001b[1;31mOutOfBounds\u001b[0m                               Traceback (most recent call last)",
      "\u001b[1;32m<ipython-input-9-a8f295dea85d>\u001b[0m in \u001b[0;36m<module>\u001b[1;34m()\u001b[0m\n\u001b[0;32m      1\u001b[0m \u001b[0mbn_dir_hill\u001b[0m \u001b[1;33m=\u001b[0m \u001b[0magrum\u001b[0m\u001b[1;33m.\u001b[0m\u001b[0mloadBN\u001b[0m\u001b[1;33m(\u001b[0m\u001b[1;34m\"../generated_files/BN_directed_hillclimbing.bif\"\u001b[0m\u001b[1;33m)\u001b[0m\u001b[1;33m\u001b[0m\u001b[0m\n\u001b[0;32m      2\u001b[0m \u001b[0mnb\u001b[0m\u001b[1;33m.\u001b[0m\u001b[0mshowBN\u001b[0m\u001b[1;33m(\u001b[0m\u001b[0mbn_dir_hill\u001b[0m\u001b[1;33m,\u001b[0m \u001b[0msize\u001b[0m\u001b[1;33m=\u001b[0m\u001b[1;34m\"10\"\u001b[0m\u001b[1;33m)\u001b[0m\u001b[1;33m\u001b[0m\u001b[0m\n\u001b[1;32m----> 3\u001b[1;33m \u001b[0mnb\u001b[0m\u001b[1;33m.\u001b[0m\u001b[0mshowPosterior\u001b[0m\u001b[1;33m(\u001b[0m\u001b[0mbn_dir_hill\u001b[0m\u001b[1;33m,\u001b[0m\u001b[1;33m{\u001b[0m\u001b[1;34m'effect'\u001b[0m\u001b[1;33m:\u001b[0m\u001b[0m_effect\u001b[0m\u001b[1;33m,\u001b[0m \u001b[1;34m'orientation'\u001b[0m\u001b[1;33m:\u001b[0m\u001b[0m_orientation\u001b[0m\u001b[1;33m,\u001b[0m \u001b[1;34m'distance'\u001b[0m\u001b[1;33m:\u001b[0m\u001b[1;34m'remote'\u001b[0m\u001b[1;33m}\u001b[0m\u001b[1;33m,\u001b[0m\u001b[1;34m'move'\u001b[0m\u001b[1;33m)\u001b[0m\u001b[1;33m\u001b[0m\u001b[0m\n\u001b[0m\u001b[0;32m      4\u001b[0m \u001b[0mnb\u001b[0m\u001b[1;33m.\u001b[0m\u001b[0mshowPosterior\u001b[0m\u001b[1;33m(\u001b[0m\u001b[0mbn_dir_hill\u001b[0m\u001b[1;33m,\u001b[0m\u001b[1;33m{\u001b[0m\u001b[1;34m'effect'\u001b[0m\u001b[1;33m:\u001b[0m\u001b[0m_effect\u001b[0m\u001b[1;33m,\u001b[0m \u001b[1;34m'orientation'\u001b[0m\u001b[1;33m:\u001b[0m\u001b[0m_orientation\u001b[0m\u001b[1;33m,\u001b[0m \u001b[1;34m'distance'\u001b[0m\u001b[1;33m:\u001b[0m\u001b[1;34m'far'\u001b[0m\u001b[1;33m}\u001b[0m\u001b[1;33m,\u001b[0m\u001b[1;34m'move'\u001b[0m\u001b[1;33m)\u001b[0m\u001b[1;33m\u001b[0m\u001b[0m\n\u001b[0;32m      5\u001b[0m \u001b[0mnb\u001b[0m\u001b[1;33m.\u001b[0m\u001b[0mshowPosterior\u001b[0m\u001b[1;33m(\u001b[0m\u001b[0mbn_dir_hill\u001b[0m\u001b[1;33m,\u001b[0m\u001b[1;33m{\u001b[0m\u001b[1;34m'effect'\u001b[0m\u001b[1;33m:\u001b[0m\u001b[0m_effect\u001b[0m\u001b[1;33m,\u001b[0m \u001b[1;34m'orientation'\u001b[0m\u001b[1;33m:\u001b[0m\u001b[0m_orientation\u001b[0m\u001b[1;33m,\u001b[0m \u001b[1;34m'distance'\u001b[0m\u001b[1;33m:\u001b[0m\u001b[1;34m'close'\u001b[0m\u001b[1;33m}\u001b[0m\u001b[1;33m,\u001b[0m\u001b[1;34m'move'\u001b[0m\u001b[1;33m)\u001b[0m\u001b[1;33m\u001b[0m\u001b[0m\n",
      "\u001b[1;32m/usr/lib/python2.7/dist-packages/pyAgrum/lib/notebook.py\u001b[0m in \u001b[0;36mshowPosterior\u001b[1;34m(bn, ev, target)\u001b[0m\n\u001b[0;32m    101\u001b[0m     \u001b[0mshortcut\u001b[0m \u001b[1;32mfor\u001b[0m \u001b[0mshowProba\u001b[0m\u001b[1;33m(\u001b[0m\u001b[0mgetPosterior\u001b[0m\u001b[1;33m(\u001b[0m\u001b[0mbn\u001b[0m\u001b[1;33m,\u001b[0m\u001b[0mev\u001b[0m\u001b[1;33m,\u001b[0m\u001b[0mtarget\u001b[0m\u001b[1;33m)\u001b[0m\u001b[1;33m)\u001b[0m\u001b[1;33m\u001b[0m\u001b[0m\n\u001b[0;32m    102\u001b[0m     \"\"\"\n\u001b[1;32m--> 103\u001b[1;33m     \u001b[0mshowProba\u001b[0m\u001b[1;33m(\u001b[0m\u001b[0mgetPosterior\u001b[0m\u001b[1;33m(\u001b[0m\u001b[0mbn\u001b[0m\u001b[1;33m,\u001b[0m\u001b[0mev\u001b[0m\u001b[1;33m,\u001b[0m\u001b[0mtarget\u001b[0m\u001b[1;33m)\u001b[0m\u001b[1;33m)\u001b[0m\u001b[1;33m\u001b[0m\u001b[0m\n\u001b[0m\u001b[0;32m    104\u001b[0m \u001b[1;33m\u001b[0m\u001b[0m\n\u001b[0;32m    105\u001b[0m \u001b[1;32mdef\u001b[0m \u001b[0manimApproximationScheme\u001b[0m\u001b[1;33m(\u001b[0m\u001b[0mapsc\u001b[0m\u001b[1;33m,\u001b[0m\u001b[0mscale\u001b[0m\u001b[1;33m=\u001b[0m\u001b[0mnp\u001b[0m\u001b[1;33m.\u001b[0m\u001b[0mlog10\u001b[0m\u001b[1;33m)\u001b[0m\u001b[1;33m:\u001b[0m\u001b[1;33m\u001b[0m\u001b[0m\n",
      "\u001b[1;32m/usr/lib/python2.7/dist-packages/pyAgrum/lib/notebook.py\u001b[0m in \u001b[0;36mgetPosterior\u001b[1;34m(bn, ev, target)\u001b[0m\n\u001b[0;32m     69\u001b[0m     \"\"\"\n\u001b[0;32m     70\u001b[0m     \u001b[0minf\u001b[0m\u001b[1;33m=\u001b[0m\u001b[0mgum\u001b[0m\u001b[1;33m.\u001b[0m\u001b[0mLazyPropagation\u001b[0m\u001b[1;33m(\u001b[0m\u001b[0mbn\u001b[0m\u001b[1;33m)\u001b[0m\u001b[1;33m\u001b[0m\u001b[0m\n\u001b[1;32m---> 71\u001b[1;33m     \u001b[0minf\u001b[0m\u001b[1;33m.\u001b[0m\u001b[0msetEvidence\u001b[0m\u001b[1;33m(\u001b[0m\u001b[0mev\u001b[0m\u001b[1;33m)\u001b[0m\u001b[1;33m\u001b[0m\u001b[0m\n\u001b[0m\u001b[0;32m     72\u001b[0m     \u001b[0minf\u001b[0m\u001b[1;33m.\u001b[0m\u001b[0mmakeInference\u001b[0m\u001b[1;33m(\u001b[0m\u001b[1;33m)\u001b[0m\u001b[1;33m\u001b[0m\u001b[0m\n\u001b[0;32m     73\u001b[0m     \u001b[1;32mreturn\u001b[0m \u001b[0mgum\u001b[0m\u001b[1;33m.\u001b[0m\u001b[0mPotential\u001b[0m\u001b[1;33m(\u001b[0m\u001b[0minf\u001b[0m\u001b[1;33m.\u001b[0m\u001b[0mposterior\u001b[0m\u001b[1;33m(\u001b[0m\u001b[0mbn\u001b[0m\u001b[1;33m.\u001b[0m\u001b[0midFromName\u001b[0m\u001b[1;33m(\u001b[0m\u001b[0mtarget\u001b[0m\u001b[1;33m)\u001b[0m\u001b[1;33m)\u001b[0m\u001b[1;33m)\u001b[0m\u001b[1;33m\u001b[0m\u001b[0m\n",
      "\u001b[1;32m/usr/lib/python2.7/dist-packages/pyAgrum/pyAgrum.py\u001b[0m in \u001b[0;36msetEvidence\u001b[1;34m(self, evidces)\u001b[0m\n\u001b[0;32m   4678\u001b[0m                         \u001b[0mindex\u001b[0m \u001b[1;33m=\u001b[0m \u001b[0mevidce\u001b[0m\u001b[1;33m\u001b[0m\u001b[0m\n\u001b[0;32m   4679\u001b[0m                     \u001b[1;32melif\u001b[0m \u001b[0misinstance\u001b[0m\u001b[1;33m(\u001b[0m\u001b[0mevidce\u001b[0m\u001b[1;33m,\u001b[0m \u001b[0mstr\u001b[0m\u001b[1;33m)\u001b[0m\u001b[1;33m:\u001b[0m\u001b[1;33m\u001b[0m\u001b[0m\n\u001b[1;32m-> 4680\u001b[1;33m                         \u001b[0mindex\u001b[0m \u001b[1;33m=\u001b[0m \u001b[0mcast_var\u001b[0m\u001b[1;33m[\u001b[0m\u001b[0mevidce\u001b[0m\u001b[1;33m]\u001b[0m\u001b[1;33m\u001b[0m\u001b[0m\n\u001b[0m\u001b[0;32m   4681\u001b[0m                     \u001b[1;32melse\u001b[0m\u001b[1;33m:\u001b[0m\u001b[1;33m\u001b[0m\u001b[0m\n\u001b[0;32m   4682\u001b[0m                         \u001b[1;32mraise\u001b[0m \u001b[0mTypeError\u001b[0m\u001b[1;33m(\u001b[0m\u001b[1;34m'values of the dict must be int or string'\u001b[0m\u001b[1;33m)\u001b[0m\u001b[1;33m\u001b[0m\u001b[0m\n",
      "\u001b[1;32m/usr/lib/python2.7/dist-packages/pyAgrum/pyAgrum.py\u001b[0m in \u001b[0;36m__getitem__\u001b[1;34m(self, label)\u001b[0m\n\u001b[0;32m   2251\u001b[0m \u001b[1;33m\u001b[0m\u001b[0m\n\u001b[0;32m   2252\u001b[0m     \u001b[1;32mdef\u001b[0m \u001b[0m__getitem__\u001b[0m\u001b[1;33m(\u001b[0m\u001b[0mself\u001b[0m\u001b[1;33m,\u001b[0m\u001b[0mlabel\u001b[0m\u001b[1;33m)\u001b[0m\u001b[1;33m:\u001b[0m   \u001b[1;31m# adding the y() function here\u001b[0m\u001b[1;33m\u001b[0m\u001b[0m\n\u001b[1;32m-> 2253\u001b[1;33m         \u001b[1;32mreturn\u001b[0m \u001b[0mself\u001b[0m\u001b[1;33m.\u001b[0m\u001b[0mindex\u001b[0m\u001b[1;33m(\u001b[0m\u001b[0mlabel\u001b[0m\u001b[1;33m)\u001b[0m\u001b[1;33m\u001b[0m\u001b[0m\n\u001b[0m\u001b[0;32m   2254\u001b[0m \u001b[1;33m\u001b[0m\u001b[0m\n\u001b[0;32m   2255\u001b[0m \u001b[1;33m\u001b[0m\u001b[0m\n",
      "\u001b[1;32m/usr/lib/python2.7/dist-packages/pyAgrum/pyAgrum.py\u001b[0m in \u001b[0;36mindex\u001b[1;34m(self, label)\u001b[0m\n\u001b[0;32m   2305\u001b[0m     \u001b[1;32mdef\u001b[0m \u001b[0mindex\u001b[0m\u001b[1;33m(\u001b[0m\u001b[0mself\u001b[0m\u001b[1;33m,\u001b[0m \u001b[0mlabel\u001b[0m\u001b[1;33m)\u001b[0m\u001b[1;33m:\u001b[0m\u001b[1;33m\u001b[0m\u001b[0m\n\u001b[0;32m   2306\u001b[0m         \u001b[1;34m\"\"\"index(LabelizedVariable self, std::string const & label) -> gum::Idx\"\"\"\u001b[0m\u001b[1;33m\u001b[0m\u001b[0m\n\u001b[1;32m-> 2307\u001b[1;33m         \u001b[1;32mreturn\u001b[0m \u001b[0m_pyAgrum\u001b[0m\u001b[1;33m.\u001b[0m\u001b[0mLabelizedVariable_index\u001b[0m\u001b[1;33m(\u001b[0m\u001b[0mself\u001b[0m\u001b[1;33m,\u001b[0m \u001b[0mlabel\u001b[0m\u001b[1;33m)\u001b[0m\u001b[1;33m\u001b[0m\u001b[0m\n\u001b[0m\u001b[0;32m   2308\u001b[0m \u001b[1;33m\u001b[0m\u001b[0m\n\u001b[0;32m   2309\u001b[0m \u001b[1;33m\u001b[0m\u001b[0m\n",
      "\u001b[1;31mOutOfBounds\u001b[0m: Out of bound : label 'remote' is unknown in distance<dist_2,dist_1,dist_0>"
     ]
    }
   ],
   "source": [
    "bn_dir_hill = agrum.loadBN(\"../generated_files/BN_directed_hillclimbing.bif\")\n",
    "nb.showBN(bn_dir_hill, size=\"10\")\n",
    "nb.showPosterior(bn_dir_hill,{'effect':_effect, 'orientation':_orientation, 'distance':'remote'},'move')\n",
    "nb.showPosterior(bn_dir_hill,{'effect':_effect, 'orientation':_orientation, 'distance':'far'},'move')\n",
    "nb.showPosterior(bn_dir_hill,{'effect':_effect, 'orientation':_orientation, 'distance':'close'},'move')"
   ]
  },
  {
   "cell_type": "code",
   "execution_count": 16,
   "metadata": {
    "collapsed": false
   },
   "outputs": [
    {
     "data": {
      "text/html": [
       "<div align='center'><svg height=\"188pt\" viewBox=\"0.00 0.00 183.00 188.00\" width=\"183pt\" xmlns=\"http://www.w3.org/2000/svg\" xmlns:xlink=\"http://www.w3.org/1999/xlink\">\n",
       "<g class=\"graph\" id=\"graph0\" transform=\"scale(1 1) rotate(0) translate(4 184)\">\n",
       "<title>G</title>\n",
       "<polygon fill=\"white\" points=\"-4,4 -4,-184 179,-184 179,4 -4,4\" stroke=\"none\"/>\n",
       "<!-- effect -->\n",
       "<g class=\"node\" id=\"node1\"><title>effect</title>\n",
       "<g id=\"a_node1\"><a xlink:title=\"(0) effect\">\n",
       "<ellipse cx=\"48\" cy=\"-18\" fill=\"#444444\" rx=\"30.3206\" ry=\"18\" stroke=\"black\"/>\n",
       "<text fill=\"#ffffff\" font-family=\"Times,serif\" font-size=\"14.00\" text-anchor=\"middle\" x=\"48\" y=\"-14.3\">effect</text>\n",
       "</a>\n",
       "</g>\n",
       "</g>\n",
       "<!-- orientation -->\n",
       "<g class=\"node\" id=\"node2\"><title>orientation</title>\n",
       "<g id=\"a_node2\"><a xlink:title=\"(1) orientation\">\n",
       "<ellipse cx=\"48\" cy=\"-90\" fill=\"#444444\" rx=\"48.6179\" ry=\"18\" stroke=\"black\"/>\n",
       "<text fill=\"#ffffff\" font-family=\"Times,serif\" font-size=\"14.00\" text-anchor=\"middle\" x=\"48\" y=\"-86.3\">orientation</text>\n",
       "</a>\n",
       "</g>\n",
       "</g>\n",
       "<!-- orientation&#45;&gt;effect -->\n",
       "<g class=\"edge\" id=\"edge1\"><title>orientation-&gt;effect</title>\n",
       "<path d=\"M48,-71.6966C48,-63.9827 48,-54.7125 48,-46.1124\" fill=\"none\" stroke=\"black\"/>\n",
       "<polygon fill=\"black\" points=\"51.5001,-46.1043 48,-36.1043 44.5001,-46.1044 51.5001,-46.1043\" stroke=\"black\"/>\n",
       "</g>\n",
       "<!-- move -->\n",
       "<g class=\"node\" id=\"node3\"><title>move</title>\n",
       "<g id=\"a_node3\"><a xlink:title=\"(2) move\">\n",
       "<ellipse cx=\"48\" cy=\"-162\" fill=\"#444444\" rx=\"30.3206\" ry=\"18\" stroke=\"black\"/>\n",
       "<text fill=\"#ffffff\" font-family=\"Times,serif\" font-size=\"14.00\" text-anchor=\"middle\" x=\"48\" y=\"-158.3\">move</text>\n",
       "</a>\n",
       "</g>\n",
       "</g>\n",
       "<!-- move&#45;&gt;orientation -->\n",
       "<g class=\"edge\" id=\"edge2\"><title>move-&gt;orientation</title>\n",
       "<path d=\"M48,-143.697C48,-135.983 48,-126.712 48,-118.112\" fill=\"none\" stroke=\"black\"/>\n",
       "<polygon fill=\"black\" points=\"51.5001,-118.104 48,-108.104 44.5001,-118.104 51.5001,-118.104\" stroke=\"black\"/>\n",
       "</g>\n",
       "<!-- distance -->\n",
       "<g class=\"node\" id=\"node4\"><title>distance</title>\n",
       "<g id=\"a_node4\"><a xlink:title=\"(3) distance\">\n",
       "<ellipse cx=\"136\" cy=\"-162\" fill=\"#444444\" rx=\"39.4691\" ry=\"18\" stroke=\"black\"/>\n",
       "<text fill=\"#ffffff\" font-family=\"Times,serif\" font-size=\"14.00\" text-anchor=\"middle\" x=\"136\" y=\"-158.3\">distance</text>\n",
       "</a>\n",
       "</g>\n",
       "</g>\n",
       "</g>\n",
       "</svg></div>"
      ],
      "text/plain": [
       "<IPython.core.display.HTML object>"
      ]
     },
     "metadata": {},
     "output_type": "display_data"
    },
    {
     "data": {
      "image/png": "[encoded data removed]",
      "text/plain": [
       "<matplotlib.figure.Figure at 0x7f51de4615d0>"
      ]
     },
     "metadata": {},
     "output_type": "display_data"
    },
    {
     "data": {
      "image/png": "[encoded data removed]",
      "text/plain": [
       "<matplotlib.figure.Figure at 0x7f51de687090>"
      ]
     },
     "metadata": {},
     "output_type": "display_data"
    },
    {
     "data": {
      "image/png": "[encoded data removed]",
      "text/plain": [
       "<matplotlib.figure.Figure at 0x7f51ddf59ed0>"
      ]
     },
     "metadata": {},
     "output_type": "display_data"
    }
   ],
   "source": [
    "bn_dir_k2 = agrum.loadBN(\"../generated_files/BN_directed_k2.bif\")\n",
    "nb.showBN(bn_dir_k2, size=\"10\")\n",
    "nb.showPosterior(bn_dir_k2,{'effect':_effect, 'orientation':_orientation, 'distance':'remote'},'move')\n",
    "nb.showPosterior(bn_dir_k2,{'effect':_effect, 'orientation':_orientation, 'distance':'far'},'move')\n",
    "nb.showPosterior(bn_dir_k2,{'effect':_effect, 'orientation':_orientation, 'distance':'close'},'move')"
   ]
  },
  {
   "cell_type": "code",
   "execution_count": null,
   "metadata": {
    "collapsed": true
   },
   "outputs": [],
   "source": []
  },
  {
   "cell_type": "code",
   "execution_count": null,
   "metadata": {
    "collapsed": true
   },
   "outputs": [],
   "source": []
  }
 ],
 "metadata": {
  "kernelspec": {
   "display_name": "Python 2",
   "language": "python",
   "name": "python2"
  },
  "language_info": {
   "codemirror_mode": {
    "name": "ipython",
    "version": 2
   },
   "file_extension": ".py",
   "mimetype": "text/x-python",
   "name": "python",
   "nbconvert_exporter": "python",
   "pygments_lexer": "ipython2",
   "version": "2.7.6"
  }
 },
 "nbformat": 4,
 "nbformat_minor": 0
}
