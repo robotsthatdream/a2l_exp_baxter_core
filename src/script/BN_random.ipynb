{
 "cells": [
  {
   "cell_type": "code",
   "execution_count": 1,
   "metadata": {
    "collapsed": false
   },
   "outputs": [
    {
     "name": "stderr",
     "output_type": "stream",
     "text": [
      "/usr/lib/pymodules/python2.7/matplotlib/__init__.py:935: UserWarning: Bad val \"1\" on line #398\n",
      "\t\"pdf.fonttype       : 1         # Output Type 3 (Type3) or Type 42 (TrueType)\n",
      "\"\n",
      "\tin file \"/etc/matplotlibrc\"\n",
      "\tSupported Postscript/PDF font types are [42, 3]\n",
      "  \"%s\"\\n\\t%s' % (val, cnt, line, fname, msg))\n"
     ]
    }
   ],
   "source": [
    "%matplotlib inline\n",
    "from pylab import *\n",
    "import matplotlib.pyplot as plt\n",
    "\n",
    "import pyAgrum as agrum\n",
    "import pyAgrum.lib.notebook as nb"
   ]
  },
  {
   "cell_type": "code",
   "execution_count": 2,
   "metadata": {
    "collapsed": true
   },
   "outputs": [],
   "source": [
    "''' PRINT BN AND STATISTICS'''\n",
    "_effect = 'right'\n",
    "_orientation = 'left-down'\n",
    "_distance = 'dist_0'\n",
    "posterior = True"
   ]
  },
  {
   "cell_type": "code",
   "execution_count": 3,
   "metadata": {
    "collapsed": false
   },
   "outputs": [
    {
     "data": {
      "text/html": [
       "<div align='center'><svg height=\"260pt\" viewBox=\"0.00 0.00 146.00 260.00\" width=\"146pt\" xmlns=\"http://www.w3.org/2000/svg\" xmlns:xlink=\"http://www.w3.org/1999/xlink\">\n",
       "<g class=\"graph\" id=\"graph0\" transform=\"scale(1 1) rotate(0) translate(4 256)\">\n",
       "<title>G</title>\n",
       "<polygon fill=\"white\" points=\"-4,4 -4,-256 142,-256 142,4 -4,4\" stroke=\"none\"/>\n",
       "<!-- effect -->\n",
       "<g class=\"node\" id=\"node1\"><title>effect</title>\n",
       "<g id=\"a_node1\"><a xlink:title=\"(0) effect\">\n",
       "<ellipse cx=\"30\" cy=\"-162\" fill=\"#444444\" rx=\"30.3206\" ry=\"18\" stroke=\"black\"/>\n",
       "<text fill=\"#ffffff\" font-family=\"Times,serif\" font-size=\"14.00\" text-anchor=\"middle\" x=\"30\" y=\"-158.3\">effect</text>\n",
       "</a>\n",
       "</g>\n",
       "</g>\n",
       "<!-- move -->\n",
       "<g class=\"node\" id=\"node3\"><title>move</title>\n",
       "<g id=\"a_node3\"><a xlink:title=\"(2) move\">\n",
       "<ellipse cx=\"74\" cy=\"-18\" fill=\"#444444\" rx=\"30.3206\" ry=\"18\" stroke=\"black\"/>\n",
       "<text fill=\"#ffffff\" font-family=\"Times,serif\" font-size=\"14.00\" text-anchor=\"middle\" x=\"74\" y=\"-14.3\">move</text>\n",
       "</a>\n",
       "</g>\n",
       "</g>\n",
       "<!-- effect&#45;&gt;move -->\n",
       "<g class=\"edge\" id=\"edge3\"><title>effect-&gt;move</title>\n",
       "<path d=\"M24.9425,-143.935C20.4027,-125.513 15.7488,-95.6341 25,-72 29.8532,-59.6015 39.1185,-48.3651 48.2975,-39.4619\" fill=\"none\" stroke=\"black\"/>\n",
       "<polygon fill=\"black\" points=\"50.8458,-41.8753 55.8888,-32.5576 46.1359,-36.6967 50.8458,-41.8753\" stroke=\"black\"/>\n",
       "</g>\n",
       "<!-- distance -->\n",
       "<g class=\"node\" id=\"node4\"><title>distance</title>\n",
       "<g id=\"a_node4\"><a xlink:title=\"(3) distance\">\n",
       "<ellipse cx=\"74\" cy=\"-90\" fill=\"#444444\" rx=\"39.4691\" ry=\"18\" stroke=\"black\"/>\n",
       "<text fill=\"#ffffff\" font-family=\"Times,serif\" font-size=\"14.00\" text-anchor=\"middle\" x=\"74\" y=\"-86.3\">distance</text>\n",
       "</a>\n",
       "</g>\n",
       "</g>\n",
       "<!-- effect&#45;&gt;distance -->\n",
       "<g class=\"edge\" id=\"edge5\"><title>effect-&gt;distance</title>\n",
       "<path d=\"M40.2051,-144.765C45.5149,-136.317 52.1262,-125.799 58.0895,-116.312\" fill=\"none\" stroke=\"black\"/>\n",
       "<polygon fill=\"black\" points=\"61.1862,-117.962 63.5447,-107.633 55.2597,-114.237 61.1862,-117.962\" stroke=\"black\"/>\n",
       "</g>\n",
       "<!-- orientation -->\n",
       "<g class=\"node\" id=\"node2\"><title>orientation</title>\n",
       "<g id=\"a_node2\"><a xlink:title=\"(1) orientation\">\n",
       "<ellipse cx=\"89\" cy=\"-234\" fill=\"#444444\" rx=\"48.6179\" ry=\"18\" stroke=\"black\"/>\n",
       "<text fill=\"#ffffff\" font-family=\"Times,serif\" font-size=\"14.00\" text-anchor=\"middle\" x=\"89\" y=\"-230.3\">orientation</text>\n",
       "</a>\n",
       "</g>\n",
       "</g>\n",
       "<!-- orientation&#45;&gt;effect -->\n",
       "<g class=\"edge\" id=\"edge2\"><title>orientation-&gt;effect</title>\n",
       "<path d=\"M75.0178,-216.411C67.4571,-207.441 57.9953,-196.215 49.6999,-186.373\" fill=\"none\" stroke=\"black\"/>\n",
       "<polygon fill=\"black\" points=\"52.1944,-183.901 43.0734,-178.511 46.842,-188.413 52.1944,-183.901\" stroke=\"black\"/>\n",
       "</g>\n",
       "<!-- orientation&#45;&gt;move -->\n",
       "<g class=\"edge\" id=\"edge6\"><title>orientation-&gt;move</title>\n",
       "<path d=\"M98.5842,-216.028C114.167,-186.092 141.398,-122.317 122,-72 117.255,-59.6929 108.181,-48.4721 99.1877,-39.5557\" fill=\"none\" stroke=\"black\"/>\n",
       "<polygon fill=\"black\" points=\"101.455,-36.8844 91.7496,-32.6348 96.6864,-42.0091 101.455,-36.8844\" stroke=\"black\"/>\n",
       "</g>\n",
       "<!-- orientation&#45;&gt;distance -->\n",
       "<g class=\"edge\" id=\"edge1\"><title>orientation-&gt;distance</title>\n",
       "<path d=\"M87.1906,-215.871C84.6342,-191.67 79.9378,-147.211 76.8936,-118.393\" fill=\"none\" stroke=\"black\"/>\n",
       "<polygon fill=\"black\" points=\"80.347,-117.766 75.8158,-108.189 73.3857,-118.502 80.347,-117.766\" stroke=\"black\"/>\n",
       "</g>\n",
       "<!-- distance&#45;&gt;move -->\n",
       "<g class=\"edge\" id=\"edge4\"><title>distance-&gt;move</title>\n",
       "<path d=\"M74,-71.6966C74,-63.9827 74,-54.7125 74,-46.1124\" fill=\"none\" stroke=\"black\"/>\n",
       "<polygon fill=\"black\" points=\"77.5001,-46.1043 74,-36.1043 70.5001,-46.1044 77.5001,-46.1043\" stroke=\"black\"/>\n",
       "</g>\n",
       "</g>\n",
       "</svg></div>"
      ],
      "text/plain": [
       "<IPython.core.display.HTML object>"
      ]
     },
     "metadata": {},
     "output_type": "display_data"
    },
    {
     "ename": "OutOfBounds",
     "evalue": "Out of bound : label 'remote' is unknown in distance<dist_2,dist_1,dist_0>",
     "output_type": "error",
     "traceback": [
      "\u001b[1;31m---------------------------------------------------------------------------\u001b[0m",
      "\u001b[1;31mOutOfBounds\u001b[0m                               Traceback (most recent call last)",
      "\u001b[1;32m<ipython-input-3-e6e2d5fcb668>\u001b[0m in \u001b[0;36m<module>\u001b[1;34m()\u001b[0m\n\u001b[0;32m      2\u001b[0m \u001b[0mnb\u001b[0m\u001b[1;33m.\u001b[0m\u001b[0mshowBN\u001b[0m\u001b[1;33m(\u001b[0m\u001b[0mbn_random_hand\u001b[0m\u001b[1;33m,\u001b[0m \u001b[0msize\u001b[0m\u001b[1;33m=\u001b[0m\u001b[1;34m\"10\"\u001b[0m\u001b[1;33m)\u001b[0m\u001b[1;33m\u001b[0m\u001b[0m\n\u001b[0;32m      3\u001b[0m \u001b[1;32mif\u001b[0m \u001b[0mposterior\u001b[0m\u001b[1;33m:\u001b[0m\u001b[1;33m\u001b[0m\u001b[0m\n\u001b[1;32m----> 4\u001b[1;33m     \u001b[0mnb\u001b[0m\u001b[1;33m.\u001b[0m\u001b[0mshowPosterior\u001b[0m\u001b[1;33m(\u001b[0m\u001b[0mbn_random_hand\u001b[0m\u001b[1;33m,\u001b[0m\u001b[1;33m{\u001b[0m\u001b[1;34m'effect'\u001b[0m\u001b[1;33m:\u001b[0m\u001b[0m_effect\u001b[0m\u001b[1;33m,\u001b[0m \u001b[1;34m'orientation'\u001b[0m\u001b[1;33m:\u001b[0m\u001b[0m_orientation\u001b[0m\u001b[1;33m,\u001b[0m \u001b[1;34m'distance'\u001b[0m\u001b[1;33m:\u001b[0m\u001b[1;34m'remote'\u001b[0m\u001b[1;33m}\u001b[0m\u001b[1;33m,\u001b[0m\u001b[1;34m'move'\u001b[0m\u001b[1;33m)\u001b[0m\u001b[1;33m\u001b[0m\u001b[0m\n\u001b[0m\u001b[0;32m      5\u001b[0m     \u001b[0mnb\u001b[0m\u001b[1;33m.\u001b[0m\u001b[0mshowPosterior\u001b[0m\u001b[1;33m(\u001b[0m\u001b[0mbn_random_hand\u001b[0m\u001b[1;33m,\u001b[0m\u001b[1;33m{\u001b[0m\u001b[1;34m'effect'\u001b[0m\u001b[1;33m:\u001b[0m\u001b[0m_effect\u001b[0m\u001b[1;33m,\u001b[0m \u001b[1;34m'orientation'\u001b[0m\u001b[1;33m:\u001b[0m\u001b[0m_orientation\u001b[0m\u001b[1;33m,\u001b[0m \u001b[1;34m'distance'\u001b[0m\u001b[1;33m:\u001b[0m\u001b[1;34m'far'\u001b[0m\u001b[1;33m}\u001b[0m\u001b[1;33m,\u001b[0m\u001b[1;34m'move'\u001b[0m\u001b[1;33m)\u001b[0m\u001b[1;33m\u001b[0m\u001b[0m\n\u001b[0;32m      6\u001b[0m     \u001b[0mnb\u001b[0m\u001b[1;33m.\u001b[0m\u001b[0mshowPosterior\u001b[0m\u001b[1;33m(\u001b[0m\u001b[0mbn_random_hand\u001b[0m\u001b[1;33m,\u001b[0m\u001b[1;33m{\u001b[0m\u001b[1;34m'effect'\u001b[0m\u001b[1;33m:\u001b[0m\u001b[0m_effect\u001b[0m\u001b[1;33m,\u001b[0m \u001b[1;34m'orientation'\u001b[0m\u001b[1;33m:\u001b[0m\u001b[0m_orientation\u001b[0m\u001b[1;33m,\u001b[0m \u001b[1;34m'distance'\u001b[0m\u001b[1;33m:\u001b[0m\u001b[1;34m'close'\u001b[0m\u001b[1;33m}\u001b[0m\u001b[1;33m,\u001b[0m\u001b[1;34m'move'\u001b[0m\u001b[1;33m)\u001b[0m\u001b[1;33m\u001b[0m\u001b[0m\n",
      "\u001b[1;32m/usr/lib/python2.7/dist-packages/pyAgrum/lib/notebook.py\u001b[0m in \u001b[0;36mshowPosterior\u001b[1;34m(bn, ev, target)\u001b[0m\n\u001b[0;32m    101\u001b[0m     \u001b[0mshortcut\u001b[0m \u001b[1;32mfor\u001b[0m \u001b[0mshowProba\u001b[0m\u001b[1;33m(\u001b[0m\u001b[0mgetPosterior\u001b[0m\u001b[1;33m(\u001b[0m\u001b[0mbn\u001b[0m\u001b[1;33m,\u001b[0m\u001b[0mev\u001b[0m\u001b[1;33m,\u001b[0m\u001b[0mtarget\u001b[0m\u001b[1;33m)\u001b[0m\u001b[1;33m)\u001b[0m\u001b[1;33m\u001b[0m\u001b[0m\n\u001b[0;32m    102\u001b[0m     \"\"\"\n\u001b[1;32m--> 103\u001b[1;33m     \u001b[0mshowProba\u001b[0m\u001b[1;33m(\u001b[0m\u001b[0mgetPosterior\u001b[0m\u001b[1;33m(\u001b[0m\u001b[0mbn\u001b[0m\u001b[1;33m,\u001b[0m\u001b[0mev\u001b[0m\u001b[1;33m,\u001b[0m\u001b[0mtarget\u001b[0m\u001b[1;33m)\u001b[0m\u001b[1;33m)\u001b[0m\u001b[1;33m\u001b[0m\u001b[0m\n\u001b[0m\u001b[0;32m    104\u001b[0m \u001b[1;33m\u001b[0m\u001b[0m\n\u001b[0;32m    105\u001b[0m \u001b[1;32mdef\u001b[0m \u001b[0manimApproximationScheme\u001b[0m\u001b[1;33m(\u001b[0m\u001b[0mapsc\u001b[0m\u001b[1;33m,\u001b[0m\u001b[0mscale\u001b[0m\u001b[1;33m=\u001b[0m\u001b[0mnp\u001b[0m\u001b[1;33m.\u001b[0m\u001b[0mlog10\u001b[0m\u001b[1;33m)\u001b[0m\u001b[1;33m:\u001b[0m\u001b[1;33m\u001b[0m\u001b[0m\n",
      "\u001b[1;32m/usr/lib/python2.7/dist-packages/pyAgrum/lib/notebook.py\u001b[0m in \u001b[0;36mgetPosterior\u001b[1;34m(bn, ev, target)\u001b[0m\n\u001b[0;32m     69\u001b[0m     \"\"\"\n\u001b[0;32m     70\u001b[0m     \u001b[0minf\u001b[0m\u001b[1;33m=\u001b[0m\u001b[0mgum\u001b[0m\u001b[1;33m.\u001b[0m\u001b[0mLazyPropagation\u001b[0m\u001b[1;33m(\u001b[0m\u001b[0mbn\u001b[0m\u001b[1;33m)\u001b[0m\u001b[1;33m\u001b[0m\u001b[0m\n\u001b[1;32m---> 71\u001b[1;33m     \u001b[0minf\u001b[0m\u001b[1;33m.\u001b[0m\u001b[0msetEvidence\u001b[0m\u001b[1;33m(\u001b[0m\u001b[0mev\u001b[0m\u001b[1;33m)\u001b[0m\u001b[1;33m\u001b[0m\u001b[0m\n\u001b[0m\u001b[0;32m     72\u001b[0m     \u001b[0minf\u001b[0m\u001b[1;33m.\u001b[0m\u001b[0mmakeInference\u001b[0m\u001b[1;33m(\u001b[0m\u001b[1;33m)\u001b[0m\u001b[1;33m\u001b[0m\u001b[0m\n\u001b[0;32m     73\u001b[0m     \u001b[1;32mreturn\u001b[0m \u001b[0mgum\u001b[0m\u001b[1;33m.\u001b[0m\u001b[0mPotential\u001b[0m\u001b[1;33m(\u001b[0m\u001b[0minf\u001b[0m\u001b[1;33m.\u001b[0m\u001b[0mposterior\u001b[0m\u001b[1;33m(\u001b[0m\u001b[0mbn\u001b[0m\u001b[1;33m.\u001b[0m\u001b[0midFromName\u001b[0m\u001b[1;33m(\u001b[0m\u001b[0mtarget\u001b[0m\u001b[1;33m)\u001b[0m\u001b[1;33m)\u001b[0m\u001b[1;33m)\u001b[0m\u001b[1;33m\u001b[0m\u001b[0m\n",
      "\u001b[1;32m/usr/lib/python2.7/dist-packages/pyAgrum/pyAgrum.py\u001b[0m in \u001b[0;36msetEvidence\u001b[1;34m(self, evidces)\u001b[0m\n\u001b[0;32m   4678\u001b[0m                         \u001b[0mindex\u001b[0m \u001b[1;33m=\u001b[0m \u001b[0mevidce\u001b[0m\u001b[1;33m\u001b[0m\u001b[0m\n\u001b[0;32m   4679\u001b[0m                     \u001b[1;32melif\u001b[0m \u001b[0misinstance\u001b[0m\u001b[1;33m(\u001b[0m\u001b[0mevidce\u001b[0m\u001b[1;33m,\u001b[0m \u001b[0mstr\u001b[0m\u001b[1;33m)\u001b[0m\u001b[1;33m:\u001b[0m\u001b[1;33m\u001b[0m\u001b[0m\n\u001b[1;32m-> 4680\u001b[1;33m                         \u001b[0mindex\u001b[0m \u001b[1;33m=\u001b[0m \u001b[0mcast_var\u001b[0m\u001b[1;33m[\u001b[0m\u001b[0mevidce\u001b[0m\u001b[1;33m]\u001b[0m\u001b[1;33m\u001b[0m\u001b[0m\n\u001b[0m\u001b[0;32m   4681\u001b[0m                     \u001b[1;32melse\u001b[0m\u001b[1;33m:\u001b[0m\u001b[1;33m\u001b[0m\u001b[0m\n\u001b[0;32m   4682\u001b[0m                         \u001b[1;32mraise\u001b[0m \u001b[0mTypeError\u001b[0m\u001b[1;33m(\u001b[0m\u001b[1;34m'values of the dict must be int or string'\u001b[0m\u001b[1;33m)\u001b[0m\u001b[1;33m\u001b[0m\u001b[0m\n",
      "\u001b[1;32m/usr/lib/python2.7/dist-packages/pyAgrum/pyAgrum.py\u001b[0m in \u001b[0;36m__getitem__\u001b[1;34m(self, label)\u001b[0m\n\u001b[0;32m   2251\u001b[0m \u001b[1;33m\u001b[0m\u001b[0m\n\u001b[0;32m   2252\u001b[0m     \u001b[1;32mdef\u001b[0m \u001b[0m__getitem__\u001b[0m\u001b[1;33m(\u001b[0m\u001b[0mself\u001b[0m\u001b[1;33m,\u001b[0m\u001b[0mlabel\u001b[0m\u001b[1;33m)\u001b[0m\u001b[1;33m:\u001b[0m   \u001b[1;31m# adding the y() function here\u001b[0m\u001b[1;33m\u001b[0m\u001b[0m\n\u001b[1;32m-> 2253\u001b[1;33m         \u001b[1;32mreturn\u001b[0m \u001b[0mself\u001b[0m\u001b[1;33m.\u001b[0m\u001b[0mindex\u001b[0m\u001b[1;33m(\u001b[0m\u001b[0mlabel\u001b[0m\u001b[1;33m)\u001b[0m\u001b[1;33m\u001b[0m\u001b[0m\n\u001b[0m\u001b[0;32m   2254\u001b[0m \u001b[1;33m\u001b[0m\u001b[0m\n\u001b[0;32m   2255\u001b[0m \u001b[1;33m\u001b[0m\u001b[0m\n",
      "\u001b[1;32m/usr/lib/python2.7/dist-packages/pyAgrum/pyAgrum.py\u001b[0m in \u001b[0;36mindex\u001b[1;34m(self, label)\u001b[0m\n\u001b[0;32m   2305\u001b[0m     \u001b[1;32mdef\u001b[0m \u001b[0mindex\u001b[0m\u001b[1;33m(\u001b[0m\u001b[0mself\u001b[0m\u001b[1;33m,\u001b[0m \u001b[0mlabel\u001b[0m\u001b[1;33m)\u001b[0m\u001b[1;33m:\u001b[0m\u001b[1;33m\u001b[0m\u001b[0m\n\u001b[0;32m   2306\u001b[0m         \u001b[1;34m\"\"\"index(LabelizedVariable self, std::string const & label) -> gum::Idx\"\"\"\u001b[0m\u001b[1;33m\u001b[0m\u001b[0m\n\u001b[1;32m-> 2307\u001b[1;33m         \u001b[1;32mreturn\u001b[0m \u001b[0m_pyAgrum\u001b[0m\u001b[1;33m.\u001b[0m\u001b[0mLabelizedVariable_index\u001b[0m\u001b[1;33m(\u001b[0m\u001b[0mself\u001b[0m\u001b[1;33m,\u001b[0m \u001b[0mlabel\u001b[0m\u001b[1;33m)\u001b[0m\u001b[1;33m\u001b[0m\u001b[0m\n\u001b[0m\u001b[0;32m   2308\u001b[0m \u001b[1;33m\u001b[0m\u001b[0m\n\u001b[0;32m   2309\u001b[0m \u001b[1;33m\u001b[0m\u001b[0m\n",
      "\u001b[1;31mOutOfBounds\u001b[0m: Out of bound : label 'remote' is unknown in distance<dist_2,dist_1,dist_0>"
     ]
    }
   ],
   "source": [
    "bn_random_hand = agrum.loadBN(\"../generated_files/BN_random_hand-coded.bif\")\n",
    "nb.showBN(bn_random_hand, size=\"10\")\n",
    "if posterior:\n",
    "    nb.showPosterior(bn_random_hand,{'effect':_effect, 'orientation':_orientation, 'distance':'remote'},'move')\n",
    "    nb.showPosterior(bn_random_hand,{'effect':_effect, 'orientation':_orientation, 'distance':'far'},'move')\n",
    "    nb.showPosterior(bn_random_hand,{'effect':_effect, 'orientation':_orientation, 'distance':'close'},'move')"
   ]
  },
  {
   "cell_type": "code",
   "execution_count": 4,
   "metadata": {
    "collapsed": false
   },
   "outputs": [
    {
     "data": {
      "text/html": [
       "<div align='center'><svg height=\"260pt\" viewBox=\"0.00 0.00 142.62 260.00\" width=\"143pt\" xmlns=\"http://www.w3.org/2000/svg\" xmlns:xlink=\"http://www.w3.org/1999/xlink\">\n",
       "<g class=\"graph\" id=\"graph0\" transform=\"scale(1 1) rotate(0) translate(4 256)\">\n",
       "<title>G</title>\n",
       "<polygon fill=\"white\" points=\"-4,4 -4,-256 138.624,-256 138.624,4 -4,4\" stroke=\"none\"/>\n",
       "<!-- effect -->\n",
       "<g class=\"node\" id=\"node1\"><title>effect</title>\n",
       "<g id=\"a_node1\"><a xlink:title=\"(0) effect\">\n",
       "<ellipse cx=\"30\" cy=\"-90\" fill=\"#444444\" rx=\"30.3206\" ry=\"18\" stroke=\"black\"/>\n",
       "<text fill=\"#ffffff\" font-family=\"Times,serif\" font-size=\"14.00\" text-anchor=\"middle\" x=\"30\" y=\"-86.3\">effect</text>\n",
       "</a>\n",
       "</g>\n",
       "</g>\n",
       "<!-- distance -->\n",
       "<g class=\"node\" id=\"node4\"><title>distance</title>\n",
       "<g id=\"a_node4\"><a xlink:title=\"(3) distance\">\n",
       "<ellipse cx=\"89\" cy=\"-18\" fill=\"#444444\" rx=\"39.4691\" ry=\"18\" stroke=\"black\"/>\n",
       "<text fill=\"#ffffff\" font-family=\"Times,serif\" font-size=\"14.00\" text-anchor=\"middle\" x=\"89\" y=\"-14.3\">distance</text>\n",
       "</a>\n",
       "</g>\n",
       "</g>\n",
       "<!-- effect&#45;&gt;distance -->\n",
       "<g class=\"edge\" id=\"edge4\"><title>effect-&gt;distance</title>\n",
       "<path d=\"M43.094,-73.4647C50.7018,-64.4386 60.444,-52.88 68.9949,-42.7349\" fill=\"none\" stroke=\"black\"/>\n",
       "<polygon fill=\"black\" points=\"71.765,-44.8791 75.5335,-34.9772 66.4126,-40.3678 71.765,-44.8791\" stroke=\"black\"/>\n",
       "</g>\n",
       "<!-- orientation -->\n",
       "<g class=\"node\" id=\"node2\"><title>orientation</title>\n",
       "<g id=\"a_node2\"><a xlink:title=\"(1) orientation\">\n",
       "<ellipse cx=\"70\" cy=\"-162\" fill=\"#444444\" rx=\"48.6179\" ry=\"18\" stroke=\"black\"/>\n",
       "<text fill=\"#ffffff\" font-family=\"Times,serif\" font-size=\"14.00\" text-anchor=\"middle\" x=\"70\" y=\"-158.3\">orientation</text>\n",
       "</a>\n",
       "</g>\n",
       "</g>\n",
       "<!-- orientation&#45;&gt;effect -->\n",
       "<g class=\"edge\" id=\"edge2\"><title>orientation-&gt;effect</title>\n",
       "<path d=\"M60.3171,-144.055C55.531,-135.679 49.6594,-125.404 44.3623,-116.134\" fill=\"none\" stroke=\"black\"/>\n",
       "<polygon fill=\"black\" points=\"47.3186,-114.253 39.3183,-107.307 41.2409,-117.726 47.3186,-114.253\" stroke=\"black\"/>\n",
       "</g>\n",
       "<!-- orientation&#45;&gt;distance -->\n",
       "<g class=\"edge\" id=\"edge1\"><title>orientation-&gt;distance</title>\n",
       "<path d=\"M72.2918,-143.871C75.53,-119.67 81.4788,-75.2108 85.3347,-46.3932\" fill=\"none\" stroke=\"black\"/>\n",
       "<polygon fill=\"black\" points=\"88.8428,-46.5651 86.7,-36.1893 81.9047,-45.6367 88.8428,-46.5651\" stroke=\"black\"/>\n",
       "</g>\n",
       "<!-- move -->\n",
       "<g class=\"node\" id=\"node3\"><title>move</title>\n",
       "<g id=\"a_node3\"><a xlink:title=\"(2) move\">\n",
       "<ellipse cx=\"70\" cy=\"-234\" fill=\"#444444\" rx=\"30.3206\" ry=\"18\" stroke=\"black\"/>\n",
       "<text fill=\"#ffffff\" font-family=\"Times,serif\" font-size=\"14.00\" text-anchor=\"middle\" x=\"70\" y=\"-230.3\">move</text>\n",
       "</a>\n",
       "</g>\n",
       "</g>\n",
       "<!-- move&#45;&gt;effect -->\n",
       "<g class=\"edge\" id=\"edge5\"><title>move-&gt;effect</title>\n",
       "<path d=\"M49.2313,-220.578C35.854,-211.28 19.5931,-197.224 12,-180 3.05225,-159.703 9.37891,-134.83 16.892,-116.544\" fill=\"none\" stroke=\"black\"/>\n",
       "<polygon fill=\"black\" points=\"20.099,-117.946 20.9761,-107.387 13.7061,-115.094 20.099,-117.946\" stroke=\"black\"/>\n",
       "</g>\n",
       "<!-- move&#45;&gt;orientation -->\n",
       "<g class=\"edge\" id=\"edge6\"><title>move-&gt;orientation</title>\n",
       "<path d=\"M70,-215.697C70,-207.983 70,-198.712 70,-190.112\" fill=\"none\" stroke=\"black\"/>\n",
       "<polygon fill=\"black\" points=\"73.5001,-190.104 70,-180.104 66.5001,-190.104 73.5001,-190.104\" stroke=\"black\"/>\n",
       "</g>\n",
       "<!-- move&#45;&gt;distance -->\n",
       "<g class=\"edge\" id=\"edge3\"><title>move-&gt;distance</title>\n",
       "<path d=\"M90.4197,-220.496C103.57,-211.161 119.552,-197.096 127,-180 146.836,-134.469 122.534,-76.9853 104.673,-44.4732\" fill=\"none\" stroke=\"black\"/>\n",
       "<polygon fill=\"black\" points=\"107.614,-42.5648 99.6208,-35.6107 101.533,-46.0316 107.614,-42.5648\" stroke=\"black\"/>\n",
       "</g>\n",
       "</g>\n",
       "</svg></div>"
      ],
      "text/plain": [
       "<IPython.core.display.HTML object>"
      ]
     },
     "metadata": {},
     "output_type": "display_data"
    },
    {
     "ename": "OutOfBounds",
     "evalue": "Out of bound : label 'left-down' is unknown in orientation<orien_5,orien_6,orien_7,orien_1,orien_0,orien_2,orien_3,orien�",
     "output_type": "error",
     "traceback": [
      "\u001b[1;31m---------------------------------------------------------------------------\u001b[0m",
      "\u001b[1;31mOutOfBounds\u001b[0m                               Traceback (most recent call last)",
      "\u001b[1;32m<ipython-input-4-90d3cca27590>\u001b[0m in \u001b[0;36m<module>\u001b[1;34m()\u001b[0m\n\u001b[0;32m      2\u001b[0m \u001b[0mnb\u001b[0m\u001b[1;33m.\u001b[0m\u001b[0mshowBN\u001b[0m\u001b[1;33m(\u001b[0m\u001b[0mbn_random_hill\u001b[0m\u001b[1;33m,\u001b[0m \u001b[0msize\u001b[0m\u001b[1;33m=\u001b[0m\u001b[1;34m\"10\"\u001b[0m\u001b[1;33m)\u001b[0m\u001b[1;33m\u001b[0m\u001b[0m\n\u001b[0;32m      3\u001b[0m \u001b[1;32mif\u001b[0m \u001b[0mposterior\u001b[0m\u001b[1;33m:\u001b[0m\u001b[1;33m\u001b[0m\u001b[0m\n\u001b[1;32m----> 4\u001b[1;33m     \u001b[0mnb\u001b[0m\u001b[1;33m.\u001b[0m\u001b[0mshowPosterior\u001b[0m\u001b[1;33m(\u001b[0m\u001b[0mbn_random_hill\u001b[0m\u001b[1;33m,\u001b[0m\u001b[1;33m{\u001b[0m\u001b[1;34m'effect'\u001b[0m\u001b[1;33m:\u001b[0m\u001b[0m_effect\u001b[0m\u001b[1;33m,\u001b[0m \u001b[1;34m'orientation'\u001b[0m\u001b[1;33m:\u001b[0m\u001b[0m_orientation\u001b[0m\u001b[1;33m,\u001b[0m \u001b[1;34m'distance'\u001b[0m\u001b[1;33m:\u001b[0m\u001b[1;34m'dist_0'\u001b[0m\u001b[1;33m}\u001b[0m\u001b[1;33m,\u001b[0m\u001b[1;34m'move'\u001b[0m\u001b[1;33m)\u001b[0m\u001b[1;33m\u001b[0m\u001b[0m\n\u001b[0m\u001b[0;32m      5\u001b[0m     \u001b[0mnb\u001b[0m\u001b[1;33m.\u001b[0m\u001b[0mshowPosterior\u001b[0m\u001b[1;33m(\u001b[0m\u001b[0mbn_random_hill\u001b[0m\u001b[1;33m,\u001b[0m\u001b[1;33m{\u001b[0m\u001b[1;34m'effect'\u001b[0m\u001b[1;33m:\u001b[0m\u001b[0m_effect\u001b[0m\u001b[1;33m,\u001b[0m \u001b[1;34m'orientation'\u001b[0m\u001b[1;33m:\u001b[0m\u001b[0m_orientation\u001b[0m\u001b[1;33m,\u001b[0m \u001b[1;34m'distance'\u001b[0m\u001b[1;33m:\u001b[0m\u001b[1;34m'far'\u001b[0m\u001b[1;33m}\u001b[0m\u001b[1;33m,\u001b[0m\u001b[1;34m'move'\u001b[0m\u001b[1;33m)\u001b[0m\u001b[1;33m\u001b[0m\u001b[0m\n\u001b[0;32m      6\u001b[0m     \u001b[0mnb\u001b[0m\u001b[1;33m.\u001b[0m\u001b[0mshowPosterior\u001b[0m\u001b[1;33m(\u001b[0m\u001b[0mbn_random_hill\u001b[0m\u001b[1;33m,\u001b[0m\u001b[1;33m{\u001b[0m\u001b[1;34m'effect'\u001b[0m\u001b[1;33m:\u001b[0m\u001b[0m_effect\u001b[0m\u001b[1;33m,\u001b[0m \u001b[1;34m'orientation'\u001b[0m\u001b[1;33m:\u001b[0m\u001b[0m_orientation\u001b[0m\u001b[1;33m,\u001b[0m \u001b[1;34m'distance'\u001b[0m\u001b[1;33m:\u001b[0m\u001b[1;34m'close'\u001b[0m\u001b[1;33m}\u001b[0m\u001b[1;33m,\u001b[0m\u001b[1;34m'move'\u001b[0m\u001b[1;33m)\u001b[0m\u001b[1;33m\u001b[0m\u001b[0m\n",
      "\u001b[1;32m/usr/lib/python2.7/dist-packages/pyAgrum/lib/notebook.py\u001b[0m in \u001b[0;36mshowPosterior\u001b[1;34m(bn, ev, target)\u001b[0m\n\u001b[0;32m    101\u001b[0m     \u001b[0mshortcut\u001b[0m \u001b[1;32mfor\u001b[0m \u001b[0mshowProba\u001b[0m\u001b[1;33m(\u001b[0m\u001b[0mgetPosterior\u001b[0m\u001b[1;33m(\u001b[0m\u001b[0mbn\u001b[0m\u001b[1;33m,\u001b[0m\u001b[0mev\u001b[0m\u001b[1;33m,\u001b[0m\u001b[0mtarget\u001b[0m\u001b[1;33m)\u001b[0m\u001b[1;33m)\u001b[0m\u001b[1;33m\u001b[0m\u001b[0m\n\u001b[0;32m    102\u001b[0m     \"\"\"\n\u001b[1;32m--> 103\u001b[1;33m     \u001b[0mshowProba\u001b[0m\u001b[1;33m(\u001b[0m\u001b[0mgetPosterior\u001b[0m\u001b[1;33m(\u001b[0m\u001b[0mbn\u001b[0m\u001b[1;33m,\u001b[0m\u001b[0mev\u001b[0m\u001b[1;33m,\u001b[0m\u001b[0mtarget\u001b[0m\u001b[1;33m)\u001b[0m\u001b[1;33m)\u001b[0m\u001b[1;33m\u001b[0m\u001b[0m\n\u001b[0m\u001b[0;32m    104\u001b[0m \u001b[1;33m\u001b[0m\u001b[0m\n\u001b[0;32m    105\u001b[0m \u001b[1;32mdef\u001b[0m \u001b[0manimApproximationScheme\u001b[0m\u001b[1;33m(\u001b[0m\u001b[0mapsc\u001b[0m\u001b[1;33m,\u001b[0m\u001b[0mscale\u001b[0m\u001b[1;33m=\u001b[0m\u001b[0mnp\u001b[0m\u001b[1;33m.\u001b[0m\u001b[0mlog10\u001b[0m\u001b[1;33m)\u001b[0m\u001b[1;33m:\u001b[0m\u001b[1;33m\u001b[0m\u001b[0m\n",
      "\u001b[1;32m/usr/lib/python2.7/dist-packages/pyAgrum/lib/notebook.py\u001b[0m in \u001b[0;36mgetPosterior\u001b[1;34m(bn, ev, target)\u001b[0m\n\u001b[0;32m     69\u001b[0m     \"\"\"\n\u001b[0;32m     70\u001b[0m     \u001b[0minf\u001b[0m\u001b[1;33m=\u001b[0m\u001b[0mgum\u001b[0m\u001b[1;33m.\u001b[0m\u001b[0mLazyPropagation\u001b[0m\u001b[1;33m(\u001b[0m\u001b[0mbn\u001b[0m\u001b[1;33m)\u001b[0m\u001b[1;33m\u001b[0m\u001b[0m\n\u001b[1;32m---> 71\u001b[1;33m     \u001b[0minf\u001b[0m\u001b[1;33m.\u001b[0m\u001b[0msetEvidence\u001b[0m\u001b[1;33m(\u001b[0m\u001b[0mev\u001b[0m\u001b[1;33m)\u001b[0m\u001b[1;33m\u001b[0m\u001b[0m\n\u001b[0m\u001b[0;32m     72\u001b[0m     \u001b[0minf\u001b[0m\u001b[1;33m.\u001b[0m\u001b[0mmakeInference\u001b[0m\u001b[1;33m(\u001b[0m\u001b[1;33m)\u001b[0m\u001b[1;33m\u001b[0m\u001b[0m\n\u001b[0;32m     73\u001b[0m     \u001b[1;32mreturn\u001b[0m \u001b[0mgum\u001b[0m\u001b[1;33m.\u001b[0m\u001b[0mPotential\u001b[0m\u001b[1;33m(\u001b[0m\u001b[0minf\u001b[0m\u001b[1;33m.\u001b[0m\u001b[0mposterior\u001b[0m\u001b[1;33m(\u001b[0m\u001b[0mbn\u001b[0m\u001b[1;33m.\u001b[0m\u001b[0midFromName\u001b[0m\u001b[1;33m(\u001b[0m\u001b[0mtarget\u001b[0m\u001b[1;33m)\u001b[0m\u001b[1;33m)\u001b[0m\u001b[1;33m)\u001b[0m\u001b[1;33m\u001b[0m\u001b[0m\n",
      "\u001b[1;32m/usr/lib/python2.7/dist-packages/pyAgrum/pyAgrum.py\u001b[0m in \u001b[0;36msetEvidence\u001b[1;34m(self, evidces)\u001b[0m\n\u001b[0;32m   4678\u001b[0m                         \u001b[0mindex\u001b[0m \u001b[1;33m=\u001b[0m \u001b[0mevidce\u001b[0m\u001b[1;33m\u001b[0m\u001b[0m\n\u001b[0;32m   4679\u001b[0m                     \u001b[1;32melif\u001b[0m \u001b[0misinstance\u001b[0m\u001b[1;33m(\u001b[0m\u001b[0mevidce\u001b[0m\u001b[1;33m,\u001b[0m \u001b[0mstr\u001b[0m\u001b[1;33m)\u001b[0m\u001b[1;33m:\u001b[0m\u001b[1;33m\u001b[0m\u001b[0m\n\u001b[1;32m-> 4680\u001b[1;33m                         \u001b[0mindex\u001b[0m \u001b[1;33m=\u001b[0m \u001b[0mcast_var\u001b[0m\u001b[1;33m[\u001b[0m\u001b[0mevidce\u001b[0m\u001b[1;33m]\u001b[0m\u001b[1;33m\u001b[0m\u001b[0m\n\u001b[0m\u001b[0;32m   4681\u001b[0m                     \u001b[1;32melse\u001b[0m\u001b[1;33m:\u001b[0m\u001b[1;33m\u001b[0m\u001b[0m\n\u001b[0;32m   4682\u001b[0m                         \u001b[1;32mraise\u001b[0m \u001b[0mTypeError\u001b[0m\u001b[1;33m(\u001b[0m\u001b[1;34m'values of the dict must be int or string'\u001b[0m\u001b[1;33m)\u001b[0m\u001b[1;33m\u001b[0m\u001b[0m\n",
      "\u001b[1;32m/usr/lib/python2.7/dist-packages/pyAgrum/pyAgrum.py\u001b[0m in \u001b[0;36m__getitem__\u001b[1;34m(self, label)\u001b[0m\n\u001b[0;32m   2251\u001b[0m \u001b[1;33m\u001b[0m\u001b[0m\n\u001b[0;32m   2252\u001b[0m     \u001b[1;32mdef\u001b[0m \u001b[0m__getitem__\u001b[0m\u001b[1;33m(\u001b[0m\u001b[0mself\u001b[0m\u001b[1;33m,\u001b[0m\u001b[0mlabel\u001b[0m\u001b[1;33m)\u001b[0m\u001b[1;33m:\u001b[0m   \u001b[1;31m# adding the y() function here\u001b[0m\u001b[1;33m\u001b[0m\u001b[0m\n\u001b[1;32m-> 2253\u001b[1;33m         \u001b[1;32mreturn\u001b[0m \u001b[0mself\u001b[0m\u001b[1;33m.\u001b[0m\u001b[0mindex\u001b[0m\u001b[1;33m(\u001b[0m\u001b[0mlabel\u001b[0m\u001b[1;33m)\u001b[0m\u001b[1;33m\u001b[0m\u001b[0m\n\u001b[0m\u001b[0;32m   2254\u001b[0m \u001b[1;33m\u001b[0m\u001b[0m\n\u001b[0;32m   2255\u001b[0m \u001b[1;33m\u001b[0m\u001b[0m\n",
      "\u001b[1;32m/usr/lib/python2.7/dist-packages/pyAgrum/pyAgrum.py\u001b[0m in \u001b[0;36mindex\u001b[1;34m(self, label)\u001b[0m\n\u001b[0;32m   2305\u001b[0m     \u001b[1;32mdef\u001b[0m \u001b[0mindex\u001b[0m\u001b[1;33m(\u001b[0m\u001b[0mself\u001b[0m\u001b[1;33m,\u001b[0m \u001b[0mlabel\u001b[0m\u001b[1;33m)\u001b[0m\u001b[1;33m:\u001b[0m\u001b[1;33m\u001b[0m\u001b[0m\n\u001b[0;32m   2306\u001b[0m         \u001b[1;34m\"\"\"index(LabelizedVariable self, std::string const & label) -> gum::Idx\"\"\"\u001b[0m\u001b[1;33m\u001b[0m\u001b[0m\n\u001b[1;32m-> 2307\u001b[1;33m         \u001b[1;32mreturn\u001b[0m \u001b[0m_pyAgrum\u001b[0m\u001b[1;33m.\u001b[0m\u001b[0mLabelizedVariable_index\u001b[0m\u001b[1;33m(\u001b[0m\u001b[0mself\u001b[0m\u001b[1;33m,\u001b[0m \u001b[0mlabel\u001b[0m\u001b[1;33m)\u001b[0m\u001b[1;33m\u001b[0m\u001b[0m\n\u001b[0m\u001b[0;32m   2308\u001b[0m \u001b[1;33m\u001b[0m\u001b[0m\n\u001b[0;32m   2309\u001b[0m \u001b[1;33m\u001b[0m\u001b[0m\n",
      "\u001b[1;31mOutOfBounds\u001b[0m: Out of bound : label 'left-down' is unknown in orientation<orien_5,orien_6,orien_7,orien_1,orien_0,orien_2,orien_3,orien�"
     ]
    }
   ],
   "source": [
    "bn_random_hill = agrum.loadBN(\"../generated_files/BN_random_hillclimbing.bif\")\n",
    "nb.showBN(bn_random_hill, size=\"10\")\n",
    "if posterior:\n",
    "    nb.showPosterior(bn_random_hill,{'effect':_effect, 'orientation':_orientation, 'distance':'dist_0'},'move')\n",
    "    nb.showPosterior(bn_random_hill,{'effect':_effect, 'orientation':_orientation, 'distance':'orien_'},'move')\n",
    "    nb.showPosterior(bn_random_hill,{'effect':_effect, 'orientation':_orientation, 'distance':'close'},'move')"
   ]
  },
  {
   "cell_type": "code",
   "execution_count": 26,
   "metadata": {
    "collapsed": false
   },
   "outputs": [
    {
     "data": {
      "text/html": [
       "<div align='center'><svg height=\"188pt\" viewBox=\"0.00 0.00 183.00 188.00\" width=\"183pt\" xmlns=\"http://www.w3.org/2000/svg\" xmlns:xlink=\"http://www.w3.org/1999/xlink\">\n",
       "<g class=\"graph\" id=\"graph0\" transform=\"scale(1 1) rotate(0) translate(4 184)\">\n",
       "<title>G</title>\n",
       "<polygon fill=\"white\" points=\"-4,4 -4,-184 179,-184 179,4 -4,4\" stroke=\"none\"/>\n",
       "<!-- effect -->\n",
       "<g class=\"node\" id=\"node1\"><title>effect</title>\n",
       "<g id=\"a_node1\"><a xlink:title=\"(0) effect\">\n",
       "<ellipse cx=\"48\" cy=\"-18\" fill=\"#444444\" rx=\"30.3206\" ry=\"18\" stroke=\"black\"/>\n",
       "<text fill=\"#ffffff\" font-family=\"Times,serif\" font-size=\"14.00\" text-anchor=\"middle\" x=\"48\" y=\"-14.3\">effect</text>\n",
       "</a>\n",
       "</g>\n",
       "</g>\n",
       "<!-- orientation -->\n",
       "<g class=\"node\" id=\"node2\"><title>orientation</title>\n",
       "<g id=\"a_node2\"><a xlink:title=\"(1) orientation\">\n",
       "<ellipse cx=\"48\" cy=\"-90\" fill=\"#444444\" rx=\"48.6179\" ry=\"18\" stroke=\"black\"/>\n",
       "<text fill=\"#ffffff\" font-family=\"Times,serif\" font-size=\"14.00\" text-anchor=\"middle\" x=\"48\" y=\"-86.3\">orientation</text>\n",
       "</a>\n",
       "</g>\n",
       "</g>\n",
       "<!-- orientation&#45;&gt;effect -->\n",
       "<g class=\"edge\" id=\"edge1\"><title>orientation-&gt;effect</title>\n",
       "<path d=\"M48,-71.6966C48,-63.9827 48,-54.7125 48,-46.1124\" fill=\"none\" stroke=\"black\"/>\n",
       "<polygon fill=\"black\" points=\"51.5001,-46.1043 48,-36.1043 44.5001,-46.1044 51.5001,-46.1043\" stroke=\"black\"/>\n",
       "</g>\n",
       "<!-- move -->\n",
       "<g class=\"node\" id=\"node3\"><title>move</title>\n",
       "<g id=\"a_node3\"><a xlink:title=\"(2) move\">\n",
       "<ellipse cx=\"48\" cy=\"-162\" fill=\"#444444\" rx=\"30.3206\" ry=\"18\" stroke=\"black\"/>\n",
       "<text fill=\"#ffffff\" font-family=\"Times,serif\" font-size=\"14.00\" text-anchor=\"middle\" x=\"48\" y=\"-158.3\">move</text>\n",
       "</a>\n",
       "</g>\n",
       "</g>\n",
       "<!-- move&#45;&gt;orientation -->\n",
       "<g class=\"edge\" id=\"edge2\"><title>move-&gt;orientation</title>\n",
       "<path d=\"M48,-143.697C48,-135.983 48,-126.712 48,-118.112\" fill=\"none\" stroke=\"black\"/>\n",
       "<polygon fill=\"black\" points=\"51.5001,-118.104 48,-108.104 44.5001,-118.104 51.5001,-118.104\" stroke=\"black\"/>\n",
       "</g>\n",
       "<!-- distance -->\n",
       "<g class=\"node\" id=\"node4\"><title>distance</title>\n",
       "<g id=\"a_node4\"><a xlink:title=\"(3) distance\">\n",
       "<ellipse cx=\"136\" cy=\"-162\" fill=\"#444444\" rx=\"39.4691\" ry=\"18\" stroke=\"black\"/>\n",
       "<text fill=\"#ffffff\" font-family=\"Times,serif\" font-size=\"14.00\" text-anchor=\"middle\" x=\"136\" y=\"-158.3\">distance</text>\n",
       "</a>\n",
       "</g>\n",
       "</g>\n",
       "</g>\n",
       "</svg></div>"
      ],
      "text/plain": [
       "<IPython.core.display.HTML object>"
      ]
     },
     "metadata": {},
     "output_type": "display_data"
    }
   ],
   "source": [
    "bn_random_k2 = agrum.loadBN(\"../generated_files/BN_random_k2.bif\")\n",
    "nb.showBN(bn_random_k2, size=\"10\")\n",
    "if posterior:\n",
    "    nb.showPosterior(bn_random_k2,{'effect':_effect, 'orientation':_orientation, 'distance':'remote'},'move')\n",
    "    nb.showPosterior(bn_random_k2,{'effect':_effect, 'orientation':_orientation, 'distance':'far'},'move')\n",
    "    nb.showPosterior(bn_random_k2,{'effect':_effect, 'orientation':_orientation, 'distance':'close'},'move')"
   ]
  },
  {
   "cell_type": "code",
   "execution_count": null,
   "metadata": {
    "collapsed": true
   },
   "outputs": [],
   "source": []
  }
 ],
 "metadata": {
  "kernelspec": {
   "display_name": "Python 2",
   "language": "python",
   "name": "python2"
  },
  "language_info": {
   "codemirror_mode": {
    "name": "ipython",
    "version": 2
   },
   "file_extension": ".py",
   "mimetype": "text/x-python",
   "name": "python",
   "nbconvert_exporter": "python",
   "pygments_lexer": "ipython2",
   "version": "2.7.6"
  }
 },
 "nbformat": 4,
 "nbformat_minor": 0
}
