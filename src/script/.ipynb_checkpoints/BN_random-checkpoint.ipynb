{
 "cells": [
  {
   "cell_type": "code",
   "execution_count": 1,
   "metadata": {
    "collapsed": false
   },
   "outputs": [
    {
     "name": "stderr",
     "output_type": "stream",
     "text": [
      "/usr/lib/pymodules/python2.7/matplotlib/__init__.py:935: UserWarning: Bad val \"1\" on line #398\n",
      "\t\"pdf.fonttype       : 1         # Output Type 3 (Type3) or Type 42 (TrueType)\n",
      "\"\n",
      "\tin file \"/etc/matplotlibrc\"\n",
      "\tSupported Postscript/PDF font types are [42, 3]\n",
      "  \"%s\"\\n\\t%s' % (val, cnt, line, fname, msg))\n"
     ]
    }
   ],
   "source": [
    "%matplotlib inline\n",
    "from pylab import *\n",
    "import matplotlib.pyplot as plt\n",
    "\n",
    "import pyAgrum as agrum\n",
    "import pyAgrum.lib.notebook as nb"
   ]
  },
  {
   "cell_type": "code",
   "execution_count": 97,
   "metadata": {
    "collapsed": false
   },
   "outputs": [],
   "source": [
    "''' PRINT BN AND STATISTICS'''\n",
    "path = '/home/maestre/git/a2l_exp_baxter_core/src/generated_files/dataset_size/2017-03-30_09:40:51_16_3'\n",
    "dataset_type = 'random'\n",
    "iter = 5"
   ]
  },
  {
   "cell_type": "code",
   "execution_count": 95,
   "metadata": {
    "collapsed": true
   },
   "outputs": [],
   "source": [
    "path = '/home/maestre/git/a2l_exp_baxter_core/src/generated_files/dataset_size/2017-03-29_10:47:15_16_3'\n",
    "dataset_type = 'directed'\n",
    "iter = 'initial'"
   ]
  },
  {
   "cell_type": "code",
   "execution_count": 7,
   "metadata": {
    "collapsed": true
   },
   "outputs": [
    {
     "ename": "IOError",
     "evalue": "an input/output error occurred : No such file /home/maestre/git/a2l_exp_baxter_core/src/generated_files/dataset_size/2017-03-23_07:30:14_16_3/BN_random_30_hard-coded.bi�",
     "output_type": "error",
     "traceback": [
      "\u001b[1;31m---------------------------------------------------------------------------\u001b[0m",
      "\u001b[1;31mIOError\u001b[0m                                   Traceback (most recent call last)",
      "\u001b[1;32m<ipython-input-7-992e5d7250dc>\u001b[0m in \u001b[0;36m<module>\u001b[1;34m()\u001b[0m\n\u001b[0;32m      1\u001b[0m \u001b[0mpath\u001b[0m \u001b[1;33m=\u001b[0m \u001b[1;34m'/home/maestre/git/a2l_exp_baxter_core/src/generated_files/dataset_size/2017-03-23_07:30:14_16_3/'\u001b[0m\u001b[1;33m\u001b[0m\u001b[0m\n\u001b[0;32m      2\u001b[0m \u001b[0miter\u001b[0m \u001b[1;33m=\u001b[0m \u001b[1;34m'30'\u001b[0m\u001b[1;33m\u001b[0m\u001b[0m\n\u001b[1;32m----> 3\u001b[1;33m \u001b[0mbn_random_hill\u001b[0m \u001b[1;33m=\u001b[0m \u001b[0magrum\u001b[0m\u001b[1;33m.\u001b[0m\u001b[0mloadBN\u001b[0m\u001b[1;33m(\u001b[0m\u001b[0mpath\u001b[0m \u001b[1;33m+\u001b[0m \u001b[1;34m\"BN_random_\"\u001b[0m \u001b[1;33m+\u001b[0m \u001b[0miter\u001b[0m \u001b[1;33m+\u001b[0m  \u001b[1;34m\"_hard-coded.bif\"\u001b[0m\u001b[1;33m)\u001b[0m\u001b[1;33m\u001b[0m\u001b[0m\n\u001b[0m\u001b[0;32m      4\u001b[0m \u001b[0mnb\u001b[0m\u001b[1;33m.\u001b[0m\u001b[0mshowBN\u001b[0m\u001b[1;33m(\u001b[0m\u001b[0mbn_random_hill\u001b[0m\u001b[1;33m,\u001b[0m \u001b[0msize\u001b[0m\u001b[1;33m=\u001b[0m\u001b[1;34m\"10\"\u001b[0m\u001b[1;33m)\u001b[0m\u001b[1;33m\u001b[0m\u001b[0m\n",
      "\u001b[1;32m/usr/lib/python2.7/dist-packages/pyAgrum/functions.py\u001b[0m in \u001b[0;36mloadBN\u001b[1;34m(s, listeners)\u001b[0m\n\u001b[0;32m     48\u001b[0m     \u001b[0mextension\u001b[0m\u001b[1;33m=\u001b[0m\u001b[0ms\u001b[0m\u001b[1;33m.\u001b[0m\u001b[0msplit\u001b[0m\u001b[1;33m(\u001b[0m\u001b[1;34m'.'\u001b[0m\u001b[1;33m)\u001b[0m\u001b[1;33m[\u001b[0m\u001b[1;33m-\u001b[0m\u001b[1;36m1\u001b[0m\u001b[1;33m]\u001b[0m\u001b[1;33m.\u001b[0m\u001b[0mupper\u001b[0m\u001b[1;33m(\u001b[0m\u001b[1;33m)\u001b[0m\u001b[1;33m\u001b[0m\u001b[0m\n\u001b[0;32m     49\u001b[0m     \u001b[1;32mif\u001b[0m \u001b[0mextension\u001b[0m\u001b[1;33m==\u001b[0m\u001b[1;34m\"BIF\"\u001b[0m\u001b[1;33m:\u001b[0m\u001b[1;33m\u001b[0m\u001b[0m\n\u001b[1;32m---> 50\u001b[1;33m         \u001b[0mres\u001b[0m\u001b[1;33m=\u001b[0m\u001b[0mbn\u001b[0m\u001b[1;33m.\u001b[0m\u001b[0mloadBIF\u001b[0m\u001b[1;33m(\u001b[0m\u001b[0ms\u001b[0m\u001b[1;33m,\u001b[0m\u001b[0mlisteners\u001b[0m\u001b[1;33m)\u001b[0m\u001b[1;33m\u001b[0m\u001b[0m\n\u001b[0m\u001b[0;32m     51\u001b[0m     \u001b[1;32melif\u001b[0m \u001b[0mextension\u001b[0m\u001b[1;33m==\u001b[0m\u001b[1;34m\"BIFXML\"\u001b[0m\u001b[1;33m:\u001b[0m\u001b[1;33m\u001b[0m\u001b[0m\n\u001b[0;32m     52\u001b[0m         \u001b[0mres\u001b[0m\u001b[1;33m=\u001b[0m\u001b[0mbn\u001b[0m\u001b[1;33m.\u001b[0m\u001b[0mloadBIFXML\u001b[0m\u001b[1;33m(\u001b[0m\u001b[0ms\u001b[0m\u001b[1;33m,\u001b[0m\u001b[0mlisteners\u001b[0m\u001b[1;33m)\u001b[0m\u001b[1;33m\u001b[0m\u001b[0m\n",
      "\u001b[1;32m/usr/lib/python2.7/dist-packages/pyAgrum/pyAgrum.py\u001b[0m in \u001b[0;36mloadBIF\u001b[1;34m(self, *args)\u001b[0m\n\u001b[0;32m   4546\u001b[0m         \u001b[0mloadBIF\u001b[0m\u001b[1;33m(\u001b[0m\u001b[0mBayesNet_double\u001b[0m \u001b[0mself\u001b[0m\u001b[1;33m,\u001b[0m \u001b[0mstd\u001b[0m\u001b[1;33m:\u001b[0m\u001b[1;33m:\u001b[0m\u001b[0mstring\u001b[0m \u001b[0mname\u001b[0m\u001b[1;33m)\u001b[0m \u001b[1;33m-\u001b[0m\u001b[1;33m>\u001b[0m \u001b[0mbool\u001b[0m\u001b[1;33m\u001b[0m\u001b[0m\n\u001b[0;32m   4547\u001b[0m         \"\"\"\n\u001b[1;32m-> 4548\u001b[1;33m         \u001b[1;32mreturn\u001b[0m \u001b[0m_pyAgrum\u001b[0m\u001b[1;33m.\u001b[0m\u001b[0mBayesNet_double_loadBIF\u001b[0m\u001b[1;33m(\u001b[0m\u001b[0mself\u001b[0m\u001b[1;33m,\u001b[0m \u001b[1;33m*\u001b[0m\u001b[0margs\u001b[0m\u001b[1;33m)\u001b[0m\u001b[1;33m\u001b[0m\u001b[0m\n\u001b[0m\u001b[0;32m   4549\u001b[0m \u001b[1;33m\u001b[0m\u001b[0m\n\u001b[0;32m   4550\u001b[0m \u001b[1;33m\u001b[0m\u001b[0m\n",
      "\u001b[1;31mIOError\u001b[0m: an input/output error occurred : No such file /home/maestre/git/a2l_exp_baxter_core/src/generated_files/dataset_size/2017-03-23_07:30:14_16_3/BN_random_30_hard-coded.bi�"
     ]
    }
   ],
   "source": [
    "bn_random_hc = agrum.loadBN(path + \"/BN_random_\" + str(iter) +  \"_hard-coded.bif\")\n",
    "nb.showBN(bn_random_hc, size=\"10\")"
   ]
  },
  {
   "cell_type": "code",
   "execution_count": 24,
   "metadata": {
    "collapsed": true
   },
   "outputs": [
    {
     "ename": "IOError",
     "evalue": "/home/maestre/aGrUM/src/agrum/BN/io/BIF/BIFReader_tpl.h:98: No such file /home/maestre/git/a2l_exp_baxter_core/src/generated_files/dataset_size/2017-03-29_17:02:16_16_3/BN_random_5_hillclimbing.bif",
     "output_type": "error",
     "traceback": [
      "\u001b[1;31m---------------------------------------------------------------------------\u001b[0m",
      "\u001b[1;31mIOError\u001b[0m                                   Traceback (most recent call last)",
      "\u001b[1;32m<ipython-input-24-4596094b317e>\u001b[0m in \u001b[0;36m<module>\u001b[1;34m()\u001b[0m\n\u001b[1;32m----> 1\u001b[1;33m \u001b[0mbn_random_hill\u001b[0m \u001b[1;33m=\u001b[0m \u001b[0magrum\u001b[0m\u001b[1;33m.\u001b[0m\u001b[0mloadBN\u001b[0m\u001b[1;33m(\u001b[0m\u001b[0mpath\u001b[0m \u001b[1;33m+\u001b[0m \u001b[1;34m\"/BN_\"\u001b[0m \u001b[1;33m+\u001b[0m \u001b[0mdataset_type\u001b[0m \u001b[1;33m+\u001b[0m \u001b[1;34m\"_\"\u001b[0m \u001b[1;33m+\u001b[0m \u001b[0miter\u001b[0m \u001b[1;33m+\u001b[0m  \u001b[1;34m\"_hillclimbing.bif\"\u001b[0m\u001b[1;33m)\u001b[0m\u001b[1;33m\u001b[0m\u001b[0m\n\u001b[0m\u001b[0;32m      2\u001b[0m \u001b[0mnb\u001b[0m\u001b[1;33m.\u001b[0m\u001b[0mshowBN\u001b[0m\u001b[1;33m(\u001b[0m\u001b[0mbn_random_hill\u001b[0m\u001b[1;33m,\u001b[0m \u001b[0msize\u001b[0m\u001b[1;33m=\u001b[0m\u001b[1;34m\"10\"\u001b[0m\u001b[1;33m)\u001b[0m\u001b[1;33m\u001b[0m\u001b[0m\n",
      "\u001b[1;32m/usr/lib/python2.7/dist-packages/pyAgrum/functions.py\u001b[0m in \u001b[0;36mloadBN\u001b[1;34m(filename, listeners, verbose, **opts)\u001b[0m\n\u001b[0;32m     55\u001b[0m     \u001b[0mextension\u001b[0m\u001b[1;33m=\u001b[0m\u001b[0mfilename\u001b[0m\u001b[1;33m.\u001b[0m\u001b[0msplit\u001b[0m\u001b[1;33m(\u001b[0m\u001b[1;34m'.'\u001b[0m\u001b[1;33m)\u001b[0m\u001b[1;33m[\u001b[0m\u001b[1;33m-\u001b[0m\u001b[1;36m1\u001b[0m\u001b[1;33m]\u001b[0m\u001b[1;33m.\u001b[0m\u001b[0mupper\u001b[0m\u001b[1;33m(\u001b[0m\u001b[1;33m)\u001b[0m\u001b[1;33m\u001b[0m\u001b[0m\n\u001b[0;32m     56\u001b[0m     \u001b[1;32mif\u001b[0m \u001b[0mextension\u001b[0m\u001b[1;33m==\u001b[0m\u001b[1;34m\"BIF\"\u001b[0m\u001b[1;33m:\u001b[0m\u001b[1;33m\u001b[0m\u001b[0m\n\u001b[1;32m---> 57\u001b[1;33m         \u001b[0mwarns\u001b[0m\u001b[1;33m=\u001b[0m\u001b[0mbn\u001b[0m\u001b[1;33m.\u001b[0m\u001b[0mloadBIF\u001b[0m\u001b[1;33m(\u001b[0m\u001b[0mfilename\u001b[0m\u001b[1;33m,\u001b[0m\u001b[0mlisteners\u001b[0m\u001b[1;33m)\u001b[0m\u001b[1;33m\u001b[0m\u001b[0m\n\u001b[0m\u001b[0;32m     58\u001b[0m     \u001b[1;32melif\u001b[0m \u001b[0mextension\u001b[0m\u001b[1;33m==\u001b[0m\u001b[1;34m\"BIFXML\"\u001b[0m\u001b[1;33m:\u001b[0m\u001b[1;33m\u001b[0m\u001b[0m\n\u001b[0;32m     59\u001b[0m         \u001b[0mwarns\u001b[0m\u001b[1;33m=\u001b[0m\u001b[0mbn\u001b[0m\u001b[1;33m.\u001b[0m\u001b[0mloadBIFXML\u001b[0m\u001b[1;33m(\u001b[0m\u001b[0mfilename\u001b[0m\u001b[1;33m,\u001b[0m\u001b[0mlisteners\u001b[0m\u001b[1;33m)\u001b[0m\u001b[1;33m\u001b[0m\u001b[0m\n",
      "\u001b[1;32m/usr/lib/python2.7/dist-packages/pyAgrum/pyAgrum.py\u001b[0m in \u001b[0;36mloadBIF\u001b[1;34m(self, *args)\u001b[0m\n\u001b[0;32m  10635\u001b[0m \u001b[1;33m\u001b[0m\u001b[0m\n\u001b[0;32m  10636\u001b[0m         \"\"\"\n\u001b[1;32m> 10637\u001b[1;33m         \u001b[1;32mreturn\u001b[0m \u001b[0m_pyAgrum\u001b[0m\u001b[1;33m.\u001b[0m\u001b[0mBayesNet_double_loadBIF\u001b[0m\u001b[1;33m(\u001b[0m\u001b[0mself\u001b[0m\u001b[1;33m,\u001b[0m \u001b[1;33m*\u001b[0m\u001b[0margs\u001b[0m\u001b[1;33m)\u001b[0m\u001b[1;33m\u001b[0m\u001b[0m\n\u001b[0m\u001b[0;32m  10638\u001b[0m \u001b[1;33m\u001b[0m\u001b[0m\n\u001b[0;32m  10639\u001b[0m \u001b[1;33m\u001b[0m\u001b[0m\n",
      "\u001b[1;31mIOError\u001b[0m: /home/maestre/aGrUM/src/agrum/BN/io/BIF/BIFReader_tpl.h:98: No such file /home/maestre/git/a2l_exp_baxter_core/src/generated_files/dataset_size/2017-03-29_17:02:16_16_3/BN_random_5_hillclimbing.bif"
     ]
    }
   ],
   "source": [
    "bn_random_hill = agrum.loadBN(path + \"/BN_\" + dataset_type + \"_\" + str(iter) +  \"_hillclimbing.bif\")\n",
    "nb.showBN(bn_random_hill, size=\"10\")"
   ]
  },
  {
   "cell_type": "code",
   "execution_count": 98,
   "metadata": {
    "collapsed": false,
    "scrolled": true
   },
   "outputs": [
    {
     "ename": "IOError",
     "evalue": "/home/maestre/aGrUM/src/agrum/BN/io/BIF/BIFReader_tpl.h:98: No such file /home/maestre/git/a2l_exp_baxter_core/src/plots/dataset_size/2017-03-30_09:40:51_16_3/BN_random_5_k2.bif",
     "output_type": "error",
     "traceback": [
      "\u001b[1;31m---------------------------------------------------------------------------\u001b[0m",
      "\u001b[1;31mIOError\u001b[0m                                   Traceback (most recent call last)",
      "\u001b[1;32m<ipython-input-98-5bac24067167>\u001b[0m in \u001b[0;36m<module>\u001b[1;34m()\u001b[0m\n\u001b[1;32m----> 1\u001b[1;33m \u001b[0mbn_random_hill\u001b[0m \u001b[1;33m=\u001b[0m \u001b[0magrum\u001b[0m\u001b[1;33m.\u001b[0m\u001b[0mloadBN\u001b[0m\u001b[1;33m(\u001b[0m\u001b[0mpath\u001b[0m \u001b[1;33m+\u001b[0m \u001b[1;34m\"/BN_\"\u001b[0m \u001b[1;33m+\u001b[0m \u001b[0mdataset_type\u001b[0m \u001b[1;33m+\u001b[0m \u001b[1;34m\"_\"\u001b[0m \u001b[1;33m+\u001b[0m \u001b[0mstr\u001b[0m\u001b[1;33m(\u001b[0m\u001b[0miter\u001b[0m\u001b[1;33m)\u001b[0m \u001b[1;33m+\u001b[0m  \u001b[1;34m\"_k2.bif\"\u001b[0m\u001b[1;33m)\u001b[0m\u001b[1;33m\u001b[0m\u001b[0m\n\u001b[0m\u001b[0;32m      2\u001b[0m \u001b[0mnb\u001b[0m\u001b[1;33m.\u001b[0m\u001b[0mshowBN\u001b[0m\u001b[1;33m(\u001b[0m\u001b[0mbn_random_hill\u001b[0m\u001b[1;33m,\u001b[0m \u001b[0msize\u001b[0m\u001b[1;33m=\u001b[0m\u001b[1;34m\"10\"\u001b[0m\u001b[1;33m)\u001b[0m\u001b[1;33m\u001b[0m\u001b[0m\n",
      "\u001b[1;32m/usr/lib/python2.7/dist-packages/pyAgrum/functions.py\u001b[0m in \u001b[0;36mloadBN\u001b[1;34m(filename, listeners, verbose, **opts)\u001b[0m\n\u001b[0;32m     55\u001b[0m     \u001b[0mextension\u001b[0m\u001b[1;33m=\u001b[0m\u001b[0mfilename\u001b[0m\u001b[1;33m.\u001b[0m\u001b[0msplit\u001b[0m\u001b[1;33m(\u001b[0m\u001b[1;34m'.'\u001b[0m\u001b[1;33m)\u001b[0m\u001b[1;33m[\u001b[0m\u001b[1;33m-\u001b[0m\u001b[1;36m1\u001b[0m\u001b[1;33m]\u001b[0m\u001b[1;33m.\u001b[0m\u001b[0mupper\u001b[0m\u001b[1;33m(\u001b[0m\u001b[1;33m)\u001b[0m\u001b[1;33m\u001b[0m\u001b[0m\n\u001b[0;32m     56\u001b[0m     \u001b[1;32mif\u001b[0m \u001b[0mextension\u001b[0m\u001b[1;33m==\u001b[0m\u001b[1;34m\"BIF\"\u001b[0m\u001b[1;33m:\u001b[0m\u001b[1;33m\u001b[0m\u001b[0m\n\u001b[1;32m---> 57\u001b[1;33m         \u001b[0mwarns\u001b[0m\u001b[1;33m=\u001b[0m\u001b[0mbn\u001b[0m\u001b[1;33m.\u001b[0m\u001b[0mloadBIF\u001b[0m\u001b[1;33m(\u001b[0m\u001b[0mfilename\u001b[0m\u001b[1;33m,\u001b[0m\u001b[0mlisteners\u001b[0m\u001b[1;33m)\u001b[0m\u001b[1;33m\u001b[0m\u001b[0m\n\u001b[0m\u001b[0;32m     58\u001b[0m     \u001b[1;32melif\u001b[0m \u001b[0mextension\u001b[0m\u001b[1;33m==\u001b[0m\u001b[1;34m\"BIFXML\"\u001b[0m\u001b[1;33m:\u001b[0m\u001b[1;33m\u001b[0m\u001b[0m\n\u001b[0;32m     59\u001b[0m         \u001b[0mwarns\u001b[0m\u001b[1;33m=\u001b[0m\u001b[0mbn\u001b[0m\u001b[1;33m.\u001b[0m\u001b[0mloadBIFXML\u001b[0m\u001b[1;33m(\u001b[0m\u001b[0mfilename\u001b[0m\u001b[1;33m,\u001b[0m\u001b[0mlisteners\u001b[0m\u001b[1;33m)\u001b[0m\u001b[1;33m\u001b[0m\u001b[0m\n",
      "\u001b[1;32m/usr/lib/python2.7/dist-packages/pyAgrum/pyAgrum.py\u001b[0m in \u001b[0;36mloadBIF\u001b[1;34m(self, *args)\u001b[0m\n\u001b[0;32m  10635\u001b[0m \u001b[1;33m\u001b[0m\u001b[0m\n\u001b[0;32m  10636\u001b[0m         \"\"\"\n\u001b[1;32m> 10637\u001b[1;33m         \u001b[1;32mreturn\u001b[0m \u001b[0m_pyAgrum\u001b[0m\u001b[1;33m.\u001b[0m\u001b[0mBayesNet_double_loadBIF\u001b[0m\u001b[1;33m(\u001b[0m\u001b[0mself\u001b[0m\u001b[1;33m,\u001b[0m \u001b[1;33m*\u001b[0m\u001b[0margs\u001b[0m\u001b[1;33m)\u001b[0m\u001b[1;33m\u001b[0m\u001b[0m\n\u001b[0m\u001b[0;32m  10638\u001b[0m \u001b[1;33m\u001b[0m\u001b[0m\n\u001b[0;32m  10639\u001b[0m \u001b[1;33m\u001b[0m\u001b[0m\n",
      "\u001b[1;31mIOError\u001b[0m: /home/maestre/aGrUM/src/agrum/BN/io/BIF/BIFReader_tpl.h:98: No such file /home/maestre/git/a2l_exp_baxter_core/src/plots/dataset_size/2017-03-30_09:40:51_16_3/BN_random_5_k2.bif"
     ]
    }
   ],
   "source": [
    "bn_random_hill = agrum.loadBN(path + \"/BN_\" + dataset_type + \"_\" + str(iter) +  \"_k2.bif\")\n",
    "nb.showBN(bn_random_hill, size=\"10\")"
   ]
  },
  {
   "cell_type": "code",
   "execution_count": null,
   "metadata": {
    "collapsed": true
   },
   "outputs": [],
   "source": []
  }
 ],
 "metadata": {
  "kernelspec": {
   "display_name": "Python 2",
   "language": "python",
   "name": "python2"
  },
  "language_info": {
   "codemirror_mode": {
    "name": "ipython",
    "version": 2
   },
   "file_extension": ".py",
   "mimetype": "text/x-python",
   "name": "python",
   "nbconvert_exporter": "python",
   "pygments_lexer": "ipython2",
   "version": "2.7.6"
  }
 },
 "nbformat": 4,
 "nbformat_minor": 0
}
