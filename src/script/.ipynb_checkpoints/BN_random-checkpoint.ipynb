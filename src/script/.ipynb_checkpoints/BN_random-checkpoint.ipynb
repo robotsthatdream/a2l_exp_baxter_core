{
 "cells": [
  {
   "cell_type": "code",
   "execution_count": 1,
   "metadata": {
    "collapsed": false
   },
   "outputs": [
    {
     "name": "stderr",
     "output_type": "stream",
     "text": [
      "/usr/lib/pymodules/python2.7/matplotlib/__init__.py:935: UserWarning: Bad val \"1\" on line #398\n",
      "\t\"pdf.fonttype       : 1         # Output Type 3 (Type3) or Type 42 (TrueType)\n",
      "\"\n",
      "\tin file \"/etc/matplotlibrc\"\n",
      "\tSupported Postscript/PDF font types are [42, 3]\n",
      "  \"%s\"\\n\\t%s' % (val, cnt, line, fname, msg))\n"
     ]
    }
   ],
   "source": [
    "%matplotlib inline\n",
    "from pylab import *\n",
    "import matplotlib.pyplot as plt\n",
    "\n",
    "import pyAgrum as agrum\n",
    "import pyAgrum.lib.notebook as nb"
   ]
  },
  {
   "cell_type": "code",
   "execution_count": 14,
   "metadata": {
    "collapsed": true
   },
   "outputs": [],
   "source": [
    "''' PRINT BN AND STATISTICS'''\n",
    "path = '/home/maestre/git/a2l_exp_baxter_core/src/generated_files/dataset_size/2017-03-27_23:14:41_8_3'\n",
    "iter = '1'"
   ]
  },
  {
   "cell_type": "code",
   "execution_count": 7,
   "metadata": {
    "collapsed": false
   },
   "outputs": [
    {
     "ename": "IOError",
     "evalue": "an input/output error occurred : No such file /home/maestre/git/a2l_exp_baxter_core/src/generated_files/dataset_size/2017-03-23_07:30:14_16_3/BN_random_30_hard-coded.bi�",
     "output_type": "error",
     "traceback": [
      "\u001b[1;31m---------------------------------------------------------------------------\u001b[0m",
      "\u001b[1;31mIOError\u001b[0m                                   Traceback (most recent call last)",
      "\u001b[1;32m<ipython-input-7-992e5d7250dc>\u001b[0m in \u001b[0;36m<module>\u001b[1;34m()\u001b[0m\n\u001b[0;32m      1\u001b[0m \u001b[0mpath\u001b[0m \u001b[1;33m=\u001b[0m \u001b[1;34m'/home/maestre/git/a2l_exp_baxter_core/src/generated_files/dataset_size/2017-03-23_07:30:14_16_3/'\u001b[0m\u001b[1;33m\u001b[0m\u001b[0m\n\u001b[0;32m      2\u001b[0m \u001b[0miter\u001b[0m \u001b[1;33m=\u001b[0m \u001b[1;34m'30'\u001b[0m\u001b[1;33m\u001b[0m\u001b[0m\n\u001b[1;32m----> 3\u001b[1;33m \u001b[0mbn_random_hill\u001b[0m \u001b[1;33m=\u001b[0m \u001b[0magrum\u001b[0m\u001b[1;33m.\u001b[0m\u001b[0mloadBN\u001b[0m\u001b[1;33m(\u001b[0m\u001b[0mpath\u001b[0m \u001b[1;33m+\u001b[0m \u001b[1;34m\"BN_random_\"\u001b[0m \u001b[1;33m+\u001b[0m \u001b[0miter\u001b[0m \u001b[1;33m+\u001b[0m  \u001b[1;34m\"_hard-coded.bif\"\u001b[0m\u001b[1;33m)\u001b[0m\u001b[1;33m\u001b[0m\u001b[0m\n\u001b[0m\u001b[0;32m      4\u001b[0m \u001b[0mnb\u001b[0m\u001b[1;33m.\u001b[0m\u001b[0mshowBN\u001b[0m\u001b[1;33m(\u001b[0m\u001b[0mbn_random_hill\u001b[0m\u001b[1;33m,\u001b[0m \u001b[0msize\u001b[0m\u001b[1;33m=\u001b[0m\u001b[1;34m\"10\"\u001b[0m\u001b[1;33m)\u001b[0m\u001b[1;33m\u001b[0m\u001b[0m\n",
      "\u001b[1;32m/usr/lib/python2.7/dist-packages/pyAgrum/functions.py\u001b[0m in \u001b[0;36mloadBN\u001b[1;34m(s, listeners)\u001b[0m\n\u001b[0;32m     48\u001b[0m     \u001b[0mextension\u001b[0m\u001b[1;33m=\u001b[0m\u001b[0ms\u001b[0m\u001b[1;33m.\u001b[0m\u001b[0msplit\u001b[0m\u001b[1;33m(\u001b[0m\u001b[1;34m'.'\u001b[0m\u001b[1;33m)\u001b[0m\u001b[1;33m[\u001b[0m\u001b[1;33m-\u001b[0m\u001b[1;36m1\u001b[0m\u001b[1;33m]\u001b[0m\u001b[1;33m.\u001b[0m\u001b[0mupper\u001b[0m\u001b[1;33m(\u001b[0m\u001b[1;33m)\u001b[0m\u001b[1;33m\u001b[0m\u001b[0m\n\u001b[0;32m     49\u001b[0m     \u001b[1;32mif\u001b[0m \u001b[0mextension\u001b[0m\u001b[1;33m==\u001b[0m\u001b[1;34m\"BIF\"\u001b[0m\u001b[1;33m:\u001b[0m\u001b[1;33m\u001b[0m\u001b[0m\n\u001b[1;32m---> 50\u001b[1;33m         \u001b[0mres\u001b[0m\u001b[1;33m=\u001b[0m\u001b[0mbn\u001b[0m\u001b[1;33m.\u001b[0m\u001b[0mloadBIF\u001b[0m\u001b[1;33m(\u001b[0m\u001b[0ms\u001b[0m\u001b[1;33m,\u001b[0m\u001b[0mlisteners\u001b[0m\u001b[1;33m)\u001b[0m\u001b[1;33m\u001b[0m\u001b[0m\n\u001b[0m\u001b[0;32m     51\u001b[0m     \u001b[1;32melif\u001b[0m \u001b[0mextension\u001b[0m\u001b[1;33m==\u001b[0m\u001b[1;34m\"BIFXML\"\u001b[0m\u001b[1;33m:\u001b[0m\u001b[1;33m\u001b[0m\u001b[0m\n\u001b[0;32m     52\u001b[0m         \u001b[0mres\u001b[0m\u001b[1;33m=\u001b[0m\u001b[0mbn\u001b[0m\u001b[1;33m.\u001b[0m\u001b[0mloadBIFXML\u001b[0m\u001b[1;33m(\u001b[0m\u001b[0ms\u001b[0m\u001b[1;33m,\u001b[0m\u001b[0mlisteners\u001b[0m\u001b[1;33m)\u001b[0m\u001b[1;33m\u001b[0m\u001b[0m\n",
      "\u001b[1;32m/usr/lib/python2.7/dist-packages/pyAgrum/pyAgrum.py\u001b[0m in \u001b[0;36mloadBIF\u001b[1;34m(self, *args)\u001b[0m\n\u001b[0;32m   4546\u001b[0m         \u001b[0mloadBIF\u001b[0m\u001b[1;33m(\u001b[0m\u001b[0mBayesNet_double\u001b[0m \u001b[0mself\u001b[0m\u001b[1;33m,\u001b[0m \u001b[0mstd\u001b[0m\u001b[1;33m:\u001b[0m\u001b[1;33m:\u001b[0m\u001b[0mstring\u001b[0m \u001b[0mname\u001b[0m\u001b[1;33m)\u001b[0m \u001b[1;33m-\u001b[0m\u001b[1;33m>\u001b[0m \u001b[0mbool\u001b[0m\u001b[1;33m\u001b[0m\u001b[0m\n\u001b[0;32m   4547\u001b[0m         \"\"\"\n\u001b[1;32m-> 4548\u001b[1;33m         \u001b[1;32mreturn\u001b[0m \u001b[0m_pyAgrum\u001b[0m\u001b[1;33m.\u001b[0m\u001b[0mBayesNet_double_loadBIF\u001b[0m\u001b[1;33m(\u001b[0m\u001b[0mself\u001b[0m\u001b[1;33m,\u001b[0m \u001b[1;33m*\u001b[0m\u001b[0margs\u001b[0m\u001b[1;33m)\u001b[0m\u001b[1;33m\u001b[0m\u001b[0m\n\u001b[0m\u001b[0;32m   4549\u001b[0m \u001b[1;33m\u001b[0m\u001b[0m\n\u001b[0;32m   4550\u001b[0m \u001b[1;33m\u001b[0m\u001b[0m\n",
      "\u001b[1;31mIOError\u001b[0m: an input/output error occurred : No such file /home/maestre/git/a2l_exp_baxter_core/src/generated_files/dataset_size/2017-03-23_07:30:14_16_3/BN_random_30_hard-coded.bi�"
     ]
    }
   ],
   "source": [
    "bn_random_hc = agrum.loadBN(path + \"/BN_random_\" + iter +  \"_hard-coded.bif\")\n",
    "nb.showBN(bn_random_hc, size=\"10\")"
   ]
  },
  {
   "cell_type": "code",
   "execution_count": 15,
   "metadata": {
    "collapsed": false
   },
   "outputs": [
    {
     "name": "stdout",
     "output_type": "stream",
     "text": [
      "/home/maestre/git/a2l_exp_baxter_core/src/generated_files/dataset_size/2017-03-27_23:14:41_8_3/BN_random_initial_hillclimbing.bif:3: 27 : warning : Warning : Properties are not supported yet\n",
      "   property software aGrUM;\n",
      "                          ^\n",
      "\n"
     ]
    },
    {
     "data": {
      "text/html": [
       "<svg height=\"188pt\" viewBox=\"0.00 0.00 175.00 188.00\" width=\"175pt\" xmlns=\"http://www.w3.org/2000/svg\" xmlns:xlink=\"http://www.w3.org/1999/xlink\">\n",
       "<g class=\"graph\" id=\"graph0\" transform=\"scale(1 1) rotate(0) translate(4 184)\">\n",
       "<title>G</title>\n",
       "<polygon fill=\"white\" points=\"-4,4 -4,-184 171,-184 171,4 -4,4\" stroke=\"none\"/>\n",
       "<!-- effect -->\n",
       "<g class=\"node\" id=\"node1\"><title>effect</title>\n",
       "<g id=\"a_node1\"><a xlink:title=\"(0) effect\">\n",
       "<ellipse cx=\"30\" cy=\"-90\" fill=\"#444444\" rx=\"30.3206\" ry=\"18\" stroke=\"black\"/>\n",
       "<text fill=\"#ffffff\" font-family=\"Times,serif\" font-size=\"14.00\" text-anchor=\"middle\" x=\"30\" y=\"-86.3\">effect</text>\n",
       "</a>\n",
       "</g>\n",
       "</g>\n",
       "<!-- move -->\n",
       "<g class=\"node\" id=\"node4\"><title>move</title>\n",
       "<g id=\"a_node4\"><a xlink:title=\"(3) move\">\n",
       "<ellipse cx=\"30\" cy=\"-18\" fill=\"#444444\" rx=\"30.3206\" ry=\"18\" stroke=\"black\"/>\n",
       "<text fill=\"#ffffff\" font-family=\"Times,serif\" font-size=\"14.00\" text-anchor=\"middle\" x=\"30\" y=\"-14.3\">move</text>\n",
       "</a>\n",
       "</g>\n",
       "</g>\n",
       "<!-- effect&#45;&gt;move -->\n",
       "<g class=\"edge\" id=\"edge1\"><title>effect-&gt;move</title>\n",
       "<g id=\"a_edge1\"><a xlink:title=\"(0, 3) : \">\n",
       "<path d=\"M30,-71.6966C30,-63.9827 30,-54.7125 30,-46.1124\" fill=\"none\" stroke=\"black\"/>\n",
       "<polygon fill=\"black\" points=\"33.5001,-46.1043 30,-36.1043 26.5001,-46.1044 33.5001,-46.1043\" stroke=\"black\"/>\n",
       "</a>\n",
       "</g>\n",
       "</g>\n",
       "<!-- distance0 -->\n",
       "<g class=\"node\" id=\"node2\"><title>distance0</title>\n",
       "<g id=\"a_node2\"><a xlink:title=\"(1) distance0\">\n",
       "<ellipse cx=\"123\" cy=\"-90\" fill=\"#444444\" rx=\"44.2946\" ry=\"18\" stroke=\"black\"/>\n",
       "<text fill=\"#ffffff\" font-family=\"Times,serif\" font-size=\"14.00\" text-anchor=\"middle\" x=\"123\" y=\"-86.3\">distance0</text>\n",
       "</a>\n",
       "</g>\n",
       "</g>\n",
       "<!-- orientation0 -->\n",
       "<g class=\"node\" id=\"node3\"><title>orientation0</title>\n",
       "<g id=\"a_node3\"><a xlink:title=\"(2) orientation0\">\n",
       "<ellipse cx=\"76\" cy=\"-162\" fill=\"#444444\" rx=\"52.9443\" ry=\"18\" stroke=\"black\"/>\n",
       "<text fill=\"#ffffff\" font-family=\"Times,serif\" font-size=\"14.00\" text-anchor=\"middle\" x=\"76\" y=\"-158.3\">orientation0</text>\n",
       "</a>\n",
       "</g>\n",
       "</g>\n",
       "<!-- orientation0&#45;&gt;effect -->\n",
       "<g class=\"edge\" id=\"edge2\"><title>orientation0-&gt;effect</title>\n",
       "<g id=\"a_edge2\"><a xlink:title=\"(2, 0) : \">\n",
       "<path d=\"M64.8647,-144.055C59.3033,-135.592 52.4675,-125.19 46.3265,-115.845\" fill=\"none\" stroke=\"black\"/>\n",
       "<polygon fill=\"black\" points=\"49.1328,-113.742 40.716,-107.307 43.2829,-117.586 49.1328,-113.742\" stroke=\"black\"/>\n",
       "</a>\n",
       "</g>\n",
       "</g>\n",
       "<!-- orientation0&#45;&gt;distance0 -->\n",
       "<g class=\"edge\" id=\"edge3\"><title>orientation0-&gt;distance0</title>\n",
       "<g id=\"a_edge3\"><a xlink:title=\"(2, 1) : \">\n",
       "<path d=\"M87.3774,-144.055C92.9773,-135.715 99.8419,-125.491 106.045,-116.252\" fill=\"none\" stroke=\"black\"/>\n",
       "<polygon fill=\"black\" points=\"109.059,-118.042 111.727,-107.789 103.247,-114.14 109.059,-118.042\" stroke=\"black\"/>\n",
       "</a>\n",
       "</g>\n",
       "</g>\n",
       "</g>\n",
       "</svg>"
      ],
      "text/plain": [
       "<IPython.core.display.HTML object>"
      ]
     },
     "metadata": {},
     "output_type": "display_data"
    }
   ],
   "source": [
    "bn_random_hill = agrum.loadBN(path + \"/BN_random_\" + iter +  \"_hillclimbing.bif\")\n",
    "nb.showBN(bn_random_hill, size=\"10\")"
   ]
  },
  {
   "cell_type": "code",
   "execution_count": 9,
   "metadata": {
    "collapsed": false
   },
   "outputs": [
    {
     "ename": "IOError",
     "evalue": "an input/output error occurred : No such file ../generated_files/BN_random_k2.bif",
     "output_type": "error",
     "traceback": [
      "\u001b[1;31m---------------------------------------------------------------------------\u001b[0m",
      "\u001b[1;31mIOError\u001b[0m                                   Traceback (most recent call last)",
      "\u001b[1;32m<ipython-input-9-3baf8519291f>\u001b[0m in \u001b[0;36m<module>\u001b[1;34m()\u001b[0m\n\u001b[1;32m----> 1\u001b[1;33m \u001b[0mbn_random_k2\u001b[0m \u001b[1;33m=\u001b[0m \u001b[0magrum\u001b[0m\u001b[1;33m.\u001b[0m\u001b[0mloadBN\u001b[0m\u001b[1;33m(\u001b[0m\u001b[1;34m\"../generated_files/BN_random_k2.bif\"\u001b[0m\u001b[1;33m)\u001b[0m\u001b[1;33m\u001b[0m\u001b[0m\n\u001b[0m\u001b[0;32m      2\u001b[0m \u001b[0mnb\u001b[0m\u001b[1;33m.\u001b[0m\u001b[0mshowBN\u001b[0m\u001b[1;33m(\u001b[0m\u001b[0mbn_random_k2\u001b[0m\u001b[1;33m,\u001b[0m \u001b[0msize\u001b[0m\u001b[1;33m=\u001b[0m\u001b[1;34m\"10\"\u001b[0m\u001b[1;33m)\u001b[0m\u001b[1;33m\u001b[0m\u001b[0m\n\u001b[0;32m      3\u001b[0m \u001b[1;32mif\u001b[0m \u001b[0mposterior\u001b[0m\u001b[1;33m:\u001b[0m\u001b[1;33m\u001b[0m\u001b[0m\n\u001b[0;32m      4\u001b[0m     \u001b[0mnb\u001b[0m\u001b[1;33m.\u001b[0m\u001b[0mshowPosterior\u001b[0m\u001b[1;33m(\u001b[0m\u001b[0mbn_random_k2\u001b[0m\u001b[1;33m,\u001b[0m\u001b[1;33m{\u001b[0m\u001b[1;34m'effect'\u001b[0m\u001b[1;33m:\u001b[0m\u001b[0m_effect\u001b[0m\u001b[1;33m,\u001b[0m \u001b[1;34m'orientation'\u001b[0m\u001b[1;33m:\u001b[0m\u001b[0m_orientation\u001b[0m\u001b[1;33m,\u001b[0m \u001b[1;34m'distance'\u001b[0m\u001b[1;33m:\u001b[0m\u001b[1;34m'remote'\u001b[0m\u001b[1;33m}\u001b[0m\u001b[1;33m,\u001b[0m\u001b[1;34m'move'\u001b[0m\u001b[1;33m)\u001b[0m\u001b[1;33m\u001b[0m\u001b[0m\n\u001b[0;32m      5\u001b[0m     \u001b[0mnb\u001b[0m\u001b[1;33m.\u001b[0m\u001b[0mshowPosterior\u001b[0m\u001b[1;33m(\u001b[0m\u001b[0mbn_random_k2\u001b[0m\u001b[1;33m,\u001b[0m\u001b[1;33m{\u001b[0m\u001b[1;34m'effect'\u001b[0m\u001b[1;33m:\u001b[0m\u001b[0m_effect\u001b[0m\u001b[1;33m,\u001b[0m \u001b[1;34m'orientation'\u001b[0m\u001b[1;33m:\u001b[0m\u001b[0m_orientation\u001b[0m\u001b[1;33m,\u001b[0m \u001b[1;34m'distance'\u001b[0m\u001b[1;33m:\u001b[0m\u001b[1;34m'far'\u001b[0m\u001b[1;33m}\u001b[0m\u001b[1;33m,\u001b[0m\u001b[1;34m'move'\u001b[0m\u001b[1;33m)\u001b[0m\u001b[1;33m\u001b[0m\u001b[0m\n",
      "\u001b[1;32m/usr/lib/python2.7/dist-packages/pyAgrum/functions.py\u001b[0m in \u001b[0;36mloadBN\u001b[1;34m(s, listeners)\u001b[0m\n\u001b[0;32m     48\u001b[0m     \u001b[0mextension\u001b[0m\u001b[1;33m=\u001b[0m\u001b[0ms\u001b[0m\u001b[1;33m.\u001b[0m\u001b[0msplit\u001b[0m\u001b[1;33m(\u001b[0m\u001b[1;34m'.'\u001b[0m\u001b[1;33m)\u001b[0m\u001b[1;33m[\u001b[0m\u001b[1;33m-\u001b[0m\u001b[1;36m1\u001b[0m\u001b[1;33m]\u001b[0m\u001b[1;33m.\u001b[0m\u001b[0mupper\u001b[0m\u001b[1;33m(\u001b[0m\u001b[1;33m)\u001b[0m\u001b[1;33m\u001b[0m\u001b[0m\n\u001b[0;32m     49\u001b[0m     \u001b[1;32mif\u001b[0m \u001b[0mextension\u001b[0m\u001b[1;33m==\u001b[0m\u001b[1;34m\"BIF\"\u001b[0m\u001b[1;33m:\u001b[0m\u001b[1;33m\u001b[0m\u001b[0m\n\u001b[1;32m---> 50\u001b[1;33m         \u001b[0mres\u001b[0m\u001b[1;33m=\u001b[0m\u001b[0mbn\u001b[0m\u001b[1;33m.\u001b[0m\u001b[0mloadBIF\u001b[0m\u001b[1;33m(\u001b[0m\u001b[0ms\u001b[0m\u001b[1;33m,\u001b[0m\u001b[0mlisteners\u001b[0m\u001b[1;33m)\u001b[0m\u001b[1;33m\u001b[0m\u001b[0m\n\u001b[0m\u001b[0;32m     51\u001b[0m     \u001b[1;32melif\u001b[0m \u001b[0mextension\u001b[0m\u001b[1;33m==\u001b[0m\u001b[1;34m\"BIFXML\"\u001b[0m\u001b[1;33m:\u001b[0m\u001b[1;33m\u001b[0m\u001b[0m\n\u001b[0;32m     52\u001b[0m         \u001b[0mres\u001b[0m\u001b[1;33m=\u001b[0m\u001b[0mbn\u001b[0m\u001b[1;33m.\u001b[0m\u001b[0mloadBIFXML\u001b[0m\u001b[1;33m(\u001b[0m\u001b[0ms\u001b[0m\u001b[1;33m,\u001b[0m\u001b[0mlisteners\u001b[0m\u001b[1;33m)\u001b[0m\u001b[1;33m\u001b[0m\u001b[0m\n",
      "\u001b[1;32m/usr/lib/python2.7/dist-packages/pyAgrum/pyAgrum.py\u001b[0m in \u001b[0;36mloadBIF\u001b[1;34m(self, *args)\u001b[0m\n\u001b[0;32m   4546\u001b[0m         \u001b[0mloadBIF\u001b[0m\u001b[1;33m(\u001b[0m\u001b[0mBayesNet_double\u001b[0m \u001b[0mself\u001b[0m\u001b[1;33m,\u001b[0m \u001b[0mstd\u001b[0m\u001b[1;33m:\u001b[0m\u001b[1;33m:\u001b[0m\u001b[0mstring\u001b[0m \u001b[0mname\u001b[0m\u001b[1;33m)\u001b[0m \u001b[1;33m-\u001b[0m\u001b[1;33m>\u001b[0m \u001b[0mbool\u001b[0m\u001b[1;33m\u001b[0m\u001b[0m\n\u001b[0;32m   4547\u001b[0m         \"\"\"\n\u001b[1;32m-> 4548\u001b[1;33m         \u001b[1;32mreturn\u001b[0m \u001b[0m_pyAgrum\u001b[0m\u001b[1;33m.\u001b[0m\u001b[0mBayesNet_double_loadBIF\u001b[0m\u001b[1;33m(\u001b[0m\u001b[0mself\u001b[0m\u001b[1;33m,\u001b[0m \u001b[1;33m*\u001b[0m\u001b[0margs\u001b[0m\u001b[1;33m)\u001b[0m\u001b[1;33m\u001b[0m\u001b[0m\n\u001b[0m\u001b[0;32m   4549\u001b[0m \u001b[1;33m\u001b[0m\u001b[0m\n\u001b[0;32m   4550\u001b[0m \u001b[1;33m\u001b[0m\u001b[0m\n",
      "\u001b[1;31mIOError\u001b[0m: an input/output error occurred : No such file ../generated_files/BN_random_k2.bif"
     ]
    }
   ],
   "source": [
    "bn_random_k2 = agrum.loadBN(\"../generated_files/BN_random_k2.bif\")\n",
    "nb.showBN(bn_random_k2, size=\"10\")\n",
    "if posterior:\n",
    "    nb.showPosterior(bn_random_k2,{'effect':_effect, 'orientation':_orientation, 'distance':'remote'},'move')\n",
    "    nb.showPosterior(bn_random_k2,{'effect':_effect, 'orientation':_orientation, 'distance':'far'},'move')\n",
    "    nb.showPosterior(bn_random_k2,{'effect':_effect, 'orientation':_orientation, 'distance':'close'},'move')"
   ]
  },
  {
   "cell_type": "code",
   "execution_count": null,
   "metadata": {
    "collapsed": true
   },
   "outputs": [],
   "source": []
  }
 ],
 "metadata": {
  "kernelspec": {
   "display_name": "Python 2",
   "language": "python",
   "name": "python2"
  },
  "language_info": {
   "codemirror_mode": {
    "name": "ipython",
    "version": 2
   },
   "file_extension": ".py",
   "mimetype": "text/x-python",
   "name": "python",
   "nbconvert_exporter": "python",
   "pygments_lexer": "ipython2",
   "version": "2.7.6"
  }
 },
 "nbformat": 4,
 "nbformat_minor": 0
}
