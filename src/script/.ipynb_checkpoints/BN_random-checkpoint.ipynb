{
 "cells": [
  {
   "cell_type": "code",
   "execution_count": 1,
   "metadata": {
    "collapsed": false
   },
   "outputs": [
    {
     "name": "stderr",
     "output_type": "stream",
     "text": [
      "/usr/lib/pymodules/python2.7/matplotlib/__init__.py:935: UserWarning: Bad val \"1\" on line #398\n",
      "\t\"pdf.fonttype       : 1         # Output Type 3 (Type3) or Type 42 (TrueType)\n",
      "\"\n",
      "\tin file \"/etc/matplotlibrc\"\n",
      "\tSupported Postscript/PDF font types are [42, 3]\n",
      "  \"%s\"\\n\\t%s' % (val, cnt, line, fname, msg))\n"
     ]
    }
   ],
   "source": [
    "%matplotlib inline\n",
    "from pylab import *\n",
    "import matplotlib.pyplot as plt\n",
    "\n",
    "import pyAgrum as agrum\n",
    "import pyAgrum.lib.notebook as nb"
   ]
  },
  {
   "cell_type": "code",
   "execution_count": 2,
   "metadata": {
    "collapsed": true
   },
   "outputs": [],
   "source": [
    "''' PRINT BN AND STATISTICS'''\n",
    "_effect = 'right'\n",
    "_orientation = 'left-down'\n",
    "_distance = 'dist_0'\n",
    "posterior = True"
   ]
  },
  {
   "cell_type": "code",
   "execution_count": 4,
   "metadata": {
    "collapsed": false
   },
   "outputs": [
    {
     "ename": "IOError",
     "evalue": "an input/output error occurred : No such file ../generated_files/BN_random_hand-coded.bif",
     "output_type": "error",
     "traceback": [
      "\u001b[1;31m---------------------------------------------------------------------------\u001b[0m",
      "\u001b[1;31mIOError\u001b[0m                                   Traceback (most recent call last)",
      "\u001b[1;32m<ipython-input-4-db311f3da77e>\u001b[0m in \u001b[0;36m<module>\u001b[1;34m()\u001b[0m\n\u001b[1;32m----> 1\u001b[1;33m \u001b[0mbn_random_hand\u001b[0m \u001b[1;33m=\u001b[0m \u001b[0magrum\u001b[0m\u001b[1;33m.\u001b[0m\u001b[0mloadBN\u001b[0m\u001b[1;33m(\u001b[0m\u001b[1;34m\"../generated_files/BN_random_hand-coded.bif\"\u001b[0m\u001b[1;33m)\u001b[0m\u001b[1;33m\u001b[0m\u001b[0m\n\u001b[0m\u001b[0;32m      2\u001b[0m \u001b[0mnb\u001b[0m\u001b[1;33m.\u001b[0m\u001b[0mshowBN\u001b[0m\u001b[1;33m(\u001b[0m\u001b[0mbn_random_hand\u001b[0m\u001b[1;33m,\u001b[0m \u001b[0msize\u001b[0m\u001b[1;33m=\u001b[0m\u001b[1;34m\"10\"\u001b[0m\u001b[1;33m)\u001b[0m\u001b[1;33m\u001b[0m\u001b[0m\n\u001b[0;32m      3\u001b[0m \u001b[1;31m#if posterior:\u001b[0m\u001b[1;33m\u001b[0m\u001b[1;33m\u001b[0m\u001b[0m\n\u001b[0;32m      4\u001b[0m \u001b[1;31m#    nb.showPosterior(bn_random_hand,{'effect':_effect, 'orientation':_orientation, 'distance':'remote'},'move')\u001b[0m\u001b[1;33m\u001b[0m\u001b[1;33m\u001b[0m\u001b[0m\n\u001b[0;32m      5\u001b[0m \u001b[1;31m#    nb.showPosterior(bn_random_hand,{'effect':_effect, 'orientation':_orientation, 'distance':'far'},'move')\u001b[0m\u001b[1;33m\u001b[0m\u001b[1;33m\u001b[0m\u001b[0m\n",
      "\u001b[1;32m/usr/lib/python2.7/dist-packages/pyAgrum/functions.py\u001b[0m in \u001b[0;36mloadBN\u001b[1;34m(s, listeners)\u001b[0m\n\u001b[0;32m     48\u001b[0m     \u001b[0mextension\u001b[0m\u001b[1;33m=\u001b[0m\u001b[0ms\u001b[0m\u001b[1;33m.\u001b[0m\u001b[0msplit\u001b[0m\u001b[1;33m(\u001b[0m\u001b[1;34m'.'\u001b[0m\u001b[1;33m)\u001b[0m\u001b[1;33m[\u001b[0m\u001b[1;33m-\u001b[0m\u001b[1;36m1\u001b[0m\u001b[1;33m]\u001b[0m\u001b[1;33m.\u001b[0m\u001b[0mupper\u001b[0m\u001b[1;33m(\u001b[0m\u001b[1;33m)\u001b[0m\u001b[1;33m\u001b[0m\u001b[0m\n\u001b[0;32m     49\u001b[0m     \u001b[1;32mif\u001b[0m \u001b[0mextension\u001b[0m\u001b[1;33m==\u001b[0m\u001b[1;34m\"BIF\"\u001b[0m\u001b[1;33m:\u001b[0m\u001b[1;33m\u001b[0m\u001b[0m\n\u001b[1;32m---> 50\u001b[1;33m         \u001b[0mres\u001b[0m\u001b[1;33m=\u001b[0m\u001b[0mbn\u001b[0m\u001b[1;33m.\u001b[0m\u001b[0mloadBIF\u001b[0m\u001b[1;33m(\u001b[0m\u001b[0ms\u001b[0m\u001b[1;33m,\u001b[0m\u001b[0mlisteners\u001b[0m\u001b[1;33m)\u001b[0m\u001b[1;33m\u001b[0m\u001b[0m\n\u001b[0m\u001b[0;32m     51\u001b[0m     \u001b[1;32melif\u001b[0m \u001b[0mextension\u001b[0m\u001b[1;33m==\u001b[0m\u001b[1;34m\"BIFXML\"\u001b[0m\u001b[1;33m:\u001b[0m\u001b[1;33m\u001b[0m\u001b[0m\n\u001b[0;32m     52\u001b[0m         \u001b[0mres\u001b[0m\u001b[1;33m=\u001b[0m\u001b[0mbn\u001b[0m\u001b[1;33m.\u001b[0m\u001b[0mloadBIFXML\u001b[0m\u001b[1;33m(\u001b[0m\u001b[0ms\u001b[0m\u001b[1;33m,\u001b[0m\u001b[0mlisteners\u001b[0m\u001b[1;33m)\u001b[0m\u001b[1;33m\u001b[0m\u001b[0m\n",
      "\u001b[1;32m/usr/lib/python2.7/dist-packages/pyAgrum/pyAgrum.py\u001b[0m in \u001b[0;36mloadBIF\u001b[1;34m(self, *args)\u001b[0m\n\u001b[0;32m   4546\u001b[0m         \u001b[0mloadBIF\u001b[0m\u001b[1;33m(\u001b[0m\u001b[0mBayesNet_double\u001b[0m \u001b[0mself\u001b[0m\u001b[1;33m,\u001b[0m \u001b[0mstd\u001b[0m\u001b[1;33m:\u001b[0m\u001b[1;33m:\u001b[0m\u001b[0mstring\u001b[0m \u001b[0mname\u001b[0m\u001b[1;33m)\u001b[0m \u001b[1;33m-\u001b[0m\u001b[1;33m>\u001b[0m \u001b[0mbool\u001b[0m\u001b[1;33m\u001b[0m\u001b[0m\n\u001b[0;32m   4547\u001b[0m         \"\"\"\n\u001b[1;32m-> 4548\u001b[1;33m         \u001b[1;32mreturn\u001b[0m \u001b[0m_pyAgrum\u001b[0m\u001b[1;33m.\u001b[0m\u001b[0mBayesNet_double_loadBIF\u001b[0m\u001b[1;33m(\u001b[0m\u001b[0mself\u001b[0m\u001b[1;33m,\u001b[0m \u001b[1;33m*\u001b[0m\u001b[0margs\u001b[0m\u001b[1;33m)\u001b[0m\u001b[1;33m\u001b[0m\u001b[0m\n\u001b[0m\u001b[0;32m   4549\u001b[0m \u001b[1;33m\u001b[0m\u001b[0m\n\u001b[0;32m   4550\u001b[0m \u001b[1;33m\u001b[0m\u001b[0m\n",
      "\u001b[1;31mIOError\u001b[0m: an input/output error occurred : No such file ../generated_files/BN_random_hand-coded.bif"
     ]
    }
   ],
   "source": [
    "path = '/home/maestre/git/a2l_exp_baxter_core/src/generated_files/dataset_size/2017-03-22_11:43:16_16_3/'\n",
    "iter = 'initial'\n",
    "bn_random_hill = agrum.loadBN(path + \"BN_random_\" + iter +  \"_hard-coded.bif\")\n",
    "nb.showBN(bn_random_hill, size=\"10\")"
   ]
  },
  {
   "cell_type": "code",
   "execution_count": 4,
   "metadata": {
    "collapsed": false
   },
   "outputs": [
    {
     "ename": "IOError",
     "evalue": "an input/output error occurred : No such file /home/maestre/git/a2l_exp_baxter_core/src/generated_files/dataset_size/2017-03-22_11:43:16_16_3/BN_random_initial_hillclimbing.bif",
     "output_type": "error",
     "traceback": [
      "\u001b[1;31m---------------------------------------------------------------------------\u001b[0m",
      "\u001b[1;31mIOError\u001b[0m                                   Traceback (most recent call last)",
      "\u001b[1;32m<ipython-input-4-78534ff6ea4e>\u001b[0m in \u001b[0;36m<module>\u001b[1;34m()\u001b[0m\n\u001b[0;32m      1\u001b[0m \u001b[0mpath\u001b[0m \u001b[1;33m=\u001b[0m \u001b[1;34m'/home/maestre/git/a2l_exp_baxter_core/src/generated_files/dataset_size/2017-03-22_11:43:16_16_3/'\u001b[0m\u001b[1;33m\u001b[0m\u001b[0m\n\u001b[0;32m      2\u001b[0m \u001b[0miter\u001b[0m \u001b[1;33m=\u001b[0m \u001b[1;34m'initial'\u001b[0m\u001b[1;33m\u001b[0m\u001b[0m\n\u001b[1;32m----> 3\u001b[1;33m \u001b[0mbn_random_hill\u001b[0m \u001b[1;33m=\u001b[0m \u001b[0magrum\u001b[0m\u001b[1;33m.\u001b[0m\u001b[0mloadBN\u001b[0m\u001b[1;33m(\u001b[0m\u001b[0mpath\u001b[0m \u001b[1;33m+\u001b[0m \u001b[1;34m\"BN_random_\"\u001b[0m \u001b[1;33m+\u001b[0m \u001b[0miter\u001b[0m \u001b[1;33m+\u001b[0m  \u001b[1;34m\"_hillclimbing.bif\"\u001b[0m\u001b[1;33m)\u001b[0m\u001b[1;33m\u001b[0m\u001b[0m\n\u001b[0m\u001b[0;32m      4\u001b[0m \u001b[0mnb\u001b[0m\u001b[1;33m.\u001b[0m\u001b[0mshowBN\u001b[0m\u001b[1;33m(\u001b[0m\u001b[0mbn_random_hill\u001b[0m\u001b[1;33m,\u001b[0m \u001b[0msize\u001b[0m\u001b[1;33m=\u001b[0m\u001b[1;34m\"10\"\u001b[0m\u001b[1;33m)\u001b[0m\u001b[1;33m\u001b[0m\u001b[0m\n",
      "\u001b[1;32m/usr/lib/python2.7/dist-packages/pyAgrum/functions.py\u001b[0m in \u001b[0;36mloadBN\u001b[1;34m(s, listeners)\u001b[0m\n\u001b[0;32m     48\u001b[0m     \u001b[0mextension\u001b[0m\u001b[1;33m=\u001b[0m\u001b[0ms\u001b[0m\u001b[1;33m.\u001b[0m\u001b[0msplit\u001b[0m\u001b[1;33m(\u001b[0m\u001b[1;34m'.'\u001b[0m\u001b[1;33m)\u001b[0m\u001b[1;33m[\u001b[0m\u001b[1;33m-\u001b[0m\u001b[1;36m1\u001b[0m\u001b[1;33m]\u001b[0m\u001b[1;33m.\u001b[0m\u001b[0mupper\u001b[0m\u001b[1;33m(\u001b[0m\u001b[1;33m)\u001b[0m\u001b[1;33m\u001b[0m\u001b[0m\n\u001b[0;32m     49\u001b[0m     \u001b[1;32mif\u001b[0m \u001b[0mextension\u001b[0m\u001b[1;33m==\u001b[0m\u001b[1;34m\"BIF\"\u001b[0m\u001b[1;33m:\u001b[0m\u001b[1;33m\u001b[0m\u001b[0m\n\u001b[1;32m---> 50\u001b[1;33m         \u001b[0mres\u001b[0m\u001b[1;33m=\u001b[0m\u001b[0mbn\u001b[0m\u001b[1;33m.\u001b[0m\u001b[0mloadBIF\u001b[0m\u001b[1;33m(\u001b[0m\u001b[0ms\u001b[0m\u001b[1;33m,\u001b[0m\u001b[0mlisteners\u001b[0m\u001b[1;33m)\u001b[0m\u001b[1;33m\u001b[0m\u001b[0m\n\u001b[0m\u001b[0;32m     51\u001b[0m     \u001b[1;32melif\u001b[0m \u001b[0mextension\u001b[0m\u001b[1;33m==\u001b[0m\u001b[1;34m\"BIFXML\"\u001b[0m\u001b[1;33m:\u001b[0m\u001b[1;33m\u001b[0m\u001b[0m\n\u001b[0;32m     52\u001b[0m         \u001b[0mres\u001b[0m\u001b[1;33m=\u001b[0m\u001b[0mbn\u001b[0m\u001b[1;33m.\u001b[0m\u001b[0mloadBIFXML\u001b[0m\u001b[1;33m(\u001b[0m\u001b[0ms\u001b[0m\u001b[1;33m,\u001b[0m\u001b[0mlisteners\u001b[0m\u001b[1;33m)\u001b[0m\u001b[1;33m\u001b[0m\u001b[0m\n",
      "\u001b[1;32m/usr/lib/python2.7/dist-packages/pyAgrum/pyAgrum.py\u001b[0m in \u001b[0;36mloadBIF\u001b[1;34m(self, *args)\u001b[0m\n\u001b[0;32m   4546\u001b[0m         \u001b[0mloadBIF\u001b[0m\u001b[1;33m(\u001b[0m\u001b[0mBayesNet_double\u001b[0m \u001b[0mself\u001b[0m\u001b[1;33m,\u001b[0m \u001b[0mstd\u001b[0m\u001b[1;33m:\u001b[0m\u001b[1;33m:\u001b[0m\u001b[0mstring\u001b[0m \u001b[0mname\u001b[0m\u001b[1;33m)\u001b[0m \u001b[1;33m-\u001b[0m\u001b[1;33m>\u001b[0m \u001b[0mbool\u001b[0m\u001b[1;33m\u001b[0m\u001b[0m\n\u001b[0;32m   4547\u001b[0m         \"\"\"\n\u001b[1;32m-> 4548\u001b[1;33m         \u001b[1;32mreturn\u001b[0m \u001b[0m_pyAgrum\u001b[0m\u001b[1;33m.\u001b[0m\u001b[0mBayesNet_double_loadBIF\u001b[0m\u001b[1;33m(\u001b[0m\u001b[0mself\u001b[0m\u001b[1;33m,\u001b[0m \u001b[1;33m*\u001b[0m\u001b[0margs\u001b[0m\u001b[1;33m)\u001b[0m\u001b[1;33m\u001b[0m\u001b[0m\n\u001b[0m\u001b[0;32m   4549\u001b[0m \u001b[1;33m\u001b[0m\u001b[0m\n\u001b[0;32m   4550\u001b[0m \u001b[1;33m\u001b[0m\u001b[0m\n",
      "\u001b[1;31mIOError\u001b[0m: an input/output error occurred : No such file /home/maestre/git/a2l_exp_baxter_core/src/generated_files/dataset_size/2017-03-22_11:43:16_16_3/BN_random_initial_hillclimbing.bif"
     ]
    }
   ],
   "source": [
    "path = '/home/maestre/git/a2l_exp_baxter_core/src/generated_files/dataset_size/2017-03-22_11:43:16_16_3/'\n",
    "iter = 'initial'\n",
    "bn_random_hill = agrum.loadBN(path + \"BN_random_\" + iter +  \"_hillclimbing.bif\")\n",
    "nb.showBN(bn_random_hill, size=\"10\")"
   ]
  },
  {
   "cell_type": "code",
   "execution_count": 9,
   "metadata": {
    "collapsed": false
   },
   "outputs": [
    {
     "ename": "IOError",
     "evalue": "an input/output error occurred : No such file ../generated_files/BN_random_k2.bif",
     "output_type": "error",
     "traceback": [
      "\u001b[1;31m---------------------------------------------------------------------------\u001b[0m",
      "\u001b[1;31mIOError\u001b[0m                                   Traceback (most recent call last)",
      "\u001b[1;32m<ipython-input-9-3baf8519291f>\u001b[0m in \u001b[0;36m<module>\u001b[1;34m()\u001b[0m\n\u001b[1;32m----> 1\u001b[1;33m \u001b[0mbn_random_k2\u001b[0m \u001b[1;33m=\u001b[0m \u001b[0magrum\u001b[0m\u001b[1;33m.\u001b[0m\u001b[0mloadBN\u001b[0m\u001b[1;33m(\u001b[0m\u001b[1;34m\"../generated_files/BN_random_k2.bif\"\u001b[0m\u001b[1;33m)\u001b[0m\u001b[1;33m\u001b[0m\u001b[0m\n\u001b[0m\u001b[0;32m      2\u001b[0m \u001b[0mnb\u001b[0m\u001b[1;33m.\u001b[0m\u001b[0mshowBN\u001b[0m\u001b[1;33m(\u001b[0m\u001b[0mbn_random_k2\u001b[0m\u001b[1;33m,\u001b[0m \u001b[0msize\u001b[0m\u001b[1;33m=\u001b[0m\u001b[1;34m\"10\"\u001b[0m\u001b[1;33m)\u001b[0m\u001b[1;33m\u001b[0m\u001b[0m\n\u001b[0;32m      3\u001b[0m \u001b[1;32mif\u001b[0m \u001b[0mposterior\u001b[0m\u001b[1;33m:\u001b[0m\u001b[1;33m\u001b[0m\u001b[0m\n\u001b[0;32m      4\u001b[0m     \u001b[0mnb\u001b[0m\u001b[1;33m.\u001b[0m\u001b[0mshowPosterior\u001b[0m\u001b[1;33m(\u001b[0m\u001b[0mbn_random_k2\u001b[0m\u001b[1;33m,\u001b[0m\u001b[1;33m{\u001b[0m\u001b[1;34m'effect'\u001b[0m\u001b[1;33m:\u001b[0m\u001b[0m_effect\u001b[0m\u001b[1;33m,\u001b[0m \u001b[1;34m'orientation'\u001b[0m\u001b[1;33m:\u001b[0m\u001b[0m_orientation\u001b[0m\u001b[1;33m,\u001b[0m \u001b[1;34m'distance'\u001b[0m\u001b[1;33m:\u001b[0m\u001b[1;34m'remote'\u001b[0m\u001b[1;33m}\u001b[0m\u001b[1;33m,\u001b[0m\u001b[1;34m'move'\u001b[0m\u001b[1;33m)\u001b[0m\u001b[1;33m\u001b[0m\u001b[0m\n\u001b[0;32m      5\u001b[0m     \u001b[0mnb\u001b[0m\u001b[1;33m.\u001b[0m\u001b[0mshowPosterior\u001b[0m\u001b[1;33m(\u001b[0m\u001b[0mbn_random_k2\u001b[0m\u001b[1;33m,\u001b[0m\u001b[1;33m{\u001b[0m\u001b[1;34m'effect'\u001b[0m\u001b[1;33m:\u001b[0m\u001b[0m_effect\u001b[0m\u001b[1;33m,\u001b[0m \u001b[1;34m'orientation'\u001b[0m\u001b[1;33m:\u001b[0m\u001b[0m_orientation\u001b[0m\u001b[1;33m,\u001b[0m \u001b[1;34m'distance'\u001b[0m\u001b[1;33m:\u001b[0m\u001b[1;34m'far'\u001b[0m\u001b[1;33m}\u001b[0m\u001b[1;33m,\u001b[0m\u001b[1;34m'move'\u001b[0m\u001b[1;33m)\u001b[0m\u001b[1;33m\u001b[0m\u001b[0m\n",
      "\u001b[1;32m/usr/lib/python2.7/dist-packages/pyAgrum/functions.py\u001b[0m in \u001b[0;36mloadBN\u001b[1;34m(s, listeners)\u001b[0m\n\u001b[0;32m     48\u001b[0m     \u001b[0mextension\u001b[0m\u001b[1;33m=\u001b[0m\u001b[0ms\u001b[0m\u001b[1;33m.\u001b[0m\u001b[0msplit\u001b[0m\u001b[1;33m(\u001b[0m\u001b[1;34m'.'\u001b[0m\u001b[1;33m)\u001b[0m\u001b[1;33m[\u001b[0m\u001b[1;33m-\u001b[0m\u001b[1;36m1\u001b[0m\u001b[1;33m]\u001b[0m\u001b[1;33m.\u001b[0m\u001b[0mupper\u001b[0m\u001b[1;33m(\u001b[0m\u001b[1;33m)\u001b[0m\u001b[1;33m\u001b[0m\u001b[0m\n\u001b[0;32m     49\u001b[0m     \u001b[1;32mif\u001b[0m \u001b[0mextension\u001b[0m\u001b[1;33m==\u001b[0m\u001b[1;34m\"BIF\"\u001b[0m\u001b[1;33m:\u001b[0m\u001b[1;33m\u001b[0m\u001b[0m\n\u001b[1;32m---> 50\u001b[1;33m         \u001b[0mres\u001b[0m\u001b[1;33m=\u001b[0m\u001b[0mbn\u001b[0m\u001b[1;33m.\u001b[0m\u001b[0mloadBIF\u001b[0m\u001b[1;33m(\u001b[0m\u001b[0ms\u001b[0m\u001b[1;33m,\u001b[0m\u001b[0mlisteners\u001b[0m\u001b[1;33m)\u001b[0m\u001b[1;33m\u001b[0m\u001b[0m\n\u001b[0m\u001b[0;32m     51\u001b[0m     \u001b[1;32melif\u001b[0m \u001b[0mextension\u001b[0m\u001b[1;33m==\u001b[0m\u001b[1;34m\"BIFXML\"\u001b[0m\u001b[1;33m:\u001b[0m\u001b[1;33m\u001b[0m\u001b[0m\n\u001b[0;32m     52\u001b[0m         \u001b[0mres\u001b[0m\u001b[1;33m=\u001b[0m\u001b[0mbn\u001b[0m\u001b[1;33m.\u001b[0m\u001b[0mloadBIFXML\u001b[0m\u001b[1;33m(\u001b[0m\u001b[0ms\u001b[0m\u001b[1;33m,\u001b[0m\u001b[0mlisteners\u001b[0m\u001b[1;33m)\u001b[0m\u001b[1;33m\u001b[0m\u001b[0m\n",
      "\u001b[1;32m/usr/lib/python2.7/dist-packages/pyAgrum/pyAgrum.py\u001b[0m in \u001b[0;36mloadBIF\u001b[1;34m(self, *args)\u001b[0m\n\u001b[0;32m   4546\u001b[0m         \u001b[0mloadBIF\u001b[0m\u001b[1;33m(\u001b[0m\u001b[0mBayesNet_double\u001b[0m \u001b[0mself\u001b[0m\u001b[1;33m,\u001b[0m \u001b[0mstd\u001b[0m\u001b[1;33m:\u001b[0m\u001b[1;33m:\u001b[0m\u001b[0mstring\u001b[0m \u001b[0mname\u001b[0m\u001b[1;33m)\u001b[0m \u001b[1;33m-\u001b[0m\u001b[1;33m>\u001b[0m \u001b[0mbool\u001b[0m\u001b[1;33m\u001b[0m\u001b[0m\n\u001b[0;32m   4547\u001b[0m         \"\"\"\n\u001b[1;32m-> 4548\u001b[1;33m         \u001b[1;32mreturn\u001b[0m \u001b[0m_pyAgrum\u001b[0m\u001b[1;33m.\u001b[0m\u001b[0mBayesNet_double_loadBIF\u001b[0m\u001b[1;33m(\u001b[0m\u001b[0mself\u001b[0m\u001b[1;33m,\u001b[0m \u001b[1;33m*\u001b[0m\u001b[0margs\u001b[0m\u001b[1;33m)\u001b[0m\u001b[1;33m\u001b[0m\u001b[0m\n\u001b[0m\u001b[0;32m   4549\u001b[0m \u001b[1;33m\u001b[0m\u001b[0m\n\u001b[0;32m   4550\u001b[0m \u001b[1;33m\u001b[0m\u001b[0m\n",
      "\u001b[1;31mIOError\u001b[0m: an input/output error occurred : No such file ../generated_files/BN_random_k2.bif"
     ]
    }
   ],
   "source": [
    "bn_random_k2 = agrum.loadBN(\"../generated_files/BN_random_k2.bif\")\n",
    "nb.showBN(bn_random_k2, size=\"10\")\n",
    "if posterior:\n",
    "    nb.showPosterior(bn_random_k2,{'effect':_effect, 'orientation':_orientation, 'distance':'remote'},'move')\n",
    "    nb.showPosterior(bn_random_k2,{'effect':_effect, 'orientation':_orientation, 'distance':'far'},'move')\n",
    "    nb.showPosterior(bn_random_k2,{'effect':_effect, 'orientation':_orientation, 'distance':'close'},'move')"
   ]
  },
  {
   "cell_type": "code",
   "execution_count": null,
   "metadata": {
    "collapsed": true
   },
   "outputs": [],
   "source": []
  }
 ],
 "metadata": {
  "kernelspec": {
   "display_name": "Python 2",
   "language": "python",
   "name": "python2"
  },
  "language_info": {
   "codemirror_mode": {
    "name": "ipython",
    "version": 2
   },
   "file_extension": ".py",
   "mimetype": "text/x-python",
   "name": "python",
   "nbconvert_exporter": "python",
   "pygments_lexer": "ipython2",
   "version": "2.7.6"
  }
 },
 "nbformat": 4,
 "nbformat_minor": 0
}
