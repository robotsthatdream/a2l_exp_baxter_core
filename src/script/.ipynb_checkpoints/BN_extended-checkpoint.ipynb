{
 "cells": [
  {
   "cell_type": "code",
   "execution_count": 46,
   "metadata": {
    "collapsed": false
   },
   "outputs": [],
   "source": [
    "%matplotlib inline\n",
    "from pylab import *\n",
    "import matplotlib.pyplot as plt\n",
    "\n",
    "import pyAgrum as agrum\n",
    "import pyAgrum.lib.notebook as nb"
   ]
  },
  {
   "cell_type": "code",
   "execution_count": 49,
   "metadata": {
    "collapsed": true
   },
   "outputs": [],
   "source": [
    "''' PRINT BN AND STATISTICS'''\n",
    "_effect = 'left'\n",
    "_orientation = 'left-down'\n",
    "posterior = False"
   ]
  },
  {
   "cell_type": "code",
   "execution_count": 50,
   "metadata": {
    "collapsed": false
   },
   "outputs": [
    {
     "data": {
      "text/html": [
       "<div align='center'><svg height=\"188pt\" viewBox=\"0.00 0.00 204.00 188.00\" width=\"204pt\" xmlns=\"http://www.w3.org/2000/svg\" xmlns:xlink=\"http://www.w3.org/1999/xlink\">\n",
       "<g class=\"graph\" id=\"graph0\" transform=\"scale(1 1) rotate(0) translate(4 184)\">\n",
       "<title>G</title>\n",
       "<polygon fill=\"white\" points=\"-4,4 -4,-184 200,-184 200,4 -4,4\" stroke=\"none\"/>\n",
       "<!-- effect -->\n",
       "<g class=\"node\" id=\"node1\"><title>effect</title>\n",
       "<g id=\"a_node1\"><a xlink:title=\"(0) effect\">\n",
       "<ellipse cx=\"30\" cy=\"-90\" fill=\"#444444\" rx=\"30.3206\" ry=\"18\" stroke=\"black\"/>\n",
       "<text fill=\"#ffffff\" font-family=\"Times,serif\" font-size=\"14.00\" text-anchor=\"middle\" x=\"30\" y=\"-86.3\">effect</text>\n",
       "</a>\n",
       "</g>\n",
       "</g>\n",
       "<!-- move -->\n",
       "<g class=\"node\" id=\"node3\"><title>move</title>\n",
       "<g id=\"a_node3\"><a xlink:title=\"(2) move\">\n",
       "<ellipse cx=\"89\" cy=\"-18\" fill=\"#444444\" rx=\"30.3206\" ry=\"18\" stroke=\"black\"/>\n",
       "<text fill=\"#ffffff\" font-family=\"Times,serif\" font-size=\"14.00\" text-anchor=\"middle\" x=\"89\" y=\"-14.3\">move</text>\n",
       "</a>\n",
       "</g>\n",
       "</g>\n",
       "<!-- effect&#45;&gt;move -->\n",
       "<g class=\"edge\" id=\"edge3\"><title>effect-&gt;move</title>\n",
       "<path d=\"M43.094,-73.4647C50.8089,-64.3115 60.7189,-52.5539 69.3555,-42.3071\" fill=\"none\" stroke=\"black\"/>\n",
       "<polygon fill=\"black\" points=\"72.174,-44.3938 75.9426,-34.4918 66.8216,-39.8825 72.174,-44.3938\" stroke=\"black\"/>\n",
       "</g>\n",
       "<!-- orientation -->\n",
       "<g class=\"node\" id=\"node2\"><title>orientation</title>\n",
       "<g id=\"a_node2\"><a xlink:title=\"(1) orientation\">\n",
       "<ellipse cx=\"89\" cy=\"-162\" fill=\"#444444\" rx=\"48.6179\" ry=\"18\" stroke=\"black\"/>\n",
       "<text fill=\"#ffffff\" font-family=\"Times,serif\" font-size=\"14.00\" text-anchor=\"middle\" x=\"89\" y=\"-158.3\">orientation</text>\n",
       "</a>\n",
       "</g>\n",
       "</g>\n",
       "<!-- orientation&#45;&gt;effect -->\n",
       "<g class=\"edge\" id=\"edge2\"><title>orientation-&gt;effect</title>\n",
       "<path d=\"M75.0178,-144.411C67.4571,-135.441 57.9953,-124.215 49.6999,-114.373\" fill=\"none\" stroke=\"black\"/>\n",
       "<polygon fill=\"black\" points=\"52.1944,-111.901 43.0734,-106.511 46.842,-116.413 52.1944,-111.901\" stroke=\"black\"/>\n",
       "</g>\n",
       "<!-- orientation&#45;&gt;move -->\n",
       "<g class=\"edge\" id=\"edge5\"><title>orientation-&gt;move</title>\n",
       "<path d=\"M89,-143.871C89,-119.67 89,-75.2108 89,-46.3932\" fill=\"none\" stroke=\"black\"/>\n",
       "<polygon fill=\"black\" points=\"92.5001,-46.1892 89,-36.1893 85.5001,-46.1893 92.5001,-46.1892\" stroke=\"black\"/>\n",
       "</g>\n",
       "<!-- distance -->\n",
       "<g class=\"node\" id=\"node4\"><title>distance</title>\n",
       "<g id=\"a_node4\"><a xlink:title=\"(3) distance\">\n",
       "<ellipse cx=\"157\" cy=\"-90\" fill=\"#444444\" rx=\"39.4691\" ry=\"18\" stroke=\"black\"/>\n",
       "<text fill=\"#ffffff\" font-family=\"Times,serif\" font-size=\"14.00\" text-anchor=\"middle\" x=\"157\" y=\"-86.3\">distance</text>\n",
       "</a>\n",
       "</g>\n",
       "</g>\n",
       "<!-- orientation&#45;&gt;distance -->\n",
       "<g class=\"edge\" id=\"edge1\"><title>orientation-&gt;distance</title>\n",
       "<path d=\"M104.771,-144.765C113.651,-135.624 124.885,-124.06 134.657,-114\" fill=\"none\" stroke=\"black\"/>\n",
       "<polygon fill=\"black\" points=\"137.324,-116.277 141.782,-106.666 132.303,-111.4 137.324,-116.277\" stroke=\"black\"/>\n",
       "</g>\n",
       "<!-- distance&#45;&gt;move -->\n",
       "<g class=\"edge\" id=\"edge4\"><title>distance-&gt;move</title>\n",
       "<path d=\"M141.57,-73.1159C132.362,-63.6378 120.534,-51.4618 110.43,-41.0603\" fill=\"none\" stroke=\"black\"/>\n",
       "<polygon fill=\"black\" points=\"112.918,-38.598 103.439,-33.8639 107.897,-43.4755 112.918,-38.598\" stroke=\"black\"/>\n",
       "</g>\n",
       "</g>\n",
       "</svg></div>"
      ],
      "text/plain": [
       "<IPython.core.display.HTML object>"
      ]
     },
     "metadata": {},
     "output_type": "display_data"
    }
   ],
   "source": [
    "bn_extended_hand = agrum.loadBN(\"../generated_files/BN_extended_hand-coded.bif\")\n",
    "nb.showBN(bn_extended_hand, size=\"10\")\n",
    "if posterior:\n",
    "    nb.showPosterior(bn_extended_hand,{'effect':_effect, 'orientation':_orientation, 'distance':'remote'},'move')\n",
    "    nb.showPosterior(bn_extended_hand,{'effect':_effect, 'orientation':_orientation, 'distance':'far'},'move')\n",
    "    nb.showPosterior(bn_extended_hand,{'effect':_effect, 'orientation':_orientation, 'distance':'close'},'move')"
   ]
  },
  {
   "cell_type": "code",
   "execution_count": 51,
   "metadata": {
    "collapsed": false
   },
   "outputs": [
    {
     "data": {
      "text/html": [
       "<div align='center'><svg height=\"188pt\" viewBox=\"0.00 0.00 195.00 188.00\" width=\"195pt\" xmlns=\"http://www.w3.org/2000/svg\" xmlns:xlink=\"http://www.w3.org/1999/xlink\">\n",
       "<g class=\"graph\" id=\"graph0\" transform=\"scale(1 1) rotate(0) translate(4 184)\">\n",
       "<title>G</title>\n",
       "<polygon fill=\"white\" points=\"-4,4 -4,-184 191,-184 191,4 -4,4\" stroke=\"none\"/>\n",
       "<!-- effect -->\n",
       "<g class=\"node\" id=\"node1\"><title>effect</title>\n",
       "<g id=\"a_node1\"><a xlink:title=\"(0) effect\">\n",
       "<ellipse cx=\"30\" cy=\"-18\" fill=\"#444444\" rx=\"30.3206\" ry=\"18\" stroke=\"black\"/>\n",
       "<text fill=\"#ffffff\" font-family=\"Times,serif\" font-size=\"14.00\" text-anchor=\"middle\" x=\"30\" y=\"-14.3\">effect</text>\n",
       "</a>\n",
       "</g>\n",
       "</g>\n",
       "<!-- orientation -->\n",
       "<g class=\"node\" id=\"node2\"><title>orientation</title>\n",
       "<g id=\"a_node2\"><a xlink:title=\"(1) orientation\">\n",
       "<ellipse cx=\"60\" cy=\"-162\" fill=\"#444444\" rx=\"48.6179\" ry=\"18\" stroke=\"black\"/>\n",
       "<text fill=\"#ffffff\" font-family=\"Times,serif\" font-size=\"14.00\" text-anchor=\"middle\" x=\"60\" y=\"-158.3\">orientation</text>\n",
       "</a>\n",
       "</g>\n",
       "</g>\n",
       "<!-- orientation&#45;&gt;effect -->\n",
       "<g class=\"edge\" id=\"edge2\"><title>orientation-&gt;effect</title>\n",
       "<path d=\"M43.5154,-144.994C34.6872,-135.241 24.6872,-121.991 20,-108 13.2288,-87.7879 16.5777,-63.7 21.1495,-45.6841\" fill=\"none\" stroke=\"black\"/>\n",
       "<polygon fill=\"black\" points=\"24.5761,-46.4276 23.9153,-35.8534 17.8377,-44.5317 24.5761,-46.4276\" stroke=\"black\"/>\n",
       "</g>\n",
       "<!-- move -->\n",
       "<g class=\"node\" id=\"node3\"><title>move</title>\n",
       "<g id=\"a_node3\"><a xlink:title=\"(2) move\">\n",
       "<ellipse cx=\"60\" cy=\"-90\" fill=\"#444444\" rx=\"30.3206\" ry=\"18\" stroke=\"black\"/>\n",
       "<text fill=\"#ffffff\" font-family=\"Times,serif\" font-size=\"14.00\" text-anchor=\"middle\" x=\"60\" y=\"-86.3\">move</text>\n",
       "</a>\n",
       "</g>\n",
       "</g>\n",
       "<!-- orientation&#45;&gt;move -->\n",
       "<g class=\"edge\" id=\"edge4\"><title>orientation-&gt;move</title>\n",
       "<path d=\"M60,-143.697C60,-135.983 60,-126.712 60,-118.112\" fill=\"none\" stroke=\"black\"/>\n",
       "<polygon fill=\"black\" points=\"63.5001,-118.104 60,-108.104 56.5001,-118.104 63.5001,-118.104\" stroke=\"black\"/>\n",
       "</g>\n",
       "<!-- distance -->\n",
       "<g class=\"node\" id=\"node4\"><title>distance</title>\n",
       "<g id=\"a_node4\"><a xlink:title=\"(3) distance\">\n",
       "<ellipse cx=\"148\" cy=\"-90\" fill=\"#444444\" rx=\"39.4691\" ry=\"18\" stroke=\"black\"/>\n",
       "<text fill=\"#ffffff\" font-family=\"Times,serif\" font-size=\"14.00\" text-anchor=\"middle\" x=\"148\" y=\"-86.3\">distance</text>\n",
       "</a>\n",
       "</g>\n",
       "</g>\n",
       "<!-- orientation&#45;&gt;distance -->\n",
       "<g class=\"edge\" id=\"edge1\"><title>orientation-&gt;distance</title>\n",
       "<path d=\"M79.5301,-145.465C91.7744,-135.725 107.726,-123.036 121.151,-112.357\" fill=\"none\" stroke=\"black\"/>\n",
       "<polygon fill=\"black\" points=\"123.481,-114.976 129.129,-106.011 119.124,-109.498 123.481,-114.976\" stroke=\"black\"/>\n",
       "</g>\n",
       "<!-- move&#45;&gt;effect -->\n",
       "<g class=\"edge\" id=\"edge3\"><title>move-&gt;effect</title>\n",
       "<path d=\"M52.8904,-72.411C49.4294,-64.3352 45.1848,-54.4312 41.2949,-45.3547\" fill=\"none\" stroke=\"black\"/>\n",
       "<polygon fill=\"black\" points=\"44.4232,-43.7689 37.2669,-35.9562 37.9892,-46.5264 44.4232,-43.7689\" stroke=\"black\"/>\n",
       "</g>\n",
       "</g>\n",
       "</svg></div>"
      ],
      "text/plain": [
       "<IPython.core.display.HTML object>"
      ]
     },
     "metadata": {},
     "output_type": "display_data"
    }
   ],
   "source": [
    "bn_extended_hill = agrum.loadBN(\"../generated_files/BN_extended_hillclimbing.bif\")\n",
    "nb.showBN(bn_extended_hill, size=\"10\")\n",
    "if posterior:\n",
    "    nb.showPosterior(bn_extended_hill,{'effect':_effect, 'orientation':_orientation, 'distance':'remote'},'move')\n",
    "    nb.showPosterior(bn_extended_hill,{'effect':_effect, 'orientation':_orientation, 'distance':'far'},'move')\n",
    "    nb.showPosterior(bn_extended_hill,{'effect':_effect, 'orientation':_orientation, 'distance':'close'},'move')"
   ]
  },
  {
   "cell_type": "code",
   "execution_count": 52,
   "metadata": {
    "collapsed": false
   },
   "outputs": [
    {
     "data": {
      "text/html": [
       "<div align='center'><svg height=\"260pt\" viewBox=\"0.00 0.00 134.00 260.00\" width=\"134pt\" xmlns=\"http://www.w3.org/2000/svg\" xmlns:xlink=\"http://www.w3.org/1999/xlink\">\n",
       "<g class=\"graph\" id=\"graph0\" transform=\"scale(1 1) rotate(0) translate(4 256)\">\n",
       "<title>G</title>\n",
       "<polygon fill=\"white\" points=\"-4,4 -4,-256 130,-256 130,4 -4,4\" stroke=\"none\"/>\n",
       "<!-- effect -->\n",
       "<g class=\"node\" id=\"node1\"><title>effect</title>\n",
       "<g id=\"a_node1\"><a xlink:title=\"(0) effect\">\n",
       "<ellipse cx=\"39\" cy=\"-18\" fill=\"#444444\" rx=\"30.3206\" ry=\"18\" stroke=\"black\"/>\n",
       "<text fill=\"#ffffff\" font-family=\"Times,serif\" font-size=\"14.00\" text-anchor=\"middle\" x=\"39\" y=\"-14.3\">effect</text>\n",
       "</a>\n",
       "</g>\n",
       "</g>\n",
       "<!-- orientation -->\n",
       "<g class=\"node\" id=\"node2\"><title>orientation</title>\n",
       "<g id=\"a_node2\"><a xlink:title=\"(1) orientation\">\n",
       "<ellipse cx=\"78\" cy=\"-90\" fill=\"#444444\" rx=\"48.6179\" ry=\"18\" stroke=\"black\"/>\n",
       "<text fill=\"#ffffff\" font-family=\"Times,serif\" font-size=\"14.00\" text-anchor=\"middle\" x=\"78\" y=\"-86.3\">orientation</text>\n",
       "</a>\n",
       "</g>\n",
       "</g>\n",
       "<!-- orientation&#45;&gt;effect -->\n",
       "<g class=\"edge\" id=\"edge1\"><title>orientation-&gt;effect</title>\n",
       "<path d=\"M68.5592,-72.055C63.8927,-63.6793 58.1679,-53.4039 53.0033,-44.1341\" fill=\"none\" stroke=\"black\"/>\n",
       "<polygon fill=\"black\" points=\"56.0099,-42.3392 48.0853,-35.307 49.8949,-45.7462 56.0099,-42.3392\" stroke=\"black\"/>\n",
       "</g>\n",
       "<!-- move -->\n",
       "<g class=\"node\" id=\"node3\"><title>move</title>\n",
       "<g id=\"a_node3\"><a xlink:title=\"(2) move\">\n",
       "<ellipse cx=\"39\" cy=\"-162\" fill=\"#444444\" rx=\"30.3206\" ry=\"18\" stroke=\"black\"/>\n",
       "<text fill=\"#ffffff\" font-family=\"Times,serif\" font-size=\"14.00\" text-anchor=\"middle\" x=\"39\" y=\"-158.3\">move</text>\n",
       "</a>\n",
       "</g>\n",
       "</g>\n",
       "<!-- move&#45;&gt;effect -->\n",
       "<g class=\"edge\" id=\"edge3\"><title>move-&gt;effect</title>\n",
       "<path d=\"M31.3042,-144.22C27.0418,-133.991 22.1762,-120.519 20,-108 17.2598,-92.2364 17.2598,-87.7636 20,-72 21.5642,-63.0016 24.5177,-53.5113 27.6379,-45.087\" fill=\"none\" stroke=\"black\"/>\n",
       "<polygon fill=\"black\" points=\"30.8953,-46.3674 31.3042,-35.7805 24.3824,-43.8017 30.8953,-46.3674\" stroke=\"black\"/>\n",
       "</g>\n",
       "<!-- move&#45;&gt;orientation -->\n",
       "<g class=\"edge\" id=\"edge4\"><title>move-&gt;orientation</title>\n",
       "<path d=\"M48.0454,-144.765C52.6358,-136.525 58.3236,-126.317 63.5056,-117.016\" fill=\"none\" stroke=\"black\"/>\n",
       "<polygon fill=\"black\" points=\"66.6499,-118.563 68.4595,-108.124 60.535,-115.156 66.6499,-118.563\" stroke=\"black\"/>\n",
       "</g>\n",
       "<!-- distance -->\n",
       "<g class=\"node\" id=\"node4\"><title>distance</title>\n",
       "<g id=\"a_node4\"><a xlink:title=\"(3) distance\">\n",
       "<ellipse cx=\"39\" cy=\"-234\" fill=\"#444444\" rx=\"39.4691\" ry=\"18\" stroke=\"black\"/>\n",
       "<text fill=\"#ffffff\" font-family=\"Times,serif\" font-size=\"14.00\" text-anchor=\"middle\" x=\"39\" y=\"-230.3\">distance</text>\n",
       "</a>\n",
       "</g>\n",
       "</g>\n",
       "<!-- distance&#45;&gt;move -->\n",
       "<g class=\"edge\" id=\"edge2\"><title>distance-&gt;move</title>\n",
       "<path d=\"M39,-215.697C39,-207.983 39,-198.712 39,-190.112\" fill=\"none\" stroke=\"black\"/>\n",
       "<polygon fill=\"black\" points=\"42.5001,-190.104 39,-180.104 35.5001,-190.104 42.5001,-190.104\" stroke=\"black\"/>\n",
       "</g>\n",
       "</g>\n",
       "</svg></div>"
      ],
      "text/plain": [
       "<IPython.core.display.HTML object>"
      ]
     },
     "metadata": {},
     "output_type": "display_data"
    }
   ],
   "source": [
    "bn_extended_k2 = agrum.loadBN(\"../generated_files/BN_extended_k2.bif\")\n",
    "nb.showBN(bn_extended_k2, size=\"10\")\n",
    "if posterior:\n",
    "    nb.showPosterior(bn_extended_k2,{'effect':_effect, 'orientation':_orientation, 'distance':'remote'},'move')\n",
    "    nb.showPosterior(bn_extended_k2,{'effect':_effect, 'orientation':_orientation, 'distance':'far'},'move')\n",
    "    nb.showPosterior(bn_extended_k2,{'effect':_effect, 'orientation':_orientation, 'distance':'close'},'move')"
   ]
  },
  {
   "cell_type": "code",
   "execution_count": null,
   "metadata": {
    "collapsed": true
   },
   "outputs": [],
   "source": []
  }
 ],
 "metadata": {
  "kernelspec": {
   "display_name": "Python 2",
   "language": "python",
   "name": "python2"
  },
  "language_info": {
   "codemirror_mode": {
    "name": "ipython",
    "version": 2
   },
   "file_extension": ".py",
   "mimetype": "text/x-python",
   "name": "python",
   "nbconvert_exporter": "python",
   "pygments_lexer": "ipython2",
   "version": "2.7.6"
  }
 },
 "nbformat": 4,
 "nbformat_minor": 0
}
