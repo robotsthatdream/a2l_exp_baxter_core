{
 "cells": [
  {
   "cell_type": "code",
   "execution_count": 4,
   "metadata": {
    "collapsed": false
   },
   "outputs": [
    {
     "name": "stderr",
     "output_type": "stream",
     "text": [
      "/usr/lib/pymodules/python2.7/matplotlib/__init__.py:935: UserWarning: Bad val \"1\" on line #398\n",
      "\t\"pdf.fonttype       : 1         # Output Type 3 (Type3) or Type 42 (TrueType)\n",
      "\"\n",
      "\tin file \"/etc/matplotlibrc\"\n",
      "\tSupported Postscript/PDF font types are [42, 3]\n",
      "  \"%s\"\\n\\t%s' % (val, cnt, line, fname, msg))\n"
     ]
    }
   ],
   "source": [
    "%matplotlib inline\n",
    "from pylab import *\n",
    "import matplotlib.pyplot as plt\n",
    "\n",
    "import pyAgrum as agrum\n",
    "import pyAgrum.lib.notebook as nb\n",
    "#gum.about()"
   ]
  },
  {
   "cell_type": "code",
   "execution_count": null,
   "metadata": {
    "collapsed": true
   },
   "outputs": [],
   "source": [
    "''' Learn BNs '''"
   ]
  },
  {
   "cell_type": "code",
   "execution_count": 147,
   "metadata": {
    "collapsed": false
   },
   "outputs": [
    {
     "name": "stdout",
     "output_type": "stream",
     "text": [
      "Overwriting simpleBN.py\n"
     ]
    }
   ],
   "source": [
    "%%writefile simpleBN.py\n",
    "\"\"\"\n",
    "@author: maestre\n",
    "\"\"\"\n",
    "\n",
    "from __future__ import print_function\n",
    "import pyAgrum as agrum\n",
    "\n",
    "import os, sys\n",
    "run_path = os.path.abspath(os.path.join('..'))\n",
    "sys.path.append(run_path)\n",
    "import simulation_parameters as sim_param\n",
    "\n",
    "'''\n",
    "Create and learn BN, and setup inference\n",
    "'''\n",
    "def learn_bn(filepath, learn_algo):\n",
    "    try:\n",
    "        learner=agrum.BNLearner(filepath)\n",
    "    except IOError as e:\n",
    "        print (\"learn_and_create_bn - I/O error({0}): {1}\".format(e.errno, e.strerror))\n",
    "        exit        \n",
    "    \n",
    "    ''' Select learning method '''\n",
    "    if learn_algo == 'hand-coded':    \n",
    "        learner.addMandatoryArc(0,2)    \n",
    "        learner.addMandatoryArc(1,2)\n",
    "        if sim_param.distance_param:\n",
    "            learner.addMandatoryArc(3,2)\n",
    "    elif learn_algo == 'hillclimbing':\n",
    "        learner.useGreedyHillClimbing()\n",
    "    elif learn_algo == 'tabu':\n",
    "        learner.useLocalSearchWithTabuList()\n",
    "    elif learn_algo == 'k2':\n",
    "        learner.useK2([3,2,1,0])\n",
    "        \n",
    "    else:\n",
    "        print('ERROR - learn_bn : there was a problem while selecting the learner')\n",
    "        sys.exit()\n",
    "\n",
    "    ''' Select score (BDEU by default)'''\n",
    "    if sim_param.score_likelihood:\n",
    "        learner.useScoreLog2Likelihood()\n",
    "        learner.setMaxIndegree(2)\n",
    "    \n",
    "    if sim_param.score_bic:\n",
    "        learner.useScoreBIC\n",
    "        \n",
    "    if sim_param.score_aic:\n",
    "        learner.useScoreAIC\n",
    "        \n",
    "    bn=learner.learnBN()\n",
    "    print(\"BN learned.\\n\", bn)\n",
    "    return bn   \n",
    "    \n",
    "'''\n",
    "Save BN\n",
    "'''\n",
    "def save_bn(bn, bn_url):\n",
    "    agrum.saveBN(bn,bn_url)\n",
    "    print(\"BN saved in \" + bn_url)\n",
    "    \n",
    "if __name__ == \"__main__\":\n",
    "    dataset_filepath = '../generated_files/directed_discr_wps.csv'\n",
    "    #dataset_filepath = '../generated_files/random_discr_wps.csv'\n",
    "    \n",
    "    #learn_algo = 'hand-coded'    \n",
    "    #learn_algo = 'hillclimbing'\n",
    "    #learn_algo = 'k2'\n",
    "    learn_algo_vector = ['hand-coded', 'hillclimbing', 'k2']\n",
    "    \n",
    "    for algo in learn_algo_vector:\n",
    "        print(\"\\n\" + algo.upper())\n",
    "        bn = learn_bn(dataset_filepath, algo)    \n",
    "        bn_filepath = '../generated_files/BN_' + algo + '.bif'\n",
    "        save_bn(bn, bn_filepath)\n",
    "        \n",
    "    print('Done.')"
   ]
  },
  {
   "cell_type": "code",
   "execution_count": 148,
   "metadata": {
    "collapsed": false
   },
   "outputs": [
    {
     "name": "stdout",
     "output_type": "stream",
     "text": [
      "\n",
      " HAND-CODED\n",
      "BN learned.\n",
      " BN{nodes: 4, arcs: 4, domainSize: 768, parameters: 811, compression ratio: -5% }\n",
      "BN saved in ../generated_files/BN_hand-coded.bif\n",
      "\n",
      " HILLCLIMBING\n",
      "BN learned.\n",
      " BN{nodes: 4, arcs: 2, domainSize: 768, parameters: 107, compression ratio: 86% }\n",
      "BN saved in ../generated_files/BN_hillclimbing.bif\n",
      "\n",
      " K2\n",
      "BN learned.\n",
      " BN{nodes: 4, arcs: 2, domainSize: 768, parameters: 107, compression ratio: 86% }\n",
      "BN saved in ../generated_files/BN_k2.bif\n",
      "Done.\n"
     ]
    }
   ],
   "source": [
    "%run simpleBN.py"
   ]
  },
  {
   "cell_type": "code",
   "execution_count": null,
   "metadata": {
    "collapsed": true
   },
   "outputs": [],
   "source": []
  }
 ],
 "metadata": {
  "kernelspec": {
   "display_name": "Python 2",
   "language": "python",
   "name": "python2"
  },
  "language_info": {
   "codemirror_mode": {
    "name": "ipython",
    "version": 2
   },
   "file_extension": ".py",
   "mimetype": "text/x-python",
   "name": "python",
   "nbconvert_exporter": "python",
   "pygments_lexer": "ipython2",
   "version": "2.7.6"
  }
 },
 "nbformat": 4,
 "nbformat_minor": 0
}
