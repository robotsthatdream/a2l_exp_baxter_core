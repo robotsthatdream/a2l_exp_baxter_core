{
 "cells": [
  {
   "cell_type": "code",
   "execution_count": 1,
   "metadata": {
    "collapsed": false
   },
   "outputs": [
    {
     "name": "stderr",
     "output_type": "stream",
     "text": [
      "/usr/lib/pymodules/python2.7/matplotlib/__init__.py:935: UserWarning: Bad val \"1\" on line #398\n",
      "\t\"pdf.fonttype       : 1         # Output Type 3 (Type3) or Type 42 (TrueType)\n",
      "\"\n",
      "\tin file \"/etc/matplotlibrc\"\n",
      "\tSupported Postscript/PDF font types are [42, 3]\n",
      "  \"%s\"\\n\\t%s' % (val, cnt, line, fname, msg))\n"
     ]
    }
   ],
   "source": [
    "%matplotlib inline\n",
    "from pylab import *\n",
    "import matplotlib.pyplot as plt\n",
    "\n",
    "import pyAgrum as agrum\n",
    "import pyAgrum.lib.notebook as nb"
   ]
  },
  {
   "cell_type": "code",
   "execution_count": 2,
   "metadata": {
    "collapsed": false
   },
   "outputs": [
    {
     "data": {
      "text/plain": [
       "'\\n\\nDIRECTED\\n\\n'"
      ]
     },
     "execution_count": 2,
     "metadata": {},
     "output_type": "execute_result"
    }
   ],
   "source": [
    "'''\n",
    "\n",
    "DIRECTED\n",
    "\n",
    "'''"
   ]
  },
  {
   "cell_type": "code",
   "execution_count": 3,
   "metadata": {
    "collapsed": true
   },
   "outputs": [],
   "source": [
    "''' PRINT BN AND STATISTICS'''\n",
    "_effect = 'left'\n",
    "_orientation = 'down'"
   ]
  },
  {
   "cell_type": "code",
   "execution_count": 7,
   "metadata": {
    "collapsed": false
   },
   "outputs": [
    {
     "data": {
      "text/html": [
       "<div align='center'><svg height=\"188pt\" viewBox=\"0.00 0.00 242.00 188.00\" width=\"242pt\" xmlns=\"http://www.w3.org/2000/svg\" xmlns:xlink=\"http://www.w3.org/1999/xlink\">\n",
       "<g class=\"graph\" id=\"graph0\" transform=\"scale(1 1) rotate(0) translate(4 184)\">\n",
       "<title>G</title>\n",
       "<polygon fill=\"white\" points=\"-4,4 -4,-184 238,-184 238,4 -4,4\" stroke=\"none\"/>\n",
       "<!-- effect -->\n",
       "<g class=\"node\" id=\"node1\"><title>effect</title>\n",
       "<g id=\"a_node1\"><a xlink:title=\"(0) effect\">\n",
       "<ellipse cx=\"30\" cy=\"-90\" fill=\"#444444\" rx=\"30.3206\" ry=\"18\" stroke=\"black\"/>\n",
       "<text fill=\"#ffffff\" font-family=\"Times,serif\" font-size=\"14.00\" text-anchor=\"middle\" x=\"30\" y=\"-86.3\">effect</text>\n",
       "</a>\n",
       "</g>\n",
       "</g>\n",
       "<!-- move -->\n",
       "<g class=\"node\" id=\"node4\"><title>move</title>\n",
       "<g id=\"a_node4\"><a xlink:title=\"(3) move\">\n",
       "<ellipse cx=\"108\" cy=\"-18\" fill=\"#444444\" rx=\"30.3206\" ry=\"18\" stroke=\"black\"/>\n",
       "<text fill=\"#ffffff\" font-family=\"Times,serif\" font-size=\"14.00\" text-anchor=\"middle\" x=\"108\" y=\"-14.3\">move</text>\n",
       "</a>\n",
       "</g>\n",
       "</g>\n",
       "<!-- effect&#45;&gt;move -->\n",
       "<g class=\"edge\" id=\"edge5\"><title>effect-&gt;move</title>\n",
       "<path d=\"M46.1617,-74.496C57.1429,-64.6409 71.8542,-51.4386 84.1727,-40.3834\" fill=\"none\" stroke=\"black\"/>\n",
       "<polygon fill=\"black\" points=\"86.7543,-42.7695 91.8591,-33.4855 82.0789,-37.5597 86.7543,-42.7695\" stroke=\"black\"/>\n",
       "</g>\n",
       "<!-- orientation -->\n",
       "<g class=\"node\" id=\"node2\"><title>orientation</title>\n",
       "<g id=\"a_node2\"><a xlink:title=\"(1) orientation\">\n",
       "<ellipse cx=\"55\" cy=\"-162\" fill=\"#444444\" rx=\"48.6179\" ry=\"18\" stroke=\"black\"/>\n",
       "<text fill=\"#ffffff\" font-family=\"Times,serif\" font-size=\"14.00\" text-anchor=\"middle\" x=\"55\" y=\"-158.3\">orientation</text>\n",
       "</a>\n",
       "</g>\n",
       "</g>\n",
       "<!-- orientation&#45;&gt;effect -->\n",
       "<g class=\"edge\" id=\"edge3\"><title>orientation-&gt;effect</title>\n",
       "<path d=\"M48.9482,-144.055C46.0924,-136.059 42.6181,-126.331 39.4284,-117.4\" fill=\"none\" stroke=\"black\"/>\n",
       "<polygon fill=\"black\" points=\"42.6556,-116.029 35.9961,-107.789 36.0634,-118.384 42.6556,-116.029\" stroke=\"black\"/>\n",
       "</g>\n",
       "<!-- orientation&#45;&gt;move -->\n",
       "<g class=\"edge\" id=\"edge2\"><title>orientation-&gt;move</title>\n",
       "<path d=\"M61.393,-143.871C70.5547,-119.325 87.4948,-73.9384 98.2324,-45.1697\" fill=\"none\" stroke=\"black\"/>\n",
       "<polygon fill=\"black\" points=\"101.531,-46.3409 101.749,-35.7483 94.973,-43.8931 101.531,-46.3409\" stroke=\"black\"/>\n",
       "</g>\n",
       "<!-- inclination -->\n",
       "<g class=\"node\" id=\"node3\"><title>inclination</title>\n",
       "<g id=\"a_node3\"><a xlink:title=\"(2) inclination\">\n",
       "<ellipse cx=\"182\" cy=\"-162\" fill=\"#444444\" rx=\"48.1437\" ry=\"18\" stroke=\"black\"/>\n",
       "<text fill=\"#ffffff\" font-family=\"Times,serif\" font-size=\"14.00\" text-anchor=\"middle\" x=\"182\" y=\"-158.3\">inclination</text>\n",
       "</a>\n",
       "</g>\n",
       "</g>\n",
       "<!-- inclination&#45;&gt;move -->\n",
       "<g class=\"edge\" id=\"edge4\"><title>inclination-&gt;move</title>\n",
       "<path d=\"M169.461,-144.343C162.109,-134.158 152.934,-120.689 146,-108 134.904,-87.6933 124.748,-63.4748 117.732,-45.4319\" fill=\"none\" stroke=\"black\"/>\n",
       "<polygon fill=\"black\" points=\"120.912,-43.9481 114.077,-35.8533 114.372,-46.4441 120.912,-43.9481\" stroke=\"black\"/>\n",
       "</g>\n",
       "<!-- distance -->\n",
       "<g class=\"node\" id=\"node5\"><title>distance</title>\n",
       "<g id=\"a_node5\"><a xlink:title=\"(4) distance\">\n",
       "<ellipse cx=\"195\" cy=\"-90\" fill=\"#444444\" rx=\"39.4691\" ry=\"18\" stroke=\"black\"/>\n",
       "<text fill=\"#ffffff\" font-family=\"Times,serif\" font-size=\"14.00\" text-anchor=\"middle\" x=\"195\" y=\"-86.3\">distance</text>\n",
       "</a>\n",
       "</g>\n",
       "</g>\n",
       "<!-- inclination&#45;&gt;distance -->\n",
       "<g class=\"edge\" id=\"edge6\"><title>inclination-&gt;distance</title>\n",
       "<path d=\"M185.213,-143.697C186.646,-135.983 188.368,-126.712 189.965,-118.112\" fill=\"none\" stroke=\"black\"/>\n",
       "<polygon fill=\"black\" points=\"193.439,-118.575 191.823,-108.104 186.556,-117.297 193.439,-118.575\" stroke=\"black\"/>\n",
       "</g>\n",
       "<!-- distance&#45;&gt;move -->\n",
       "<g class=\"edge\" id=\"edge1\"><title>distance-&gt;move</title>\n",
       "<path d=\"M176.122,-73.811C163.624,-63.7548 147.082,-50.445 133.428,-39.4595\" fill=\"none\" stroke=\"black\"/>\n",
       "<polygon fill=\"black\" points=\"135.348,-36.5117 125.362,-32.9698 130.96,-41.9655 135.348,-36.5117\" stroke=\"black\"/>\n",
       "</g>\n",
       "</g>\n",
       "</svg></div>"
      ],
      "text/plain": [
       "<IPython.core.display.HTML object>"
      ]
     },
     "metadata": {},
     "output_type": "display_data"
    }
   ],
   "source": [
    "bn_dir_hard = agrum.loadBN(\"../generated_files/BN_directed_hard-coded.bif\")\n",
    "nb.showBN(bn_dir_hand, size=\"10\")\n",
    "#nb.showPosterior(bn_dir_hand,{'effect':_effect, 'orientation':_orientation, 'distance':'remote'},'move')\n",
    "#nb.showPosterior(bn_dir_hand,{'effect':_effect, 'orientation':_orientation, 'distance':'far'},'move')\n",
    "#nb.showPosterior(bn_dir_hand,{'effect':_effect, 'orientation':_orientation, 'distance':'close'},'move')"
   ]
  },
  {
   "cell_type": "code",
   "execution_count": 15,
   "metadata": {
    "collapsed": false
   },
   "outputs": [
    {
     "data": {
      "text/html": [
       "<div align='center'><svg height=\"188pt\" viewBox=\"0.00 0.00 183.00 188.00\" width=\"183pt\" xmlns=\"http://www.w3.org/2000/svg\" xmlns:xlink=\"http://www.w3.org/1999/xlink\">\n",
       "<g class=\"graph\" id=\"graph0\" transform=\"scale(1 1) rotate(0) translate(4 184)\">\n",
       "<title>G</title>\n",
       "<polygon fill=\"white\" points=\"-4,4 -4,-184 179,-184 179,4 -4,4\" stroke=\"none\"/>\n",
       "<!-- effect -->\n",
       "<g class=\"node\" id=\"node1\"><title>effect</title>\n",
       "<g id=\"a_node1\"><a xlink:title=\"(0) effect\">\n",
       "<ellipse cx=\"48\" cy=\"-18\" fill=\"#444444\" rx=\"30.3206\" ry=\"18\" stroke=\"black\"/>\n",
       "<text fill=\"#ffffff\" font-family=\"Times,serif\" font-size=\"14.00\" text-anchor=\"middle\" x=\"48\" y=\"-14.3\">effect</text>\n",
       "</a>\n",
       "</g>\n",
       "</g>\n",
       "<!-- orientation -->\n",
       "<g class=\"node\" id=\"node2\"><title>orientation</title>\n",
       "<g id=\"a_node2\"><a xlink:title=\"(1) orientation\">\n",
       "<ellipse cx=\"48\" cy=\"-90\" fill=\"#444444\" rx=\"48.6179\" ry=\"18\" stroke=\"black\"/>\n",
       "<text fill=\"#ffffff\" font-family=\"Times,serif\" font-size=\"14.00\" text-anchor=\"middle\" x=\"48\" y=\"-86.3\">orientation</text>\n",
       "</a>\n",
       "</g>\n",
       "</g>\n",
       "<!-- orientation&#45;&gt;effect -->\n",
       "<g class=\"edge\" id=\"edge1\"><title>orientation-&gt;effect</title>\n",
       "<path d=\"M48,-71.6966C48,-63.9827 48,-54.7125 48,-46.1124\" fill=\"none\" stroke=\"black\"/>\n",
       "<polygon fill=\"black\" points=\"51.5001,-46.1043 48,-36.1043 44.5001,-46.1044 51.5001,-46.1043\" stroke=\"black\"/>\n",
       "</g>\n",
       "<!-- move -->\n",
       "<g class=\"node\" id=\"node3\"><title>move</title>\n",
       "<g id=\"a_node3\"><a xlink:title=\"(2) move\">\n",
       "<ellipse cx=\"48\" cy=\"-162\" fill=\"#444444\" rx=\"30.3206\" ry=\"18\" stroke=\"black\"/>\n",
       "<text fill=\"#ffffff\" font-family=\"Times,serif\" font-size=\"14.00\" text-anchor=\"middle\" x=\"48\" y=\"-158.3\">move</text>\n",
       "</a>\n",
       "</g>\n",
       "</g>\n",
       "<!-- move&#45;&gt;orientation -->\n",
       "<g class=\"edge\" id=\"edge2\"><title>move-&gt;orientation</title>\n",
       "<path d=\"M48,-143.697C48,-135.983 48,-126.712 48,-118.112\" fill=\"none\" stroke=\"black\"/>\n",
       "<polygon fill=\"black\" points=\"51.5001,-118.104 48,-108.104 44.5001,-118.104 51.5001,-118.104\" stroke=\"black\"/>\n",
       "</g>\n",
       "<!-- distance -->\n",
       "<g class=\"node\" id=\"node4\"><title>distance</title>\n",
       "<g id=\"a_node4\"><a xlink:title=\"(3) distance\">\n",
       "<ellipse cx=\"136\" cy=\"-162\" fill=\"#444444\" rx=\"39.4691\" ry=\"18\" stroke=\"black\"/>\n",
       "<text fill=\"#ffffff\" font-family=\"Times,serif\" font-size=\"14.00\" text-anchor=\"middle\" x=\"136\" y=\"-158.3\">distance</text>\n",
       "</a>\n",
       "</g>\n",
       "</g>\n",
       "</g>\n",
       "</svg></div>"
      ],
      "text/plain": [
       "<IPython.core.display.HTML object>"
      ]
     },
     "metadata": {},
     "output_type": "display_data"
    },
    {
     "data": {
      "image/png": "[encoded data removed]",
      "text/plain": [
       "<matplotlib.figure.Figure at 0x7f51de65b390>"
      ]
     },
     "metadata": {},
     "output_type": "display_data"
    },
    {
     "data": {
      "image/png": "[encoded data removed]",
      "text/plain": [
       "<matplotlib.figure.Figure at 0x7f51de6b1790>"
      ]
     },
     "metadata": {},
     "output_type": "display_data"
    },
    {
     "data": {
      "image/png": "[encoded data removed]",
      "text/plain": [
       "<matplotlib.figure.Figure at 0x7f51de6bae10>"
      ]
     },
     "metadata": {},
     "output_type": "display_data"
    }
   ],
   "source": [
    "bn_dir_hill = agrum.loadBN(\"../generated_files/BN_directed_hillclimbing.bif\")\n",
    "nb.showBN(bn_dir_hill, size=\"10\")\n",
    "nb.showPosterior(bn_dir_hill,{'effect':_effect, 'orientation':_orientation, 'distance':'remote'},'move')\n",
    "nb.showPosterior(bn_dir_hill,{'effect':_effect, 'orientation':_orientation, 'distance':'far'},'move')\n",
    "nb.showPosterior(bn_dir_hill,{'effect':_effect, 'orientation':_orientation, 'distance':'close'},'move')"
   ]
  },
  {
   "cell_type": "code",
   "execution_count": 16,
   "metadata": {
    "collapsed": false
   },
   "outputs": [
    {
     "data": {
      "text/html": [
       "<div align='center'><svg height=\"188pt\" viewBox=\"0.00 0.00 183.00 188.00\" width=\"183pt\" xmlns=\"http://www.w3.org/2000/svg\" xmlns:xlink=\"http://www.w3.org/1999/xlink\">\n",
       "<g class=\"graph\" id=\"graph0\" transform=\"scale(1 1) rotate(0) translate(4 184)\">\n",
       "<title>G</title>\n",
       "<polygon fill=\"white\" points=\"-4,4 -4,-184 179,-184 179,4 -4,4\" stroke=\"none\"/>\n",
       "<!-- effect -->\n",
       "<g class=\"node\" id=\"node1\"><title>effect</title>\n",
       "<g id=\"a_node1\"><a xlink:title=\"(0) effect\">\n",
       "<ellipse cx=\"48\" cy=\"-18\" fill=\"#444444\" rx=\"30.3206\" ry=\"18\" stroke=\"black\"/>\n",
       "<text fill=\"#ffffff\" font-family=\"Times,serif\" font-size=\"14.00\" text-anchor=\"middle\" x=\"48\" y=\"-14.3\">effect</text>\n",
       "</a>\n",
       "</g>\n",
       "</g>\n",
       "<!-- orientation -->\n",
       "<g class=\"node\" id=\"node2\"><title>orientation</title>\n",
       "<g id=\"a_node2\"><a xlink:title=\"(1) orientation\">\n",
       "<ellipse cx=\"48\" cy=\"-90\" fill=\"#444444\" rx=\"48.6179\" ry=\"18\" stroke=\"black\"/>\n",
       "<text fill=\"#ffffff\" font-family=\"Times,serif\" font-size=\"14.00\" text-anchor=\"middle\" x=\"48\" y=\"-86.3\">orientation</text>\n",
       "</a>\n",
       "</g>\n",
       "</g>\n",
       "<!-- orientation&#45;&gt;effect -->\n",
       "<g class=\"edge\" id=\"edge1\"><title>orientation-&gt;effect</title>\n",
       "<path d=\"M48,-71.6966C48,-63.9827 48,-54.7125 48,-46.1124\" fill=\"none\" stroke=\"black\"/>\n",
       "<polygon fill=\"black\" points=\"51.5001,-46.1043 48,-36.1043 44.5001,-46.1044 51.5001,-46.1043\" stroke=\"black\"/>\n",
       "</g>\n",
       "<!-- move -->\n",
       "<g class=\"node\" id=\"node3\"><title>move</title>\n",
       "<g id=\"a_node3\"><a xlink:title=\"(2) move\">\n",
       "<ellipse cx=\"48\" cy=\"-162\" fill=\"#444444\" rx=\"30.3206\" ry=\"18\" stroke=\"black\"/>\n",
       "<text fill=\"#ffffff\" font-family=\"Times,serif\" font-size=\"14.00\" text-anchor=\"middle\" x=\"48\" y=\"-158.3\">move</text>\n",
       "</a>\n",
       "</g>\n",
       "</g>\n",
       "<!-- move&#45;&gt;orientation -->\n",
       "<g class=\"edge\" id=\"edge2\"><title>move-&gt;orientation</title>\n",
       "<path d=\"M48,-143.697C48,-135.983 48,-126.712 48,-118.112\" fill=\"none\" stroke=\"black\"/>\n",
       "<polygon fill=\"black\" points=\"51.5001,-118.104 48,-108.104 44.5001,-118.104 51.5001,-118.104\" stroke=\"black\"/>\n",
       "</g>\n",
       "<!-- distance -->\n",
       "<g class=\"node\" id=\"node4\"><title>distance</title>\n",
       "<g id=\"a_node4\"><a xlink:title=\"(3) distance\">\n",
       "<ellipse cx=\"136\" cy=\"-162\" fill=\"#444444\" rx=\"39.4691\" ry=\"18\" stroke=\"black\"/>\n",
       "<text fill=\"#ffffff\" font-family=\"Times,serif\" font-size=\"14.00\" text-anchor=\"middle\" x=\"136\" y=\"-158.3\">distance</text>\n",
       "</a>\n",
       "</g>\n",
       "</g>\n",
       "</g>\n",
       "</svg></div>"
      ],
      "text/plain": [
       "<IPython.core.display.HTML object>"
      ]
     },
     "metadata": {},
     "output_type": "display_data"
    },
    {
     "data": {
      "image/png": "[encoded data removed]",
      "text/plain": [
       "<matplotlib.figure.Figure at 0x7f51de4615d0>"
      ]
     },
     "metadata": {},
     "output_type": "display_data"
    },
    {
     "data": {
      "image/png": "[encoded data removed]",
      "text/plain": [
       "<matplotlib.figure.Figure at 0x7f51de687090>"
      ]
     },
     "metadata": {},
     "output_type": "display_data"
    },
    {
     "data": {
      "image/png": "[encoded data removed]",
      "text/plain": [
       "<matplotlib.figure.Figure at 0x7f51ddf59ed0>"
      ]
     },
     "metadata": {},
     "output_type": "display_data"
    }
   ],
   "source": [
    "bn_dir_k2 = agrum.loadBN(\"../generated_files/BN_directed_k2.bif\")\n",
    "nb.showBN(bn_dir_k2, size=\"10\")\n",
    "nb.showPosterior(bn_dir_k2,{'effect':_effect, 'orientation':_orientation, 'distance':'remote'},'move')\n",
    "nb.showPosterior(bn_dir_k2,{'effect':_effect, 'orientation':_orientation, 'distance':'far'},'move')\n",
    "nb.showPosterior(bn_dir_k2,{'effect':_effect, 'orientation':_orientation, 'distance':'close'},'move')"
   ]
  },
  {
   "cell_type": "code",
   "execution_count": null,
   "metadata": {
    "collapsed": true
   },
   "outputs": [],
   "source": []
  },
  {
   "cell_type": "code",
   "execution_count": null,
   "metadata": {
    "collapsed": true
   },
   "outputs": [],
   "source": []
  }
 ],
 "metadata": {
  "kernelspec": {
   "display_name": "Python 2",
   "language": "python",
   "name": "python2"
  },
  "language_info": {
   "codemirror_mode": {
    "name": "ipython",
    "version": 2
   },
   "file_extension": ".py",
   "mimetype": "text/x-python",
   "name": "python",
   "nbconvert_exporter": "python",
   "pygments_lexer": "ipython2",
   "version": "2.7.6"
  }
 },
 "nbformat": 4,
 "nbformat_minor": 0
}
